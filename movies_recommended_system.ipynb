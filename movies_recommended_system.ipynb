{
 "cells": [
  {
   "cell_type": "code",
   "execution_count": 1,
   "id": "aa934557-e2ff-4b28-a4bc-db49ed527ea4",
   "metadata": {},
   "outputs": [],
   "source": [
    "import pandas as pd\n",
    "import numpy as np"
   ]
  },
  {
   "cell_type": "code",
   "execution_count": 2,
   "id": "2fd09930-78f9-4bb2-8014-3c44d93461a5",
   "metadata": {},
   "outputs": [],
   "source": [
    "df_movies = pd.read_csv('tmdb_5000_movies.csv')\n",
    "df_credits = pd.read_csv('tmdb_5000_credits.csv')"
   ]
  },
  {
   "cell_type": "code",
   "execution_count": 3,
   "id": "78dc0b51-2ea1-4eb4-baec-e12cb507a99a",
   "metadata": {},
   "outputs": [
    {
     "name": "stdout",
     "output_type": "stream",
     "text": [
      "(4803, 20)\n",
      "(4803, 4)\n"
     ]
    }
   ],
   "source": [
    "print(df_movies.shape)\n",
    "print(df_credits.shape)"
   ]
  },
  {
   "cell_type": "code",
   "execution_count": 4,
   "id": "f5c6c1dd-6edc-41de-943d-6c7c6674a25a",
   "metadata": {},
   "outputs": [
    {
     "data": {
      "text/html": [
       "<div>\n",
       "<style scoped>\n",
       "    .dataframe tbody tr th:only-of-type {\n",
       "        vertical-align: middle;\n",
       "    }\n",
       "\n",
       "    .dataframe tbody tr th {\n",
       "        vertical-align: top;\n",
       "    }\n",
       "\n",
       "    .dataframe thead th {\n",
       "        text-align: right;\n",
       "    }\n",
       "</style>\n",
       "<table border=\"1\" class=\"dataframe\">\n",
       "  <thead>\n",
       "    <tr style=\"text-align: right;\">\n",
       "      <th></th>\n",
       "      <th>budget</th>\n",
       "      <th>genres</th>\n",
       "      <th>homepage</th>\n",
       "      <th>id</th>\n",
       "      <th>keywords</th>\n",
       "      <th>original_language</th>\n",
       "      <th>original_title</th>\n",
       "      <th>overview</th>\n",
       "      <th>popularity</th>\n",
       "      <th>production_companies</th>\n",
       "      <th>production_countries</th>\n",
       "      <th>release_date</th>\n",
       "      <th>revenue</th>\n",
       "      <th>runtime</th>\n",
       "      <th>spoken_languages</th>\n",
       "      <th>status</th>\n",
       "      <th>tagline</th>\n",
       "      <th>title</th>\n",
       "      <th>vote_average</th>\n",
       "      <th>vote_count</th>\n",
       "    </tr>\n",
       "  </thead>\n",
       "  <tbody>\n",
       "    <tr>\n",
       "      <th>0</th>\n",
       "      <td>237000000</td>\n",
       "      <td>[{\"id\": 28, \"name\": \"Action\"}, {\"id\": 12, \"nam...</td>\n",
       "      <td>http://www.avatarmovie.com/</td>\n",
       "      <td>19995</td>\n",
       "      <td>[{\"id\": 1463, \"name\": \"culture clash\"}, {\"id\":...</td>\n",
       "      <td>en</td>\n",
       "      <td>Avatar</td>\n",
       "      <td>In the 22nd century, a paraplegic Marine is di...</td>\n",
       "      <td>150.437577</td>\n",
       "      <td>[{\"name\": \"Ingenious Film Partners\", \"id\": 289...</td>\n",
       "      <td>[{\"iso_3166_1\": \"US\", \"name\": \"United States o...</td>\n",
       "      <td>2009-12-10</td>\n",
       "      <td>2787965087</td>\n",
       "      <td>162.0</td>\n",
       "      <td>[{\"iso_639_1\": \"en\", \"name\": \"English\"}, {\"iso...</td>\n",
       "      <td>Released</td>\n",
       "      <td>Enter the World of Pandora.</td>\n",
       "      <td>Avatar</td>\n",
       "      <td>7.2</td>\n",
       "      <td>11800</td>\n",
       "    </tr>\n",
       "  </tbody>\n",
       "</table>\n",
       "</div>"
      ],
      "text/plain": [
       "      budget                                             genres  \\\n",
       "0  237000000  [{\"id\": 28, \"name\": \"Action\"}, {\"id\": 12, \"nam...   \n",
       "\n",
       "                      homepage     id  \\\n",
       "0  http://www.avatarmovie.com/  19995   \n",
       "\n",
       "                                            keywords original_language  \\\n",
       "0  [{\"id\": 1463, \"name\": \"culture clash\"}, {\"id\":...                en   \n",
       "\n",
       "  original_title                                           overview  \\\n",
       "0         Avatar  In the 22nd century, a paraplegic Marine is di...   \n",
       "\n",
       "   popularity                               production_companies  \\\n",
       "0  150.437577  [{\"name\": \"Ingenious Film Partners\", \"id\": 289...   \n",
       "\n",
       "                                production_countries release_date     revenue  \\\n",
       "0  [{\"iso_3166_1\": \"US\", \"name\": \"United States o...   2009-12-10  2787965087   \n",
       "\n",
       "   runtime                                   spoken_languages    status  \\\n",
       "0    162.0  [{\"iso_639_1\": \"en\", \"name\": \"English\"}, {\"iso...  Released   \n",
       "\n",
       "                       tagline   title  vote_average  vote_count  \n",
       "0  Enter the World of Pandora.  Avatar           7.2       11800  "
      ]
     },
     "execution_count": 4,
     "metadata": {},
     "output_type": "execute_result"
    }
   ],
   "source": [
    "df_movies.head(1)"
   ]
  },
  {
   "cell_type": "code",
   "execution_count": 5,
   "id": "9ef5fa3a-a236-4012-b4d7-263ca494b450",
   "metadata": {},
   "outputs": [
    {
     "data": {
      "text/html": [
       "<div>\n",
       "<style scoped>\n",
       "    .dataframe tbody tr th:only-of-type {\n",
       "        vertical-align: middle;\n",
       "    }\n",
       "\n",
       "    .dataframe tbody tr th {\n",
       "        vertical-align: top;\n",
       "    }\n",
       "\n",
       "    .dataframe thead th {\n",
       "        text-align: right;\n",
       "    }\n",
       "</style>\n",
       "<table border=\"1\" class=\"dataframe\">\n",
       "  <thead>\n",
       "    <tr style=\"text-align: right;\">\n",
       "      <th></th>\n",
       "      <th>movie_id</th>\n",
       "      <th>title</th>\n",
       "      <th>cast</th>\n",
       "      <th>crew</th>\n",
       "    </tr>\n",
       "  </thead>\n",
       "  <tbody>\n",
       "    <tr>\n",
       "      <th>0</th>\n",
       "      <td>19995</td>\n",
       "      <td>Avatar</td>\n",
       "      <td>[{\"cast_id\": 242, \"character\": \"Jake Sully\", \"...</td>\n",
       "      <td>[{\"credit_id\": \"52fe48009251416c750aca23\", \"de...</td>\n",
       "    </tr>\n",
       "  </tbody>\n",
       "</table>\n",
       "</div>"
      ],
      "text/plain": [
       "   movie_id   title                                               cast  \\\n",
       "0     19995  Avatar  [{\"cast_id\": 242, \"character\": \"Jake Sully\", \"...   \n",
       "\n",
       "                                                crew  \n",
       "0  [{\"credit_id\": \"52fe48009251416c750aca23\", \"de...  "
      ]
     },
     "execution_count": 5,
     "metadata": {},
     "output_type": "execute_result"
    }
   ],
   "source": [
    "df_credits.head(1)"
   ]
  },
  {
   "cell_type": "code",
   "execution_count": 6,
   "id": "f903f5c2-f5b3-42a7-9ff5-f57b9692c22f",
   "metadata": {},
   "outputs": [],
   "source": [
    "# dono data mai column  name alg hai but value same hai agr aage data merge krege tho aasani hogi\n",
    "# df_credits = df_credits.rename(columns={'movie_id':'id'})"
   ]
  },
  {
   "cell_type": "code",
   "execution_count": 7,
   "id": "494a5c22-8ade-4f08-8172-47e58db474c6",
   "metadata": {},
   "outputs": [
    {
     "data": {
      "text/plain": [
       "array(['[{\"cast_id\": 242, \"character\": \"Jake Sully\", \"credit_id\": \"5602a8a7c3a3685532001c9a\", \"gender\": 2, \"id\": 65731, \"name\": \"Sam Worthington\", \"order\": 0}, {\"cast_id\": 3, \"character\": \"Neytiri\", \"credit_id\": \"52fe48009251416c750ac9cb\", \"gender\": 1, \"id\": 8691, \"name\": \"Zoe Saldana\", \"order\": 1}, {\"cast_id\": 25, \"character\": \"Dr. Grace Augustine\", \"credit_id\": \"52fe48009251416c750aca39\", \"gender\": 1, \"id\": 10205, \"name\": \"Sigourney Weaver\", \"order\": 2}, {\"cast_id\": 4, \"character\": \"Col. Quaritch\", \"credit_id\": \"52fe48009251416c750ac9cf\", \"gender\": 2, \"id\": 32747, \"name\": \"Stephen Lang\", \"order\": 3}, {\"cast_id\": 5, \"character\": \"Trudy Chacon\", \"credit_id\": \"52fe48009251416c750ac9d3\", \"gender\": 1, \"id\": 17647, \"name\": \"Michelle Rodriguez\", \"order\": 4}, {\"cast_id\": 8, \"character\": \"Selfridge\", \"credit_id\": \"52fe48009251416c750ac9e1\", \"gender\": 2, \"id\": 1771, \"name\": \"Giovanni Ribisi\", \"order\": 5}, {\"cast_id\": 7, \"character\": \"Norm Spellman\", \"credit_id\": \"52fe48009251416c750ac9dd\", \"gender\": 2, \"id\": 59231, \"name\": \"Joel David Moore\", \"order\": 6}, {\"cast_id\": 9, \"character\": \"Moat\", \"credit_id\": \"52fe48009251416c750ac9e5\", \"gender\": 1, \"id\": 30485, \"name\": \"CCH Pounder\", \"order\": 7}, {\"cast_id\": 11, \"character\": \"Eytukan\", \"credit_id\": \"52fe48009251416c750ac9ed\", \"gender\": 2, \"id\": 15853, \"name\": \"Wes Studi\", \"order\": 8}, {\"cast_id\": 10, \"character\": \"Tsu\\'Tey\", \"credit_id\": \"52fe48009251416c750ac9e9\", \"gender\": 2, \"id\": 10964, \"name\": \"Laz Alonso\", \"order\": 9}, {\"cast_id\": 12, \"character\": \"Dr. Max Patel\", \"credit_id\": \"52fe48009251416c750ac9f1\", \"gender\": 2, \"id\": 95697, \"name\": \"Dileep Rao\", \"order\": 10}, {\"cast_id\": 13, \"character\": \"Lyle Wainfleet\", \"credit_id\": \"52fe48009251416c750ac9f5\", \"gender\": 2, \"id\": 98215, \"name\": \"Matt Gerald\", \"order\": 11}, {\"cast_id\": 32, \"character\": \"Private Fike\", \"credit_id\": \"52fe48009251416c750aca5b\", \"gender\": 2, \"id\": 154153, \"name\": \"Sean Anthony Moran\", \"order\": 12}, {\"cast_id\": 33, \"character\": \"Cryo Vault Med Tech\", \"credit_id\": \"52fe48009251416c750aca5f\", \"gender\": 2, \"id\": 397312, \"name\": \"Jason Whyte\", \"order\": 13}, {\"cast_id\": 34, \"character\": \"Venture Star Crew Chief\", \"credit_id\": \"52fe48009251416c750aca63\", \"gender\": 2, \"id\": 42317, \"name\": \"Scott Lawrence\", \"order\": 14}, {\"cast_id\": 35, \"character\": \"Lock Up Trooper\", \"credit_id\": \"52fe48009251416c750aca67\", \"gender\": 2, \"id\": 986734, \"name\": \"Kelly Kilgour\", \"order\": 15}, {\"cast_id\": 36, \"character\": \"Shuttle Pilot\", \"credit_id\": \"52fe48009251416c750aca6b\", \"gender\": 0, \"id\": 1207227, \"name\": \"James Patrick Pitt\", \"order\": 16}, {\"cast_id\": 37, \"character\": \"Shuttle Co-Pilot\", \"credit_id\": \"52fe48009251416c750aca6f\", \"gender\": 0, \"id\": 1180936, \"name\": \"Sean Patrick Murphy\", \"order\": 17}, {\"cast_id\": 38, \"character\": \"Shuttle Crew Chief\", \"credit_id\": \"52fe48009251416c750aca73\", \"gender\": 2, \"id\": 1019578, \"name\": \"Peter Dillon\", \"order\": 18}, {\"cast_id\": 39, \"character\": \"Tractor Operator / Troupe\", \"credit_id\": \"52fe48009251416c750aca77\", \"gender\": 0, \"id\": 91443, \"name\": \"Kevin Dorman\", \"order\": 19}, {\"cast_id\": 40, \"character\": \"Dragon Gunship Pilot\", \"credit_id\": \"52fe48009251416c750aca7b\", \"gender\": 2, \"id\": 173391, \"name\": \"Kelson Henderson\", \"order\": 20}, {\"cast_id\": 41, \"character\": \"Dragon Gunship Gunner\", \"credit_id\": \"52fe48009251416c750aca7f\", \"gender\": 0, \"id\": 1207236, \"name\": \"David Van Horn\", \"order\": 21}, {\"cast_id\": 42, \"character\": \"Dragon Gunship Navigator\", \"credit_id\": \"52fe48009251416c750aca83\", \"gender\": 0, \"id\": 215913, \"name\": \"Jacob Tomuri\", \"order\": 22}, {\"cast_id\": 43, \"character\": \"Suit #1\", \"credit_id\": \"52fe48009251416c750aca87\", \"gender\": 0, \"id\": 143206, \"name\": \"Michael Blain-Rozgay\", \"order\": 23}, {\"cast_id\": 44, \"character\": \"Suit #2\", \"credit_id\": \"52fe48009251416c750aca8b\", \"gender\": 2, \"id\": 169676, \"name\": \"Jon Curry\", \"order\": 24}, {\"cast_id\": 46, \"character\": \"Ambient Room Tech\", \"credit_id\": \"52fe48009251416c750aca8f\", \"gender\": 0, \"id\": 1048610, \"name\": \"Luke Hawker\", \"order\": 25}, {\"cast_id\": 47, \"character\": \"Ambient Room Tech / Troupe\", \"credit_id\": \"52fe48009251416c750aca93\", \"gender\": 0, \"id\": 42288, \"name\": \"Woody Schultz\", \"order\": 26}, {\"cast_id\": 48, \"character\": \"Horse Clan Leader\", \"credit_id\": \"52fe48009251416c750aca97\", \"gender\": 2, \"id\": 68278, \"name\": \"Peter Mensah\", \"order\": 27}, {\"cast_id\": 49, \"character\": \"Link Room Tech\", \"credit_id\": \"52fe48009251416c750aca9b\", \"gender\": 0, \"id\": 1207247, \"name\": \"Sonia Yee\", \"order\": 28}, {\"cast_id\": 50, \"character\": \"Basketball Avatar / Troupe\", \"credit_id\": \"52fe48009251416c750aca9f\", \"gender\": 1, \"id\": 1207248, \"name\": \"Jahnel Curfman\", \"order\": 29}, {\"cast_id\": 51, \"character\": \"Basketball Avatar\", \"credit_id\": \"52fe48009251416c750acaa3\", \"gender\": 0, \"id\": 89714, \"name\": \"Ilram Choi\", \"order\": 30}, {\"cast_id\": 52, \"character\": \"Na\\'vi Child\", \"credit_id\": \"52fe48009251416c750acaa7\", \"gender\": 0, \"id\": 1207249, \"name\": \"Kyla Warren\", \"order\": 31}, {\"cast_id\": 53, \"character\": \"Troupe\", \"credit_id\": \"52fe48009251416c750acaab\", \"gender\": 0, \"id\": 1207250, \"name\": \"Lisa Roumain\", \"order\": 32}, {\"cast_id\": 54, \"character\": \"Troupe\", \"credit_id\": \"52fe48009251416c750acaaf\", \"gender\": 1, \"id\": 83105, \"name\": \"Debra Wilson\", \"order\": 33}, {\"cast_id\": 57, \"character\": \"Troupe\", \"credit_id\": \"52fe48009251416c750acabb\", \"gender\": 0, \"id\": 1207253, \"name\": \"Chris Mala\", \"order\": 34}, {\"cast_id\": 55, \"character\": \"Troupe\", \"credit_id\": \"52fe48009251416c750acab3\", \"gender\": 0, \"id\": 1207251, \"name\": \"Taylor Kibby\", \"order\": 35}, {\"cast_id\": 56, \"character\": \"Troupe\", \"credit_id\": \"52fe48009251416c750acab7\", \"gender\": 0, \"id\": 1207252, \"name\": \"Jodie Landau\", \"order\": 36}, {\"cast_id\": 58, \"character\": \"Troupe\", \"credit_id\": \"52fe48009251416c750acabf\", \"gender\": 0, \"id\": 1207254, \"name\": \"Julie Lamm\", \"order\": 37}, {\"cast_id\": 59, \"character\": \"Troupe\", \"credit_id\": \"52fe48009251416c750acac3\", \"gender\": 0, \"id\": 1207257, \"name\": \"Cullen B. Madden\", \"order\": 38}, {\"cast_id\": 60, \"character\": \"Troupe\", \"credit_id\": \"52fe48009251416c750acac7\", \"gender\": 0, \"id\": 1207259, \"name\": \"Joseph Brady Madden\", \"order\": 39}, {\"cast_id\": 61, \"character\": \"Troupe\", \"credit_id\": \"52fe48009251416c750acacb\", \"gender\": 0, \"id\": 1207262, \"name\": \"Frankie Torres\", \"order\": 40}, {\"cast_id\": 62, \"character\": \"Troupe\", \"credit_id\": \"52fe48009251416c750acacf\", \"gender\": 1, \"id\": 1158600, \"name\": \"Austin Wilson\", \"order\": 41}, {\"cast_id\": 63, \"character\": \"Troupe\", \"credit_id\": \"52fe48019251416c750acad3\", \"gender\": 1, \"id\": 983705, \"name\": \"Sara Wilson\", \"order\": 42}, {\"cast_id\": 64, \"character\": \"Troupe\", \"credit_id\": \"52fe48019251416c750acad7\", \"gender\": 0, \"id\": 1207263, \"name\": \"Tamica Washington-Miller\", \"order\": 43}, {\"cast_id\": 65, \"character\": \"Op Center Staff\", \"credit_id\": \"52fe48019251416c750acadb\", \"gender\": 1, \"id\": 1145098, \"name\": \"Lucy Briant\", \"order\": 44}, {\"cast_id\": 66, \"character\": \"Op Center Staff\", \"credit_id\": \"52fe48019251416c750acadf\", \"gender\": 2, \"id\": 33305, \"name\": \"Nathan Meister\", \"order\": 45}, {\"cast_id\": 67, \"character\": \"Op Center Staff\", \"credit_id\": \"52fe48019251416c750acae3\", \"gender\": 0, \"id\": 1207264, \"name\": \"Gerry Blair\", \"order\": 46}, {\"cast_id\": 68, \"character\": \"Op Center Staff\", \"credit_id\": \"52fe48019251416c750acae7\", \"gender\": 2, \"id\": 33311, \"name\": \"Matthew Chamberlain\", \"order\": 47}, {\"cast_id\": 69, \"character\": \"Op Center Staff\", \"credit_id\": \"52fe48019251416c750acaeb\", \"gender\": 0, \"id\": 1207265, \"name\": \"Paul Yates\", \"order\": 48}, {\"cast_id\": 70, \"character\": \"Op Center Duty Officer\", \"credit_id\": \"52fe48019251416c750acaef\", \"gender\": 0, \"id\": 1207266, \"name\": \"Wray Wilson\", \"order\": 49}, {\"cast_id\": 71, \"character\": \"Op Center Staff\", \"credit_id\": \"52fe48019251416c750acaf3\", \"gender\": 2, \"id\": 54492, \"name\": \"James Gaylyn\", \"order\": 50}, {\"cast_id\": 72, \"character\": \"Dancer\", \"credit_id\": \"52fe48019251416c750acaf7\", \"gender\": 0, \"id\": 1207267, \"name\": \"Melvin Leno Clark III\", \"order\": 51}, {\"cast_id\": 73, \"character\": \"Dancer\", \"credit_id\": \"52fe48019251416c750acafb\", \"gender\": 0, \"id\": 1207268, \"name\": \"Carvon Futrell\", \"order\": 52}, {\"cast_id\": 74, \"character\": \"Dancer\", \"credit_id\": \"52fe48019251416c750acaff\", \"gender\": 0, \"id\": 1207269, \"name\": \"Brandon Jelkes\", \"order\": 53}, {\"cast_id\": 75, \"character\": \"Dancer\", \"credit_id\": \"52fe48019251416c750acb03\", \"gender\": 0, \"id\": 1207270, \"name\": \"Micah Moch\", \"order\": 54}, {\"cast_id\": 76, \"character\": \"Dancer\", \"credit_id\": \"52fe48019251416c750acb07\", \"gender\": 0, \"id\": 1207271, \"name\": \"Hanniyah Muhammad\", \"order\": 55}, {\"cast_id\": 77, \"character\": \"Dancer\", \"credit_id\": \"52fe48019251416c750acb0b\", \"gender\": 0, \"id\": 1207272, \"name\": \"Christopher Nolen\", \"order\": 56}, {\"cast_id\": 78, \"character\": \"Dancer\", \"credit_id\": \"52fe48019251416c750acb0f\", \"gender\": 0, \"id\": 1207273, \"name\": \"Christa Oliver\", \"order\": 57}, {\"cast_id\": 79, \"character\": \"Dancer\", \"credit_id\": \"52fe48019251416c750acb13\", \"gender\": 0, \"id\": 1207274, \"name\": \"April Marie Thomas\", \"order\": 58}, {\"cast_id\": 80, \"character\": \"Dancer\", \"credit_id\": \"52fe48019251416c750acb17\", \"gender\": 0, \"id\": 1207275, \"name\": \"Bravita A. Threatt\", \"order\": 59}, {\"cast_id\": 81, \"character\": \"Mining Chief (uncredited)\", \"credit_id\": \"52fe48019251416c750acb1b\", \"gender\": 0, \"id\": 1207276, \"name\": \"Colin Bleasdale\", \"order\": 60}, {\"cast_id\": 82, \"character\": \"Veteran Miner (uncredited)\", \"credit_id\": \"52fe48019251416c750acb1f\", \"gender\": 0, \"id\": 107969, \"name\": \"Mike Bodnar\", \"order\": 61}, {\"cast_id\": 83, \"character\": \"Richard (uncredited)\", \"credit_id\": \"52fe48019251416c750acb23\", \"gender\": 0, \"id\": 1207278, \"name\": \"Matt Clayton\", \"order\": 62}, {\"cast_id\": 84, \"character\": \"Nav\\'i (uncredited)\", \"credit_id\": \"52fe48019251416c750acb27\", \"gender\": 1, \"id\": 147898, \"name\": \"Nicole Dionne\", \"order\": 63}, {\"cast_id\": 85, \"character\": \"Trooper (uncredited)\", \"credit_id\": \"52fe48019251416c750acb2b\", \"gender\": 0, \"id\": 1207280, \"name\": \"Jamie Harrison\", \"order\": 64}, {\"cast_id\": 86, \"character\": \"Trooper (uncredited)\", \"credit_id\": \"52fe48019251416c750acb2f\", \"gender\": 0, \"id\": 1207281, \"name\": \"Allan Henry\", \"order\": 65}, {\"cast_id\": 87, \"character\": \"Ground Technician (uncredited)\", \"credit_id\": \"52fe48019251416c750acb33\", \"gender\": 2, \"id\": 1207282, \"name\": \"Anthony Ingruber\", \"order\": 66}, {\"cast_id\": 88, \"character\": \"Flight Crew Mechanic (uncredited)\", \"credit_id\": \"52fe48019251416c750acb37\", \"gender\": 0, \"id\": 1207283, \"name\": \"Ashley Jeffery\", \"order\": 67}, {\"cast_id\": 14, \"character\": \"Samson Pilot\", \"credit_id\": \"52fe48009251416c750ac9f9\", \"gender\": 0, \"id\": 98216, \"name\": \"Dean Knowsley\", \"order\": 68}, {\"cast_id\": 89, \"character\": \"Trooper (uncredited)\", \"credit_id\": \"52fe48019251416c750acb3b\", \"gender\": 0, \"id\": 1201399, \"name\": \"Joseph Mika-Hunt\", \"order\": 69}, {\"cast_id\": 90, \"character\": \"Banshee (uncredited)\", \"credit_id\": \"52fe48019251416c750acb3f\", \"gender\": 0, \"id\": 236696, \"name\": \"Terry Notary\", \"order\": 70}, {\"cast_id\": 91, \"character\": \"Soldier (uncredited)\", \"credit_id\": \"52fe48019251416c750acb43\", \"gender\": 0, \"id\": 1207287, \"name\": \"Kai Pantano\", \"order\": 71}, {\"cast_id\": 92, \"character\": \"Blast Technician (uncredited)\", \"credit_id\": \"52fe48019251416c750acb47\", \"gender\": 0, \"id\": 1207288, \"name\": \"Logan Pithyou\", \"order\": 72}, {\"cast_id\": 93, \"character\": \"Vindum Raah (uncredited)\", \"credit_id\": \"52fe48019251416c750acb4b\", \"gender\": 0, \"id\": 1207289, \"name\": \"Stuart Pollock\", \"order\": 73}, {\"cast_id\": 94, \"character\": \"Hero (uncredited)\", \"credit_id\": \"52fe48019251416c750acb4f\", \"gender\": 0, \"id\": 584868, \"name\": \"Raja\", \"order\": 74}, {\"cast_id\": 95, \"character\": \"Ops Centreworker (uncredited)\", \"credit_id\": \"52fe48019251416c750acb53\", \"gender\": 0, \"id\": 1207290, \"name\": \"Gareth Ruck\", \"order\": 75}, {\"cast_id\": 96, \"character\": \"Engineer (uncredited)\", \"credit_id\": \"52fe48019251416c750acb57\", \"gender\": 0, \"id\": 1062463, \"name\": \"Rhian Sheehan\", \"order\": 76}, {\"cast_id\": 97, \"character\": \"Col. Quaritch\\'s Mech Suit (uncredited)\", \"credit_id\": \"52fe48019251416c750acb5b\", \"gender\": 0, \"id\": 60656, \"name\": \"T. J. Storm\", \"order\": 77}, {\"cast_id\": 98, \"character\": \"Female Marine (uncredited)\", \"credit_id\": \"52fe48019251416c750acb5f\", \"gender\": 0, \"id\": 1207291, \"name\": \"Jodie Taylor\", \"order\": 78}, {\"cast_id\": 99, \"character\": \"Ikran Clan Leader (uncredited)\", \"credit_id\": \"52fe48019251416c750acb63\", \"gender\": 1, \"id\": 1186027, \"name\": \"Alicia Vela-Bailey\", \"order\": 79}, {\"cast_id\": 100, \"character\": \"Geologist (uncredited)\", \"credit_id\": \"52fe48019251416c750acb67\", \"gender\": 0, \"id\": 1207292, \"name\": \"Richard Whiteside\", \"order\": 80}, {\"cast_id\": 101, \"character\": \"Na\\'vi (uncredited)\", \"credit_id\": \"52fe48019251416c750acb6b\", \"gender\": 0, \"id\": 103259, \"name\": \"Nikie Zambo\", \"order\": 81}, {\"cast_id\": 102, \"character\": \"Ambient Room Tech / Troupe\", \"credit_id\": \"52fe48019251416c750acb6f\", \"gender\": 1, \"id\": 42286, \"name\": \"Julene Renee\", \"order\": 82}]',\n",
       "       '[{\"cast_id\": 4, \"character\": \"Captain Jack Sparrow\", \"credit_id\": \"52fe4232c3a36847f800b50d\", \"gender\": 2, \"id\": 85, \"name\": \"Johnny Depp\", \"order\": 0}, {\"cast_id\": 5, \"character\": \"Will Turner\", \"credit_id\": \"52fe4232c3a36847f800b511\", \"gender\": 2, \"id\": 114, \"name\": \"Orlando Bloom\", \"order\": 1}, {\"cast_id\": 6, \"character\": \"Elizabeth Swann\", \"credit_id\": \"52fe4232c3a36847f800b515\", \"gender\": 1, \"id\": 116, \"name\": \"Keira Knightley\", \"order\": 2}, {\"cast_id\": 12, \"character\": \"William \\\\\"Bootstrap Bill\\\\\" Turner\", \"credit_id\": \"52fe4232c3a36847f800b52d\", \"gender\": 2, \"id\": 1640, \"name\": \"Stellan Skarsg\\\\u00e5rd\", \"order\": 3}, {\"cast_id\": 10, \"character\": \"Captain Sao Feng\", \"credit_id\": \"52fe4232c3a36847f800b525\", \"gender\": 2, \"id\": 1619, \"name\": \"Chow Yun-fat\", \"order\": 4}, {\"cast_id\": 9, \"character\": \"Captain Davy Jones\", \"credit_id\": \"52fe4232c3a36847f800b521\", \"gender\": 2, \"id\": 2440, \"name\": \"Bill Nighy\", \"order\": 5}, {\"cast_id\": 7, \"character\": \"Captain Hector Barbossa\", \"credit_id\": \"52fe4232c3a36847f800b519\", \"gender\": 2, \"id\": 118, \"name\": \"Geoffrey Rush\", \"order\": 6}, {\"cast_id\": 14, \"character\": \"Admiral James Norrington\", \"credit_id\": \"52fe4232c3a36847f800b535\", \"gender\": 2, \"id\": 1709, \"name\": \"Jack Davenport\", \"order\": 7}, {\"cast_id\": 13, \"character\": \"Joshamee Gibbs\", \"credit_id\": \"52fe4232c3a36847f800b531\", \"gender\": 2, \"id\": 2449, \"name\": \"Kevin McNally\", \"order\": 8}, {\"cast_id\": 11, \"character\": \"Lord Cutler Beckett\", \"credit_id\": \"52fe4232c3a36847f800b529\", \"gender\": 2, \"id\": 2441, \"name\": \"Tom Hollander\", \"order\": 9}, {\"cast_id\": 19, \"character\": \"Tia Dalma\", \"credit_id\": \"52fe4232c3a36847f800b549\", \"gender\": 1, \"id\": 2038, \"name\": \"Naomie Harris\", \"order\": 10}, {\"cast_id\": 8, \"character\": \"Governor Weatherby Swann\", \"credit_id\": \"52fe4232c3a36847f800b51d\", \"gender\": 2, \"id\": 378, \"name\": \"Jonathan Pryce\", \"order\": 11}, {\"cast_id\": 37, \"character\": \"Captain Teague Sparrow\", \"credit_id\": \"52fe4232c3a36847f800b5b3\", \"gender\": 2, \"id\": 1430, \"name\": \"Keith Richards\", \"order\": 12}, {\"cast_id\": 16, \"character\": \"Pintel\", \"credit_id\": \"52fe4232c3a36847f800b53d\", \"gender\": 2, \"id\": 1710, \"name\": \"Lee Arenberg\", \"order\": 13}, {\"cast_id\": 15, \"character\": \"Ragetti\", \"credit_id\": \"52fe4232c3a36847f800b539\", \"gender\": 2, \"id\": 1711, \"name\": \"Mackenzie Crook\", \"order\": 14}, {\"cast_id\": 18, \"character\": \"Lieutenant Theodore Groves\", \"credit_id\": \"52fe4232c3a36847f800b545\", \"gender\": 2, \"id\": 4031, \"name\": \"Greg Ellis\", \"order\": 15}, {\"cast_id\": 55, \"character\": \"Cotton\", \"credit_id\": \"57e28d2ec3a3681a01005b5c\", \"gender\": 2, \"id\": 1715, \"name\": \"David Bailie\", \"order\": 16}, {\"cast_id\": 17, \"character\": \"Marty\", \"credit_id\": \"52fe4232c3a36847f800b541\", \"gender\": 2, \"id\": 4030, \"name\": \"Martin Klebba\", \"order\": 17}, {\"cast_id\": 57, \"character\": \"Ian Mercer\", \"credit_id\": \"57e28d78c3a36808b900bf4f\", \"gender\": 0, \"id\": 939, \"name\": \"David Schofield\", \"order\": 18}, {\"cast_id\": 62, \"character\": \"Scarlett\", \"credit_id\": \"57e28ec5c3a3681a50005855\", \"gender\": 1, \"id\": 2450, \"name\": \"Lauren Maher\", \"order\": 19}, {\"cast_id\": 63, \"character\": \"Giselle\", \"credit_id\": \"57e28ed692514123f5005635\", \"gender\": 1, \"id\": 2452, \"name\": \"Vanessa Branch\", \"order\": 20}, {\"cast_id\": 60, \"character\": \"Mullroy\", \"credit_id\": \"57e28db2c3a3681a01005bc7\", \"gender\": 2, \"id\": 1714, \"name\": \"Angus Barnett\", \"order\": 21}, {\"cast_id\": 59, \"character\": \"Murtogg\", \"credit_id\": \"57e28da192514118f7006008\", \"gender\": 0, \"id\": 1713, \"name\": \"Giles New\", \"order\": 22}, {\"cast_id\": 58, \"character\": \"Tai Huang\", \"credit_id\": \"57e28d8ec3a3681a01005bab\", \"gender\": 2, \"id\": 22075, \"name\": \"Reggie Lee\", \"order\": 23}, {\"cast_id\": 64, \"character\": \"Henry Turner\", \"credit_id\": \"57e29119925141151100a6cc\", \"gender\": 2, \"id\": 61259, \"name\": \"Dominic Scott Kay\", \"order\": 24}, {\"cast_id\": 39, \"character\": \"Mistress Ching\", \"credit_id\": \"52fe4232c3a36847f800b5bd\", \"gender\": 1, \"id\": 33500, \"name\": \"Takayo Fischer\", \"order\": 25}, {\"cast_id\": 40, \"character\": \"Lieutenant Greitzer\", \"credit_id\": \"52fe4232c3a36847f800b5c1\", \"gender\": 2, \"id\": 1224149, \"name\": \"David Meunier\", \"order\": 26}, {\"cast_id\": 49, \"character\": \"Hadras\", \"credit_id\": \"56d1871c92514174680010cf\", \"gender\": 2, \"id\": 429401, \"name\": \"Ho-Kwan Tse\", \"order\": 27}, {\"cast_id\": 56, \"character\": \"Clacker\", \"credit_id\": \"57e28d4b92514125710055cb\", \"gender\": 0, \"id\": 1123, \"name\": \"Andy Beckwith\", \"order\": 28}, {\"cast_id\": 51, \"character\": \"Penrod\", \"credit_id\": \"56ec8c14c3a3682260003c53\", \"gender\": 2, \"id\": 1056117, \"name\": \"Peter Donald Badalamenti II\", \"order\": 29}, {\"cast_id\": 61, \"character\": \"Cotton\\'s Parrot (voice)\", \"credit_id\": \"57e28dcc9251412463005678\", \"gender\": 2, \"id\": 21700, \"name\": \"Christopher S. Capp\", \"order\": 30}, {\"cast_id\": 65, \"character\": \"Captain Teague\", \"credit_id\": \"58bc2a37c3a368663003740b\", \"gender\": 2, \"id\": 1430, \"name\": \"Keith Richards\", \"order\": 31}, {\"cast_id\": 66, \"character\": \"Captain Jocard\", \"credit_id\": \"58bc2a8e925141609e03a179\", \"gender\": 2, \"id\": 2603, \"name\": \"Hakeem Kae-Kazim\", \"order\": 32}, {\"cast_id\": 67, \"character\": \"Captain Ammand\", \"credit_id\": \"58e2a21ac3a36872af00f9c2\", \"gender\": 0, \"id\": 70577, \"name\": \"Ghassan Massoud\", \"order\": 33}]',\n",
       "       '[{\"cast_id\": 1, \"character\": \"James Bond\", \"credit_id\": \"52fe4d22c3a368484e1d8d6b\", \"gender\": 2, \"id\": 8784, \"name\": \"Daniel Craig\", \"order\": 0}, {\"cast_id\": 14, \"character\": \"Blofeld\", \"credit_id\": \"54805866c3a36829ab002592\", \"gender\": 2, \"id\": 27319, \"name\": \"Christoph Waltz\", \"order\": 1}, {\"cast_id\": 13, \"character\": \"Madeleine\", \"credit_id\": \"546f934fc3a3682f9a002ca5\", \"gender\": 1, \"id\": 121529, \"name\": \"L\\\\u00e9a Seydoux\", \"order\": 2}, {\"cast_id\": 10, \"character\": \"M\", \"credit_id\": \"53e86503c3a368399c0031f0\", \"gender\": 2, \"id\": 5469, \"name\": \"Ralph Fiennes\", \"order\": 3}, {\"cast_id\": 17, \"character\": \"Lucia\", \"credit_id\": \"54805920c3a36829ae0022c5\", \"gender\": 1, \"id\": 28782, \"name\": \"Monica Bellucci\", \"order\": 4}, {\"cast_id\": 8, \"character\": \"Q\", \"credit_id\": \"52fe4d22c3a368484e1d8d87\", \"gender\": 2, \"id\": 17064, \"name\": \"Ben Whishaw\", \"order\": 5}, {\"cast_id\": 11, \"character\": \"Moneypenny\", \"credit_id\": \"53e8650cc3a368399c0031f4\", \"gender\": 1, \"id\": 2038, \"name\": \"Naomie Harris\", \"order\": 6}, {\"cast_id\": 16, \"character\": \"Hinx\", \"credit_id\": \"5480590f9251416e7b0022f4\", \"gender\": 2, \"id\": 543530, \"name\": \"Dave Bautista\", \"order\": 7}, {\"cast_id\": 15, \"character\": \"C\", \"credit_id\": \"548058ffc3a36829a7002511\", \"gender\": 2, \"id\": 125660, \"name\": \"Andrew Scott\", \"order\": 8}, {\"cast_id\": 19, \"character\": \"Tanner\", \"credit_id\": \"5480593cc3a36829ae0022ca\", \"gender\": 2, \"id\": 139549, \"name\": \"Rory Kinnear\", \"order\": 9}, {\"cast_id\": 23, \"character\": \"Mr. White\", \"credit_id\": \"5517b3849251416f0d0032c8\", \"gender\": 2, \"id\": 2244, \"name\": \"Jesper Christensen\", \"order\": 10}, {\"cast_id\": 24, \"character\": \"Marco Sciarra\", \"credit_id\": \"5517b398c3a36862fc002df6\", \"gender\": 0, \"id\": 1381616, \"name\": \"Alessandro Cremona\", \"order\": 11}, {\"cast_id\": 25, \"character\": \"Estrella\", \"credit_id\": \"5517b3c49251412c1e00180b\", \"gender\": 1, \"id\": 929937, \"name\": \"Stephanie Sigman\", \"order\": 12}, {\"cast_id\": 49, \"character\": \"Mexican Man in Lift\", \"credit_id\": \"5664561cc3a3682bd0007fc8\", \"gender\": 0, \"id\": 87265, \"name\": \"Tenoch Huerta\", \"order\": 13}, {\"cast_id\": 50, \"character\": \"Mexican Woman in Lift\", \"credit_id\": \"5664561dc3a3682be9008dc6\", \"gender\": 1, \"id\": 983710, \"name\": \"Adriana Paz\", \"order\": 14}, {\"cast_id\": 180, \"character\": \"Gallo\", \"credit_id\": \"56fddbacc3a36821b6000aca\", \"gender\": 2, \"id\": 1385592, \"name\": \"Domenico Fortunato\", \"order\": 15}, {\"cast_id\": 51, \"character\": \"Gallo\\'s Accomplice\", \"credit_id\": \"5664561dc3a3682bd8008fbe\", \"gender\": 0, \"id\": 1545546, \"name\": \"Marco Zingaro\", \"order\": 16}, {\"cast_id\": 52, \"character\": \"Gallo\\'s Accomplice\", \"credit_id\": \"5664561d9251412ad300870b\", \"gender\": 2, \"id\": 1545547, \"name\": \"Stefano Elfi DiClaudia\", \"order\": 17}, {\"cast_id\": 181, \"character\": \"Q\\'s Assistant\", \"credit_id\": \"56fddc319251412a4d0009f9\", \"gender\": 0, \"id\": 122556, \"name\": \"Ian Bonar\", \"order\": 18}, {\"cast_id\": 182, \"character\": \"Moneypenny\\'s Boyfriend\", \"credit_id\": \"56fddc66c3a36821b6000b04\", \"gender\": 2, \"id\": 1599239, \"name\": \"Tam Williams\", \"order\": 19}, {\"cast_id\": 183, \"character\": \"Blofeld\\'s London Helicopter Pilot\", \"credit_id\": \"56fddc989251412a56000a85\", \"gender\": 2, \"id\": 1599241, \"name\": \"Richard Banham\", \"order\": 20}, {\"cast_id\": 184, \"character\": \"SC019 Police Commander\", \"credit_id\": \"56fddccf9251412a4b000b5d\", \"gender\": 2, \"id\": 230681, \"name\": \"Pip Carter\", \"order\": 21}, {\"cast_id\": 185, \"character\": \"SC019 Police Officer\", \"credit_id\": \"56fddce6c3a36821ae000b45\", \"gender\": 2, \"id\": 30446, \"name\": \"Simon Lenagan\", \"order\": 22}, {\"cast_id\": 27, \"character\": \"Priest\", \"credit_id\": \"5517b4f69251416efe003370\", \"gender\": 2, \"id\": 48377, \"name\": \"Alessandro Bressanello\", \"order\": 23}, {\"cast_id\": 38, \"character\": \"Moreau\", \"credit_id\": \"56486811c3a3682605006adc\", \"gender\": 0, \"id\": 578512, \"name\": \"Marc Zinga\", \"order\": 24}, {\"cast_id\": 39, \"character\": \"Vogel\", \"credit_id\": \"56486820c3a368261a006de7\", \"gender\": 0, \"id\": 1093974, \"name\": \"Brigitte Millar\", \"order\": 25}, {\"cast_id\": 41, \"character\": \"Abrika\", \"credit_id\": \"564868a09251413ad7006da5\", \"gender\": 2, \"id\": 89624, \"name\": \"Adel Bencherif\", \"order\": 26}, {\"cast_id\": 186, \"character\": \"Blofeld\\'s Right Hand Man\", \"credit_id\": \"56fddd5a9251412a42000b52\", \"gender\": 2, \"id\": 1129783, \"name\": \"Gediminas Adomaitis\", \"order\": 27}, {\"cast_id\": 42, \"character\": \"Lorenzo\", \"credit_id\": \"564868c5c3a368260c006ee4\", \"gender\": 0, \"id\": 226388, \"name\": \"Peppe Lanzetta\", \"order\": 28}, {\"cast_id\": 187, \"character\": \"Francesco\", \"credit_id\": \"56fddd9cc3a36821a4000b5b\", \"gender\": 2, \"id\": 1299312, \"name\": \"Francesco Arca\", \"order\": 29}, {\"cast_id\": 188, \"character\": \"Marco\", \"credit_id\": \"56fdddb79251412a50000aad\", \"gender\": 2, \"id\": 124628, \"name\": \"Matteo Taranto\", \"order\": 30}, {\"cast_id\": 189, \"character\": \"Palazzo Security\", \"credit_id\": \"56fdddd69251412a56000ac6\", \"gender\": 2, \"id\": 1562103, \"name\": \"Emilio Aniba\", \"order\": 31}, {\"cast_id\": 190, \"character\": \"Guerra\", \"credit_id\": \"56fdddf19251412a50000ac1\", \"gender\": 2, \"id\": 1474616, \"name\": \"Benito Sagredo\", \"order\": 32}, {\"cast_id\": 191, \"character\": \"Businessman\", \"credit_id\": \"56fdde0d9251416cc200004c\", \"gender\": 2, \"id\": 1247684, \"name\": \"Dai Tabuchi\", \"order\": 33}, {\"cast_id\": 192, \"character\": \"Businessman\", \"credit_id\": \"56fdde1bc3a36821b1000ba8\", \"gender\": 2, \"id\": 1599245, \"name\": \"George Lasha\", \"order\": 34}, {\"cast_id\": 193, \"character\": \"Businessman\", \"credit_id\": \"56fdde259251412a42000b93\", \"gender\": 0, \"id\": 1599247, \"name\": \"Sargon Yelda\", \"order\": 35}, {\"cast_id\": 194, \"character\": \"Businessman\", \"credit_id\": \"56fdde9fc3a36821b6000ba0\", \"gender\": 2, \"id\": 1599251, \"name\": \"Andy Cheung\", \"order\": 36}, {\"cast_id\": 195, \"character\": \"Marshall\", \"credit_id\": \"56fddeb29251412a50000af4\", \"gender\": 2, \"id\": 1599252, \"name\": \"Erick Hayden\", \"order\": 37}, {\"cast_id\": 196, \"character\": \"Valerian\", \"credit_id\": \"56fddec8c3a36821ab000c19\", \"gender\": 2, \"id\": 1599253, \"name\": \"Oleg Mirochnikov\", \"order\": 38}, {\"cast_id\": 197, \"character\": \"Fiat Driver\", \"credit_id\": \"56fddef89251412a47000a79\", \"gender\": 2, \"id\": 123548, \"name\": \"Antonio Salines\", \"order\": 39}, {\"cast_id\": 198, \"character\": \"Street Sweeper\", \"credit_id\": \"56fddf109251416cc2000086\", \"gender\": 2, \"id\": 1599254, \"name\": \"Miloud Mourad Benamara\", \"order\": 40}, {\"cast_id\": 199, \"character\": \"Chairman\", \"credit_id\": \"56fddf4a9251412a42000bcf\", \"gender\": 2, \"id\": 1599255, \"name\": \"Gido Schimanski\", \"order\": 41}, {\"cast_id\": 200, \"character\": \"Head of Nation\", \"credit_id\": \"56fddf69c3a36821a7000b12\", \"gender\": 0, \"id\": 1404403, \"name\": \"Nigel Barber\", \"order\": 42}, {\"cast_id\": 201, \"character\": \"Head of Nation\", \"credit_id\": \"56fddf7fc3a36821b1000c0d\", \"gender\": 2, \"id\": 74415, \"name\": \"Patrice Naiambana\", \"order\": 43}, {\"cast_id\": 202, \"character\": \"Head of Nation\", \"credit_id\": \"56fddf89c3a368219d000adb\", \"gender\": 2, \"id\": 1599256, \"name\": \"Stephane Cornicard\", \"order\": 44}, {\"cast_id\": 203, \"character\": \"Head of Nation\", \"credit_id\": \"56fddf929251412a56000b29\", \"gender\": 2, \"id\": 1599257, \"name\": \"Gary Fannin\", \"order\": 45}, {\"cast_id\": 204, \"character\": \"Head of Nation\", \"credit_id\": \"56fddf9cc3a36821ae000be1\", \"gender\": 2, \"id\": 1599258, \"name\": \"Sadao Ueda\", \"order\": 46}, {\"cast_id\": 205, \"character\": \"Head of Nation\", \"credit_id\": \"56fddfb99251412a50000b30\", \"gender\": 0, \"id\": 1599259, \"name\": \"Phillip Law\", \"order\": 47}, {\"cast_id\": 206, \"character\": \"Head of Nation\", \"credit_id\": \"56fddfef9251412a54000ba8\", \"gender\": 2, \"id\": 1599260, \"name\": \"Wai Wong\", \"order\": 48}, {\"cast_id\": 207, \"character\": \"Head of Nation\", \"credit_id\": \"56fde0179251412a47000ac2\", \"gender\": 2, \"id\": 1477143, \"name\": \"Joseph Balderrama\", \"order\": 49}, {\"cast_id\": 208, \"character\": \"Aide\", \"credit_id\": \"56fde0809251416cc20000cb\", \"gender\": 2, \"id\": 1599261, \"name\": \"Eiji Mihara\", \"order\": 50}, {\"cast_id\": 209, \"character\": \"Aide\", \"credit_id\": \"56fde0a49251412a47000ae0\", \"gender\": 2, \"id\": 1168129, \"name\": \"Junichi Kajioka\", \"order\": 51}, {\"cast_id\": 40, \"character\": \"Clinic Barman\", \"credit_id\": \"56486850c3a368260c006ecf\", \"gender\": 0, \"id\": 48393, \"name\": \"Victor Schef\\\\u00e9\", \"order\": 52}, {\"cast_id\": 210, \"character\": \"Clinic Security Guard\", \"credit_id\": \"56fde0f19251412a42000c28\", \"gender\": 2, \"id\": 1437333, \"name\": \"Harald Windisch\", \"order\": 53}, {\"cast_id\": 211, \"character\": \"Clinic Security Guard\", \"credit_id\": \"56fde118c3a36821a4000c3c\", \"gender\": 2, \"id\": 1599262, \"name\": \"Tristan Matthiae\", \"order\": 54}, {\"cast_id\": 177, \"character\": \"Cable Car Heavy\", \"credit_id\": \"5696db21c3a3683af90002d6\", \"gender\": 2, \"id\": 14637, \"name\": \"Detlef Bothe\", \"order\": 55}, {\"cast_id\": 212, \"character\": \"Cable Car Heavy\", \"credit_id\": \"56fde128c3a368219d000b4f\", \"gender\": 2, \"id\": 1599263, \"name\": \"Bodo Friesecke\", \"order\": 56}, {\"cast_id\": 213, \"character\": \"Syringe Heavy\", \"credit_id\": \"56fde1769251412a54000c0b\", \"gender\": 2, \"id\": 1599264, \"name\": \"Wilhem Iben\", \"order\": 57}, {\"cast_id\": 214, \"character\": \"Snowboarder\", \"credit_id\": \"56fde1849251412a42000c4d\", \"gender\": 1, \"id\": 1599265, \"name\": \"Noemi Krausz\", \"order\": 58}, {\"cast_id\": 215, \"character\": \"Snowboarder\", \"credit_id\": \"56fde18dc3a36821b6000c4f\", \"gender\": 2, \"id\": 1599266, \"name\": \"Noah Saavedra\", \"order\": 59}, {\"cast_id\": 216, \"character\": \"Snowboarder\", \"credit_id\": \"56fde1989251412a54000c16\", \"gender\": 0, \"id\": 1599267, \"name\": \"Francis Attakpah\", \"order\": 60}, {\"cast_id\": 217, \"character\": \"Snowboarder\", \"credit_id\": \"56fde1a39251412a42000c58\", \"gender\": 2, \"id\": 1599268, \"name\": \"Michael Glantschnig\", \"order\": 61}, {\"cast_id\": 218, \"character\": \"Snowboarder\", \"credit_id\": \"56fde1aec3a36821ab000cbf\", \"gender\": 2, \"id\": 1599269, \"name\": \"Marlon Boess\", \"order\": 62}, {\"cast_id\": 219, \"character\": \"Snowboarder\", \"credit_id\": \"56fde1b8c3a36821ae000c62\", \"gender\": 1, \"id\": 1599270, \"name\": \"Marie Wohlmuth\", \"order\": 63}, {\"cast_id\": 220, \"character\": \"Snowboarder\", \"credit_id\": \"56fde1c1c3a36821b1000c9c\", \"gender\": 1, \"id\": 1599271, \"name\": \"Lili Epply\", \"order\": 64}, {\"cast_id\": 221, \"character\": \"Snowboarder\", \"credit_id\": \"56fde1cbc3a36821a7000baf\", \"gender\": 2, \"id\": 1599272, \"name\": \"Konstantin Gerlach\", \"order\": 65}, {\"cast_id\": 222, \"character\": \"L\\'Americain Manater\", \"credit_id\": \"56fde24c9251412a45000bfb\", \"gender\": 1, \"id\": 1102369, \"name\": \"Lara Parmiani\", \"order\": 66}, {\"cast_id\": 223, \"character\": \"Train Guard\", \"credit_id\": \"56fde2679251412a54000c42\", \"gender\": 2, \"id\": 1372694, \"name\": \"Umit Ulgen\", \"order\": 67}, {\"cast_id\": 224, \"character\": \"Train Waiter\", \"credit_id\": \"56fde2869251412a50000bf1\", \"gender\": 2, \"id\": 1363060, \"name\": \"Amra Mallassi\", \"order\": 68}, {\"cast_id\": 225, \"character\": \"Train Barman\", \"credit_id\": \"56fde2969251412a45000c15\", \"gender\": 2, \"id\": 1599275, \"name\": \"Ziad Abaza\", \"order\": 69}, {\"cast_id\": 226, \"character\": \"Blofeld\\'s Chauffeur\", \"credit_id\": \"56fde2a79251412a54000c55\", \"gender\": 2, \"id\": 1599276, \"name\": \"Walid Mumuni\", \"order\": 70}, {\"cast_id\": 227, \"character\": \"Blofeld\\'s Guard\", \"credit_id\": \"56fde2eb9251416cc200015b\", \"gender\": 0, \"id\": 1599277, \"name\": \"Derek Horsham\", \"order\": 71}, {\"cast_id\": 228, \"character\": \"Blofeld\\'s Guard\", \"credit_id\": \"56fde3059251412a47000b6a\", \"gender\": 2, \"id\": 229320, \"name\": \"Nari Blair-Mangat\", \"order\": 72}, {\"cast_id\": 229, \"character\": \"Blofeld\\'s Butler\", \"credit_id\": \"56fde321c3a36821ab000d32\", \"gender\": 0, \"id\": 1599278, \"name\": \"Michael White\", \"order\": 73}, {\"cast_id\": 230, \"character\": \"Blofeld\\'s Waiter\", \"credit_id\": \"56fde34c9251412a56000c21\", \"gender\": 0, \"id\": 1599279, \"name\": \"Adam McGrady\", \"order\": 74}, {\"cast_id\": 231, \"character\": \"Blofeld\\'s Analyst\", \"credit_id\": \"56fde36d9251412a50000c2b\", \"gender\": 2, \"id\": 1436816, \"name\": \"Nader Dernaika\", \"order\": 75}, {\"cast_id\": 232, \"character\": \"Blofeld\\'s Chief Analyst\", \"credit_id\": \"56fde37f9251412a4b000cf7\", \"gender\": 2, \"id\": 1599280, \"name\": \"Pezhmaan Alinia\", \"order\": 76}, {\"cast_id\": 31, \"character\": \"M (uncredited)\", \"credit_id\": \"562f218fc3a3681b5200c9e5\", \"gender\": 1, \"id\": 5309, \"name\": \"Judi Dench\", \"order\": 77}, {\"cast_id\": 26, \"character\": \"Clinic Patron (uncredited)\", \"credit_id\": \"5517b4bbc3a3686302002f36\", \"gender\": 1, \"id\": 1186597, \"name\": \"Neve Gachev\", \"order\": 78}, {\"cast_id\": 245, \"character\": \"Businessman (uncredited)\", \"credit_id\": \"57e11a3e92514104570052ba\", \"gender\": 2, \"id\": 1654739, \"name\": \"Karl Farrer\", \"order\": 79}, {\"cast_id\": 246, \"character\": \"Lair Staff (uncredited)\", \"credit_id\": \"57e124d992514104530055ec\", \"gender\": 1, \"id\": 1682535, \"name\": \"Kim Adis\", \"order\": 80}, {\"cast_id\": 247, \"character\": \"Mexican Sprite (uncredited)\", \"credit_id\": \"57e125ccc3a36853f2005365\", \"gender\": 1, \"id\": 1682536, \"name\": \"Maurisa Selene Coleman\", \"order\": 81}, {\"cast_id\": 249, \"character\": \"Pilot David\", \"credit_id\": \"585ab69fc3a3682fb8091219\", \"gender\": 2, \"id\": 1725801, \"name\": \"Matija Mondi Matovi\\\\u0107\", \"order\": 82}]',\n",
       "       ...,\n",
       "       '[{\"cast_id\": 8, \"character\": \"Oliver O\\\\u2019Toole\", \"credit_id\": \"52fe4df3c3a36847f8275ed3\", \"gender\": 2, \"id\": 11867, \"name\": \"Eric Mabius\", \"order\": 0}, {\"cast_id\": 9, \"character\": \"Shane McInerney\", \"credit_id\": \"52fe4df3c3a36847f8275ed7\", \"gender\": 1, \"id\": 34915, \"name\": \"Kristin Booth\", \"order\": 1}, {\"cast_id\": 11, \"character\": \"Rita Haywith\", \"credit_id\": \"52fe4df3c3a36847f8275edf\", \"gender\": 1, \"id\": 58393, \"name\": \"Crystal Lowe\", \"order\": 2}, {\"cast_id\": 12, \"character\": \"Norman Dorman\", \"credit_id\": \"52fe4df3c3a36847f8275ee3\", \"gender\": 0, \"id\": 119810, \"name\": \"Geoff Gustafson\", \"order\": 3}, {\"cast_id\": 14, \"character\": \"Charlie Riggs\", \"credit_id\": \"52fe4df3c3a36847f8275eeb\", \"gender\": 2, \"id\": 77865, \"name\": \"Benjamin Hollingsworth\", \"order\": 4}, {\"cast_id\": 13, \"character\": \"Kelly\", \"credit_id\": \"52fe4df3c3a36847f8275ee7\", \"gender\": 1, \"id\": 1037844, \"name\": \"Laci J Mailey\", \"order\": 5}, {\"cast_id\": 10, \"character\": \"Andrea Shmeckle\", \"credit_id\": \"52fe4df3c3a36847f8275edb\", \"gender\": 1, \"id\": 14668, \"name\": \"Daphne Zuniga\", \"order\": 6}]',\n",
       "       '[{\"cast_id\": 3, \"character\": \"Sam\", \"credit_id\": \"52fe4ad9c3a368484e16a375\", \"gender\": 2, \"id\": 82093, \"name\": \"Daniel Henney\", \"order\": 0}, {\"cast_id\": 4, \"character\": \"Amanda\", \"credit_id\": \"52fe4ad9c3a368484e16a379\", \"gender\": 1, \"id\": 210050, \"name\": \"Eliza Coupe\", \"order\": 1}, {\"cast_id\": 5, \"character\": \"Donald\", \"credit_id\": \"52fe4ad9c3a368484e16a37d\", \"gender\": 2, \"id\": 2053, \"name\": \"Bill Paxton\", \"order\": 2}, {\"cast_id\": 6, \"character\": \"Marcus Groff\", \"credit_id\": \"52fe4ad9c3a368484e16a381\", \"gender\": 2, \"id\": 2394, \"name\": \"Alan Ruck\", \"order\": 3}, {\"cast_id\": 7, \"character\": \"\", \"credit_id\": \"548347219251416e7b0081f7\", \"gender\": 0, \"id\": 1395490, \"name\": \"Zhu Shimao\", \"order\": 4}]',\n",
       "       '[{\"cast_id\": 3, \"character\": \"Herself\", \"credit_id\": \"52fe44e8c3a368484e03da91\", \"gender\": 1, \"id\": 69597, \"name\": \"Drew Barrymore\", \"order\": 0}, {\"cast_id\": 5, \"character\": \"Himself\", \"credit_id\": \"58ce01169251415a3901648f\", \"gender\": 2, \"id\": 85563, \"name\": \"Brian Herzlinger\", \"order\": 1}, {\"cast_id\": 6, \"character\": \"Himself\", \"credit_id\": \"58ce01339251415a410167f0\", \"gender\": 2, \"id\": 3034, \"name\": \"Corey Feldman\", \"order\": 2}, {\"cast_id\": 8, \"character\": \"Himself\", \"credit_id\": \"58ce018c9251415a7d016e36\", \"gender\": 2, \"id\": 21315, \"name\": \"Eric Roberts\", \"order\": 3}, {\"cast_id\": 9, \"character\": \"Himself\", \"credit_id\": \"58ce01b99251415a7d016e7d\", \"gender\": 0, \"id\": 2171, \"name\": \"Griffin Dunne\", \"order\": 4}, {\"cast_id\": 10, \"character\": \"Himself\", \"credit_id\": \"58ce01d19251415a8b0168be\", \"gender\": 2, \"id\": 2231, \"name\": \"Samuel L. Jackson\", \"order\": 5}, {\"cast_id\": 11, \"character\": \"Himself\", \"credit_id\": \"58ce01dd9251415a39016580\", \"gender\": 2, \"id\": 14407, \"name\": \"Matt LeBlanc\", \"order\": 6}, {\"cast_id\": 7, \"character\": \"Himself\", \"credit_id\": \"58ce0164c3a3685104015b28\", \"gender\": 2, \"id\": 155007, \"name\": \"Bill D\\'Elia\", \"order\": 7}]'],\n",
       "      dtype=object)"
      ]
     },
     "execution_count": 7,
     "metadata": {},
     "output_type": "execute_result"
    }
   ],
   "source": [
    "df_credits['cast'].values"
   ]
  },
  {
   "cell_type": "markdown",
   "id": "817ef482-0ec3-484a-9e96-7d1595db98d2",
   "metadata": {},
   "source": [
    "#### Dono data ko merge kre"
   ]
  },
  {
   "cell_type": "code",
   "execution_count": 8,
   "id": "e5891c2b-e578-4ba1-81a1-2253fd830541",
   "metadata": {},
   "outputs": [],
   "source": [
    "movies = df_movies.merge(df_credits,on='title') #jisme merge krna hai ose phele under jiko merge krna hai or kis base mai krna hai vo title mai"
   ]
  },
  {
   "cell_type": "code",
   "execution_count": 9,
   "id": "5556ff38-6cff-4171-92c4-342b8ca2403f",
   "metadata": {},
   "outputs": [
    {
     "data": {
      "text/plain": [
       "(4809, 23)"
      ]
     },
     "execution_count": 9,
     "metadata": {},
     "output_type": "execute_result"
    }
   ],
   "source": [
    "movies.shape"
   ]
  },
  {
   "cell_type": "code",
   "execution_count": 10,
   "id": "8dbd9afd-5146-48d5-981e-2471a49c8317",
   "metadata": {},
   "outputs": [
    {
     "data": {
      "text/plain": [
       "Index(['budget', 'genres', 'homepage', 'id', 'keywords', 'original_language',\n",
       "       'original_title', 'overview', 'popularity', 'production_companies',\n",
       "       'production_countries', 'release_date', 'revenue', 'runtime',\n",
       "       'spoken_languages', 'status', 'tagline', 'title', 'vote_average',\n",
       "       'vote_count', 'movie_id', 'cast', 'crew'],\n",
       "      dtype='object')"
      ]
     },
     "execution_count": 10,
     "metadata": {},
     "output_type": "execute_result"
    }
   ],
   "source": [
    "movies.columns"
   ]
  },
  {
   "cell_type": "code",
   "execution_count": 11,
   "id": "383a0205-4a5a-4a9f-97d3-4a401a52974c",
   "metadata": {},
   "outputs": [
    {
     "data": {
      "text/html": [
       "<div>\n",
       "<style scoped>\n",
       "    .dataframe tbody tr th:only-of-type {\n",
       "        vertical-align: middle;\n",
       "    }\n",
       "\n",
       "    .dataframe tbody tr th {\n",
       "        vertical-align: top;\n",
       "    }\n",
       "\n",
       "    .dataframe thead th {\n",
       "        text-align: right;\n",
       "    }\n",
       "</style>\n",
       "<table border=\"1\" class=\"dataframe\">\n",
       "  <thead>\n",
       "    <tr style=\"text-align: right;\">\n",
       "      <th></th>\n",
       "      <th>budget</th>\n",
       "      <th>genres</th>\n",
       "      <th>homepage</th>\n",
       "      <th>id</th>\n",
       "      <th>keywords</th>\n",
       "      <th>original_language</th>\n",
       "      <th>original_title</th>\n",
       "      <th>overview</th>\n",
       "      <th>popularity</th>\n",
       "      <th>production_companies</th>\n",
       "      <th>...</th>\n",
       "      <th>runtime</th>\n",
       "      <th>spoken_languages</th>\n",
       "      <th>status</th>\n",
       "      <th>tagline</th>\n",
       "      <th>title</th>\n",
       "      <th>vote_average</th>\n",
       "      <th>vote_count</th>\n",
       "      <th>movie_id</th>\n",
       "      <th>cast</th>\n",
       "      <th>crew</th>\n",
       "    </tr>\n",
       "  </thead>\n",
       "  <tbody>\n",
       "    <tr>\n",
       "      <th>0</th>\n",
       "      <td>237000000</td>\n",
       "      <td>[{\"id\": 28, \"name\": \"Action\"}, {\"id\": 12, \"nam...</td>\n",
       "      <td>http://www.avatarmovie.com/</td>\n",
       "      <td>19995</td>\n",
       "      <td>[{\"id\": 1463, \"name\": \"culture clash\"}, {\"id\":...</td>\n",
       "      <td>en</td>\n",
       "      <td>Avatar</td>\n",
       "      <td>In the 22nd century, a paraplegic Marine is di...</td>\n",
       "      <td>150.437577</td>\n",
       "      <td>[{\"name\": \"Ingenious Film Partners\", \"id\": 289...</td>\n",
       "      <td>...</td>\n",
       "      <td>162.0</td>\n",
       "      <td>[{\"iso_639_1\": \"en\", \"name\": \"English\"}, {\"iso...</td>\n",
       "      <td>Released</td>\n",
       "      <td>Enter the World of Pandora.</td>\n",
       "      <td>Avatar</td>\n",
       "      <td>7.2</td>\n",
       "      <td>11800</td>\n",
       "      <td>19995</td>\n",
       "      <td>[{\"cast_id\": 242, \"character\": \"Jake Sully\", \"...</td>\n",
       "      <td>[{\"credit_id\": \"52fe48009251416c750aca23\", \"de...</td>\n",
       "    </tr>\n",
       "  </tbody>\n",
       "</table>\n",
       "<p>1 rows × 23 columns</p>\n",
       "</div>"
      ],
      "text/plain": [
       "      budget                                             genres  \\\n",
       "0  237000000  [{\"id\": 28, \"name\": \"Action\"}, {\"id\": 12, \"nam...   \n",
       "\n",
       "                      homepage     id  \\\n",
       "0  http://www.avatarmovie.com/  19995   \n",
       "\n",
       "                                            keywords original_language  \\\n",
       "0  [{\"id\": 1463, \"name\": \"culture clash\"}, {\"id\":...                en   \n",
       "\n",
       "  original_title                                           overview  \\\n",
       "0         Avatar  In the 22nd century, a paraplegic Marine is di...   \n",
       "\n",
       "   popularity                               production_companies  ... runtime  \\\n",
       "0  150.437577  [{\"name\": \"Ingenious Film Partners\", \"id\": 289...  ...   162.0   \n",
       "\n",
       "                                    spoken_languages    status  \\\n",
       "0  [{\"iso_639_1\": \"en\", \"name\": \"English\"}, {\"iso...  Released   \n",
       "\n",
       "                       tagline   title vote_average vote_count movie_id  \\\n",
       "0  Enter the World of Pandora.  Avatar          7.2      11800    19995   \n",
       "\n",
       "                                                cast  \\\n",
       "0  [{\"cast_id\": 242, \"character\": \"Jake Sully\", \"...   \n",
       "\n",
       "                                                crew  \n",
       "0  [{\"credit_id\": \"52fe48009251416c750aca23\", \"de...  \n",
       "\n",
       "[1 rows x 23 columns]"
      ]
     },
     "execution_count": 11,
     "metadata": {},
     "output_type": "execute_result"
    }
   ],
   "source": [
    "movies.head(1)"
   ]
  },
  {
   "cell_type": "markdown",
   "id": "bc4d64c5-e1a0-485e-8543-d6b321b77c9f",
   "metadata": {},
   "source": [
    "#### Hm tag create kreke recommended system bnayge tho\n",
    "##### Tho hm columns choose krege jo tag create krne mai help krege"
   ]
  },
  {
   "cell_type": "code",
   "execution_count": 12,
   "id": "17bf2ef6-511f-4985-aa8a-102f78d60261",
   "metadata": {},
   "outputs": [],
   "source": [
    "# genres, id, keywords, overview, title,cast, crew"
   ]
  },
  {
   "cell_type": "code",
   "execution_count": 13,
   "id": "37ba30aa-64b2-4bcc-8b27-c0ffac3f2e2d",
   "metadata": {},
   "outputs": [
    {
     "data": {
      "text/html": [
       "<div>\n",
       "<style scoped>\n",
       "    .dataframe tbody tr th:only-of-type {\n",
       "        vertical-align: middle;\n",
       "    }\n",
       "\n",
       "    .dataframe tbody tr th {\n",
       "        vertical-align: top;\n",
       "    }\n",
       "\n",
       "    .dataframe thead th {\n",
       "        text-align: right;\n",
       "    }\n",
       "</style>\n",
       "<table border=\"1\" class=\"dataframe\">\n",
       "  <thead>\n",
       "    <tr style=\"text-align: right;\">\n",
       "      <th></th>\n",
       "      <th>id</th>\n",
       "      <th>title</th>\n",
       "      <th>genres</th>\n",
       "      <th>keywords</th>\n",
       "      <th>overview</th>\n",
       "      <th>cast</th>\n",
       "      <th>crew</th>\n",
       "    </tr>\n",
       "  </thead>\n",
       "  <tbody>\n",
       "    <tr>\n",
       "      <th>0</th>\n",
       "      <td>19995</td>\n",
       "      <td>Avatar</td>\n",
       "      <td>[{\"id\": 28, \"name\": \"Action\"}, {\"id\": 12, \"nam...</td>\n",
       "      <td>[{\"id\": 1463, \"name\": \"culture clash\"}, {\"id\":...</td>\n",
       "      <td>In the 22nd century, a paraplegic Marine is di...</td>\n",
       "      <td>[{\"cast_id\": 242, \"character\": \"Jake Sully\", \"...</td>\n",
       "      <td>[{\"credit_id\": \"52fe48009251416c750aca23\", \"de...</td>\n",
       "    </tr>\n",
       "    <tr>\n",
       "      <th>1</th>\n",
       "      <td>285</td>\n",
       "      <td>Pirates of the Caribbean: At World's End</td>\n",
       "      <td>[{\"id\": 12, \"name\": \"Adventure\"}, {\"id\": 14, \"...</td>\n",
       "      <td>[{\"id\": 270, \"name\": \"ocean\"}, {\"id\": 726, \"na...</td>\n",
       "      <td>Captain Barbossa, long believed to be dead, ha...</td>\n",
       "      <td>[{\"cast_id\": 4, \"character\": \"Captain Jack Spa...</td>\n",
       "      <td>[{\"credit_id\": \"52fe4232c3a36847f800b579\", \"de...</td>\n",
       "    </tr>\n",
       "    <tr>\n",
       "      <th>2</th>\n",
       "      <td>206647</td>\n",
       "      <td>Spectre</td>\n",
       "      <td>[{\"id\": 28, \"name\": \"Action\"}, {\"id\": 12, \"nam...</td>\n",
       "      <td>[{\"id\": 470, \"name\": \"spy\"}, {\"id\": 818, \"name...</td>\n",
       "      <td>A cryptic message from Bond’s past sends him o...</td>\n",
       "      <td>[{\"cast_id\": 1, \"character\": \"James Bond\", \"cr...</td>\n",
       "      <td>[{\"credit_id\": \"54805967c3a36829b5002c41\", \"de...</td>\n",
       "    </tr>\n",
       "    <tr>\n",
       "      <th>3</th>\n",
       "      <td>49026</td>\n",
       "      <td>The Dark Knight Rises</td>\n",
       "      <td>[{\"id\": 28, \"name\": \"Action\"}, {\"id\": 80, \"nam...</td>\n",
       "      <td>[{\"id\": 849, \"name\": \"dc comics\"}, {\"id\": 853,...</td>\n",
       "      <td>Following the death of District Attorney Harve...</td>\n",
       "      <td>[{\"cast_id\": 2, \"character\": \"Bruce Wayne / Ba...</td>\n",
       "      <td>[{\"credit_id\": \"52fe4781c3a36847f81398c3\", \"de...</td>\n",
       "    </tr>\n",
       "    <tr>\n",
       "      <th>4</th>\n",
       "      <td>49529</td>\n",
       "      <td>John Carter</td>\n",
       "      <td>[{\"id\": 28, \"name\": \"Action\"}, {\"id\": 12, \"nam...</td>\n",
       "      <td>[{\"id\": 818, \"name\": \"based on novel\"}, {\"id\":...</td>\n",
       "      <td>John Carter is a war-weary, former military ca...</td>\n",
       "      <td>[{\"cast_id\": 5, \"character\": \"John Carter\", \"c...</td>\n",
       "      <td>[{\"credit_id\": \"52fe479ac3a36847f813eaa3\", \"de...</td>\n",
       "    </tr>\n",
       "  </tbody>\n",
       "</table>\n",
       "</div>"
      ],
      "text/plain": [
       "       id                                     title  \\\n",
       "0   19995                                    Avatar   \n",
       "1     285  Pirates of the Caribbean: At World's End   \n",
       "2  206647                                   Spectre   \n",
       "3   49026                     The Dark Knight Rises   \n",
       "4   49529                               John Carter   \n",
       "\n",
       "                                              genres  \\\n",
       "0  [{\"id\": 28, \"name\": \"Action\"}, {\"id\": 12, \"nam...   \n",
       "1  [{\"id\": 12, \"name\": \"Adventure\"}, {\"id\": 14, \"...   \n",
       "2  [{\"id\": 28, \"name\": \"Action\"}, {\"id\": 12, \"nam...   \n",
       "3  [{\"id\": 28, \"name\": \"Action\"}, {\"id\": 80, \"nam...   \n",
       "4  [{\"id\": 28, \"name\": \"Action\"}, {\"id\": 12, \"nam...   \n",
       "\n",
       "                                            keywords  \\\n",
       "0  [{\"id\": 1463, \"name\": \"culture clash\"}, {\"id\":...   \n",
       "1  [{\"id\": 270, \"name\": \"ocean\"}, {\"id\": 726, \"na...   \n",
       "2  [{\"id\": 470, \"name\": \"spy\"}, {\"id\": 818, \"name...   \n",
       "3  [{\"id\": 849, \"name\": \"dc comics\"}, {\"id\": 853,...   \n",
       "4  [{\"id\": 818, \"name\": \"based on novel\"}, {\"id\":...   \n",
       "\n",
       "                                            overview  \\\n",
       "0  In the 22nd century, a paraplegic Marine is di...   \n",
       "1  Captain Barbossa, long believed to be dead, ha...   \n",
       "2  A cryptic message from Bond’s past sends him o...   \n",
       "3  Following the death of District Attorney Harve...   \n",
       "4  John Carter is a war-weary, former military ca...   \n",
       "\n",
       "                                                cast  \\\n",
       "0  [{\"cast_id\": 242, \"character\": \"Jake Sully\", \"...   \n",
       "1  [{\"cast_id\": 4, \"character\": \"Captain Jack Spa...   \n",
       "2  [{\"cast_id\": 1, \"character\": \"James Bond\", \"cr...   \n",
       "3  [{\"cast_id\": 2, \"character\": \"Bruce Wayne / Ba...   \n",
       "4  [{\"cast_id\": 5, \"character\": \"John Carter\", \"c...   \n",
       "\n",
       "                                                crew  \n",
       "0  [{\"credit_id\": \"52fe48009251416c750aca23\", \"de...  \n",
       "1  [{\"credit_id\": \"52fe4232c3a36847f800b579\", \"de...  \n",
       "2  [{\"credit_id\": \"54805967c3a36829b5002c41\", \"de...  \n",
       "3  [{\"credit_id\": \"52fe4781c3a36847f81398c3\", \"de...  \n",
       "4  [{\"credit_id\": \"52fe479ac3a36847f813eaa3\", \"de...  "
      ]
     },
     "execution_count": 13,
     "metadata": {},
     "output_type": "execute_result"
    }
   ],
   "source": [
    "main = movies[['id','title','genres','keywords','overview','cast','crew']]\n",
    "main.head()"
   ]
  },
  {
   "cell_type": "code",
   "execution_count": 14,
   "id": "00f94d3c-aa16-458e-a439-32f1d59e8b89",
   "metadata": {},
   "outputs": [
    {
     "data": {
      "text/plain": [
       "id          0\n",
       "title       0\n",
       "genres      0\n",
       "keywords    0\n",
       "overview    3\n",
       "cast        0\n",
       "crew        0\n",
       "dtype: int64"
      ]
     },
     "execution_count": 14,
     "metadata": {},
     "output_type": "execute_result"
    }
   ],
   "source": [
    "main.isnull().sum()"
   ]
  },
  {
   "cell_type": "code",
   "execution_count": 15,
   "id": "0439734d-a748-493c-89c4-e6ab4350024f",
   "metadata": {},
   "outputs": [
    {
     "name": "stderr",
     "output_type": "stream",
     "text": [
      "C:\\Users\\siddh\\AppData\\Local\\Temp\\ipykernel_16396\\1720482883.py:1: SettingWithCopyWarning: \n",
      "A value is trying to be set on a copy of a slice from a DataFrame\n",
      "\n",
      "See the caveats in the documentation: https://pandas.pydata.org/pandas-docs/stable/user_guide/indexing.html#returning-a-view-versus-a-copy\n",
      "  main.dropna(inplace=True)\n"
     ]
    },
    {
     "data": {
      "text/plain": [
       "id          0\n",
       "title       0\n",
       "genres      0\n",
       "keywords    0\n",
       "overview    0\n",
       "cast        0\n",
       "crew        0\n",
       "dtype: int64"
      ]
     },
     "execution_count": 15,
     "metadata": {},
     "output_type": "execute_result"
    }
   ],
   "source": [
    "main.dropna(inplace=True)\n",
    "main.isnull().sum()"
   ]
  },
  {
   "cell_type": "code",
   "execution_count": 16,
   "id": "80cec1e2-bced-4a61-b068-088bb30b732d",
   "metadata": {},
   "outputs": [
    {
     "data": {
      "text/plain": [
       "0"
      ]
     },
     "execution_count": 16,
     "metadata": {},
     "output_type": "execute_result"
    }
   ],
   "source": [
    "main.duplicated().sum()"
   ]
  },
  {
   "cell_type": "markdown",
   "id": "9875167a-18ea-4fd5-aec2-e7c309c8106c",
   "metadata": {},
   "source": [
    "##### Hme in columns [\tgenes, keywords, overview, cast,crew] ko merge krna hai or shi format mai lana hai \n",
    "##### Kuki ye ulte sidhe format mai hai\r\n"
   ]
  },
  {
   "cell_type": "code",
   "execution_count": 17,
   "id": "4291c04f-7c3a-4e2b-8ea8-f5291f62cd4a",
   "metadata": {},
   "outputs": [
    {
     "data": {
      "text/plain": [
       "'[{\"id\": 28, \"name\": \"Action\"}, {\"id\": 12, \"name\": \"Adventure\"}, {\"id\": 14, \"name\": \"Fantasy\"}, {\"id\": 878, \"name\": \"Science Fiction\"}]'"
      ]
     },
     "execution_count": 17,
     "metadata": {},
     "output_type": "execute_result"
    }
   ],
   "source": [
    "main.iloc[0].genres"
   ]
  },
  {
   "cell_type": "code",
   "execution_count": 18,
   "id": "e9367223-b954-45a2-86b1-2be9fa634517",
   "metadata": {},
   "outputs": [
    {
     "data": {
      "text/plain": [
       "'[{\"id\": 1463, \"name\": \"culture clash\"}, {\"id\": 2964, \"name\": \"future\"}, {\"id\": 3386, \"name\": \"space war\"}, {\"id\": 3388, \"name\": \"space colony\"}, {\"id\": 3679, \"name\": \"society\"}, {\"id\": 3801, \"name\": \"space travel\"}, {\"id\": 9685, \"name\": \"futuristic\"}, {\"id\": 9840, \"name\": \"romance\"}, {\"id\": 9882, \"name\": \"space\"}, {\"id\": 9951, \"name\": \"alien\"}, {\"id\": 10148, \"name\": \"tribe\"}, {\"id\": 10158, \"name\": \"alien planet\"}, {\"id\": 10987, \"name\": \"cgi\"}, {\"id\": 11399, \"name\": \"marine\"}, {\"id\": 13065, \"name\": \"soldier\"}, {\"id\": 14643, \"name\": \"battle\"}, {\"id\": 14720, \"name\": \"love affair\"}, {\"id\": 165431, \"name\": \"anti war\"}, {\"id\": 193554, \"name\": \"power relations\"}, {\"id\": 206690, \"name\": \"mind and soul\"}, {\"id\": 209714, \"name\": \"3d\"}]'"
      ]
     },
     "execution_count": 18,
     "metadata": {},
     "output_type": "execute_result"
    }
   ],
   "source": [
    "main.iloc[0].keywords"
   ]
  },
  {
   "cell_type": "markdown",
   "id": "8ca5e586-5af9-45b1-b70a-ab893b364a5a",
   "metadata": {},
   "source": [
    "##### hme is data k format shi krne k liye ek function bnayge jo ise shi format mai convert kr dega"
   ]
  },
  {
   "cell_type": "code",
   "execution_count": 19,
   "id": "77b39928-c237-4566-85ea-dc8fd4f1c766",
   "metadata": {},
   "outputs": [
    {
     "data": {
      "text/plain": [
       "[{'id': 28, 'name': 'Action'},\n",
       " {'id': 12, 'name': 'Adventure'},\n",
       " {'id': 14, 'name': 'Fantasy'},\n",
       " {'id': 878, 'name': 'Science Fiction'}]"
      ]
     },
     "execution_count": 19,
     "metadata": {},
     "output_type": "execute_result"
    }
   ],
   "source": [
    "# hmara genres ka data list mai hai mgr vo str dtype mai hai ose shi krna hai\n",
    "import ast\n",
    "ast.literal_eval('[{\"id\": 28, \"name\": \"Action\"}, {\"id\": 12, \"name\": \"Adventure\"}, {\"id\": 14, \"name\": \"Fantasy\"}, {\"id\": 878, \"name\": \"Science Fiction\"}]')"
   ]
  },
  {
   "cell_type": "code",
   "execution_count": 20,
   "id": "3d96ba67-64bc-4d81-a66c-082f70b0d71c",
   "metadata": {},
   "outputs": [],
   "source": [
    "# ye data ko shi format mai krega\n",
    "def convert(obj):  # function bnaya\n",
    "    l =[]         # empty list bnai jisme hm shi format m data convert krke daalege\n",
    "    for i in ast.literal_eval(obj):   # loop chlaya sari row k liye  ( ast.literal_eval(obj)) se str ka data list mai aa gya jiske under dic hai\n",
    "        l.append(i['name'])     # ye sirf name wala column append krega\n",
    "    return l        "
   ]
  },
  {
   "cell_type": "code",
   "execution_count": 21,
   "id": "5581d0ad-9e95-411d-ae4c-a7e6a8bc6a50",
   "metadata": {},
   "outputs": [
    {
     "name": "stderr",
     "output_type": "stream",
     "text": [
      "C:\\Users\\siddh\\AppData\\Local\\Temp\\ipykernel_16396\\1685538689.py:1: SettingWithCopyWarning: \n",
      "A value is trying to be set on a copy of a slice from a DataFrame.\n",
      "Try using .loc[row_indexer,col_indexer] = value instead\n",
      "\n",
      "See the caveats in the documentation: https://pandas.pydata.org/pandas-docs/stable/user_guide/indexing.html#returning-a-view-versus-a-copy\n",
      "  main['genres'] = main['genres'].apply(convert)\n"
     ]
    },
    {
     "data": {
      "text/html": [
       "<div>\n",
       "<style scoped>\n",
       "    .dataframe tbody tr th:only-of-type {\n",
       "        vertical-align: middle;\n",
       "    }\n",
       "\n",
       "    .dataframe tbody tr th {\n",
       "        vertical-align: top;\n",
       "    }\n",
       "\n",
       "    .dataframe thead th {\n",
       "        text-align: right;\n",
       "    }\n",
       "</style>\n",
       "<table border=\"1\" class=\"dataframe\">\n",
       "  <thead>\n",
       "    <tr style=\"text-align: right;\">\n",
       "      <th></th>\n",
       "      <th>id</th>\n",
       "      <th>title</th>\n",
       "      <th>genres</th>\n",
       "      <th>keywords</th>\n",
       "      <th>overview</th>\n",
       "      <th>cast</th>\n",
       "      <th>crew</th>\n",
       "    </tr>\n",
       "  </thead>\n",
       "  <tbody>\n",
       "    <tr>\n",
       "      <th>0</th>\n",
       "      <td>19995</td>\n",
       "      <td>Avatar</td>\n",
       "      <td>[Action, Adventure, Fantasy, Science Fiction]</td>\n",
       "      <td>[{\"id\": 1463, \"name\": \"culture clash\"}, {\"id\":...</td>\n",
       "      <td>In the 22nd century, a paraplegic Marine is di...</td>\n",
       "      <td>[{\"cast_id\": 242, \"character\": \"Jake Sully\", \"...</td>\n",
       "      <td>[{\"credit_id\": \"52fe48009251416c750aca23\", \"de...</td>\n",
       "    </tr>\n",
       "    <tr>\n",
       "      <th>1</th>\n",
       "      <td>285</td>\n",
       "      <td>Pirates of the Caribbean: At World's End</td>\n",
       "      <td>[Adventure, Fantasy, Action]</td>\n",
       "      <td>[{\"id\": 270, \"name\": \"ocean\"}, {\"id\": 726, \"na...</td>\n",
       "      <td>Captain Barbossa, long believed to be dead, ha...</td>\n",
       "      <td>[{\"cast_id\": 4, \"character\": \"Captain Jack Spa...</td>\n",
       "      <td>[{\"credit_id\": \"52fe4232c3a36847f800b579\", \"de...</td>\n",
       "    </tr>\n",
       "  </tbody>\n",
       "</table>\n",
       "</div>"
      ],
      "text/plain": [
       "      id                                     title  \\\n",
       "0  19995                                    Avatar   \n",
       "1    285  Pirates of the Caribbean: At World's End   \n",
       "\n",
       "                                          genres  \\\n",
       "0  [Action, Adventure, Fantasy, Science Fiction]   \n",
       "1                   [Adventure, Fantasy, Action]   \n",
       "\n",
       "                                            keywords  \\\n",
       "0  [{\"id\": 1463, \"name\": \"culture clash\"}, {\"id\":...   \n",
       "1  [{\"id\": 270, \"name\": \"ocean\"}, {\"id\": 726, \"na...   \n",
       "\n",
       "                                            overview  \\\n",
       "0  In the 22nd century, a paraplegic Marine is di...   \n",
       "1  Captain Barbossa, long believed to be dead, ha...   \n",
       "\n",
       "                                                cast  \\\n",
       "0  [{\"cast_id\": 242, \"character\": \"Jake Sully\", \"...   \n",
       "1  [{\"cast_id\": 4, \"character\": \"Captain Jack Spa...   \n",
       "\n",
       "                                                crew  \n",
       "0  [{\"credit_id\": \"52fe48009251416c750aca23\", \"de...  \n",
       "1  [{\"credit_id\": \"52fe4232c3a36847f800b579\", \"de...  "
      ]
     },
     "execution_count": 21,
     "metadata": {},
     "output_type": "execute_result"
    }
   ],
   "source": [
    "main['genres'] = main['genres'].apply(convert)\n",
    "main.head(2)"
   ]
  },
  {
   "cell_type": "code",
   "execution_count": 22,
   "id": "158e3de0-88b7-4b32-9659-b668f63f111c",
   "metadata": {},
   "outputs": [
    {
     "name": "stderr",
     "output_type": "stream",
     "text": [
      "C:\\Users\\siddh\\AppData\\Local\\Temp\\ipykernel_16396\\1127308999.py:2: SettingWithCopyWarning: \n",
      "A value is trying to be set on a copy of a slice from a DataFrame.\n",
      "Try using .loc[row_indexer,col_indexer] = value instead\n",
      "\n",
      "See the caveats in the documentation: https://pandas.pydata.org/pandas-docs/stable/user_guide/indexing.html#returning-a-view-versus-a-copy\n",
      "  main['keywords'] = main['keywords'].apply(convert)\n"
     ]
    },
    {
     "data": {
      "text/html": [
       "<div>\n",
       "<style scoped>\n",
       "    .dataframe tbody tr th:only-of-type {\n",
       "        vertical-align: middle;\n",
       "    }\n",
       "\n",
       "    .dataframe tbody tr th {\n",
       "        vertical-align: top;\n",
       "    }\n",
       "\n",
       "    .dataframe thead th {\n",
       "        text-align: right;\n",
       "    }\n",
       "</style>\n",
       "<table border=\"1\" class=\"dataframe\">\n",
       "  <thead>\n",
       "    <tr style=\"text-align: right;\">\n",
       "      <th></th>\n",
       "      <th>id</th>\n",
       "      <th>title</th>\n",
       "      <th>genres</th>\n",
       "      <th>keywords</th>\n",
       "      <th>overview</th>\n",
       "      <th>cast</th>\n",
       "      <th>crew</th>\n",
       "    </tr>\n",
       "  </thead>\n",
       "  <tbody>\n",
       "    <tr>\n",
       "      <th>0</th>\n",
       "      <td>19995</td>\n",
       "      <td>Avatar</td>\n",
       "      <td>[Action, Adventure, Fantasy, Science Fiction]</td>\n",
       "      <td>[culture clash, future, space war, space colon...</td>\n",
       "      <td>In the 22nd century, a paraplegic Marine is di...</td>\n",
       "      <td>[{\"cast_id\": 242, \"character\": \"Jake Sully\", \"...</td>\n",
       "      <td>[{\"credit_id\": \"52fe48009251416c750aca23\", \"de...</td>\n",
       "    </tr>\n",
       "    <tr>\n",
       "      <th>1</th>\n",
       "      <td>285</td>\n",
       "      <td>Pirates of the Caribbean: At World's End</td>\n",
       "      <td>[Adventure, Fantasy, Action]</td>\n",
       "      <td>[ocean, drug abuse, exotic island, east india ...</td>\n",
       "      <td>Captain Barbossa, long believed to be dead, ha...</td>\n",
       "      <td>[{\"cast_id\": 4, \"character\": \"Captain Jack Spa...</td>\n",
       "      <td>[{\"credit_id\": \"52fe4232c3a36847f800b579\", \"de...</td>\n",
       "    </tr>\n",
       "  </tbody>\n",
       "</table>\n",
       "</div>"
      ],
      "text/plain": [
       "      id                                     title  \\\n",
       "0  19995                                    Avatar   \n",
       "1    285  Pirates of the Caribbean: At World's End   \n",
       "\n",
       "                                          genres  \\\n",
       "0  [Action, Adventure, Fantasy, Science Fiction]   \n",
       "1                   [Adventure, Fantasy, Action]   \n",
       "\n",
       "                                            keywords  \\\n",
       "0  [culture clash, future, space war, space colon...   \n",
       "1  [ocean, drug abuse, exotic island, east india ...   \n",
       "\n",
       "                                            overview  \\\n",
       "0  In the 22nd century, a paraplegic Marine is di...   \n",
       "1  Captain Barbossa, long believed to be dead, ha...   \n",
       "\n",
       "                                                cast  \\\n",
       "0  [{\"cast_id\": 242, \"character\": \"Jake Sully\", \"...   \n",
       "1  [{\"cast_id\": 4, \"character\": \"Captain Jack Spa...   \n",
       "\n",
       "                                                crew  \n",
       "0  [{\"credit_id\": \"52fe48009251416c750aca23\", \"de...  \n",
       "1  [{\"credit_id\": \"52fe4232c3a36847f800b579\", \"de...  "
      ]
     },
     "execution_count": 22,
     "metadata": {},
     "output_type": "execute_result"
    }
   ],
   "source": [
    "# keywords wale column k sath ye hi kreke \n",
    "main['keywords'] = main['keywords'].apply(convert)\n",
    "main.head(2)"
   ]
  },
  {
   "cell_type": "code",
   "execution_count": 23,
   "id": "d1822ed3-1b28-4ce0-b82b-b0dc53d3e6f7",
   "metadata": {},
   "outputs": [],
   "source": [
    "# ab cast wale column mai se stat k 3 names lege kuki vo hi sbse jyada important hai"
   ]
  },
  {
   "cell_type": "code",
   "execution_count": 24,
   "id": "3be43ce0-775b-4692-bbad-2ef307611780",
   "metadata": {},
   "outputs": [],
   "source": [
    "def convert3(obj):\n",
    "    L = []\n",
    "    count = 0\n",
    "    for i in ast.literal_eval(obj):\n",
    "        if count != 3:      # hme sirf starting k 3 names chaiye islye 3 baar hi loop chlayge \n",
    "            L.append(i['name'])\n",
    "            count+=1\n",
    "        else:\n",
    "            break\n",
    "    return L\n",
    "        "
   ]
  },
  {
   "cell_type": "code",
   "execution_count": 25,
   "id": "5df74733-911d-42fe-97ed-62f182f6da7a",
   "metadata": {},
   "outputs": [
    {
     "name": "stderr",
     "output_type": "stream",
     "text": [
      "C:\\Users\\siddh\\AppData\\Local\\Temp\\ipykernel_16396\\1062116704.py:1: SettingWithCopyWarning: \n",
      "A value is trying to be set on a copy of a slice from a DataFrame.\n",
      "Try using .loc[row_indexer,col_indexer] = value instead\n",
      "\n",
      "See the caveats in the documentation: https://pandas.pydata.org/pandas-docs/stable/user_guide/indexing.html#returning-a-view-versus-a-copy\n",
      "  main['cast'] = main['cast'].apply(convert3)\n"
     ]
    }
   ],
   "source": [
    "main['cast'] = main['cast'].apply(convert3)"
   ]
  },
  {
   "cell_type": "code",
   "execution_count": 26,
   "id": "9d3ef7e1-82c8-456e-b42e-656eeb237ed4",
   "metadata": {},
   "outputs": [
    {
     "data": {
      "text/plain": [
       "0    [Sam Worthington, Zoe Saldana, Sigourney Weaver]\n",
       "1       [Johnny Depp, Orlando Bloom, Keira Knightley]\n",
       "Name: cast, dtype: object"
      ]
     },
     "execution_count": 26,
     "metadata": {},
     "output_type": "execute_result"
    }
   ],
   "source": [
    "main.iloc[0:2].cast"
   ]
  },
  {
   "cell_type": "code",
   "execution_count": 65,
   "id": "afb5f3d9-bdaa-4ce1-b07a-b10ecf33d4f6",
   "metadata": {},
   "outputs": [
    {
     "name": "stdout",
     "output_type": "stream",
     "text": [
      "['JamesCameron']\n"
     ]
    }
   ],
   "source": [
    "print(main['crew'][0])"
   ]
  },
  {
   "cell_type": "code",
   "execution_count": 28,
   "id": "2cfb2060-651d-49d1-9be9-d013f2fa72dc",
   "metadata": {},
   "outputs": [],
   "source": [
    "# crew mai se hme director ka name nikaalna hai   (osme job ki value Director hai)"
   ]
  },
  {
   "cell_type": "code",
   "execution_count": 29,
   "id": "edae700a-82e4-43ef-8986-a7850a6d31f8",
   "metadata": {},
   "outputs": [],
   "source": [
    "def fetch(obj):\n",
    "    l = []\n",
    "    for i in ast.literal_eval(obj):\n",
    "        if i['job'] == 'Director':   # data mai alg alg job mai jis job ki value Director hai hmne voi leni hai\n",
    "            l.append(i['name'])\n",
    "            break\n",
    "    return l"
   ]
  },
  {
   "cell_type": "code",
   "execution_count": 30,
   "id": "8767fd70-358a-4079-8055-868e01c9fd5d",
   "metadata": {},
   "outputs": [
    {
     "name": "stderr",
     "output_type": "stream",
     "text": [
      "C:\\Users\\siddh\\AppData\\Local\\Temp\\ipykernel_16396\\2693050586.py:1: SettingWithCopyWarning: \n",
      "A value is trying to be set on a copy of a slice from a DataFrame.\n",
      "Try using .loc[row_indexer,col_indexer] = value instead\n",
      "\n",
      "See the caveats in the documentation: https://pandas.pydata.org/pandas-docs/stable/user_guide/indexing.html#returning-a-view-versus-a-copy\n",
      "  main['crew']=main['crew'].apply(fetch)\n"
     ]
    }
   ],
   "source": [
    "main['crew']=main['crew'].apply(fetch)"
   ]
  },
  {
   "cell_type": "code",
   "execution_count": 31,
   "id": "98f70ef8-f086-4b04-91b1-c3ee40ac97d1",
   "metadata": {},
   "outputs": [
    {
     "data": {
      "text/html": [
       "<div>\n",
       "<style scoped>\n",
       "    .dataframe tbody tr th:only-of-type {\n",
       "        vertical-align: middle;\n",
       "    }\n",
       "\n",
       "    .dataframe tbody tr th {\n",
       "        vertical-align: top;\n",
       "    }\n",
       "\n",
       "    .dataframe thead th {\n",
       "        text-align: right;\n",
       "    }\n",
       "</style>\n",
       "<table border=\"1\" class=\"dataframe\">\n",
       "  <thead>\n",
       "    <tr style=\"text-align: right;\">\n",
       "      <th></th>\n",
       "      <th>id</th>\n",
       "      <th>title</th>\n",
       "      <th>genres</th>\n",
       "      <th>keywords</th>\n",
       "      <th>overview</th>\n",
       "      <th>cast</th>\n",
       "      <th>crew</th>\n",
       "    </tr>\n",
       "  </thead>\n",
       "  <tbody>\n",
       "    <tr>\n",
       "      <th>0</th>\n",
       "      <td>19995</td>\n",
       "      <td>Avatar</td>\n",
       "      <td>[Action, Adventure, Fantasy, Science Fiction]</td>\n",
       "      <td>[culture clash, future, space war, space colon...</td>\n",
       "      <td>In the 22nd century, a paraplegic Marine is di...</td>\n",
       "      <td>[Sam Worthington, Zoe Saldana, Sigourney Weaver]</td>\n",
       "      <td>[James Cameron]</td>\n",
       "    </tr>\n",
       "    <tr>\n",
       "      <th>1</th>\n",
       "      <td>285</td>\n",
       "      <td>Pirates of the Caribbean: At World's End</td>\n",
       "      <td>[Adventure, Fantasy, Action]</td>\n",
       "      <td>[ocean, drug abuse, exotic island, east india ...</td>\n",
       "      <td>Captain Barbossa, long believed to be dead, ha...</td>\n",
       "      <td>[Johnny Depp, Orlando Bloom, Keira Knightley]</td>\n",
       "      <td>[Gore Verbinski]</td>\n",
       "    </tr>\n",
       "  </tbody>\n",
       "</table>\n",
       "</div>"
      ],
      "text/plain": [
       "      id                                     title  \\\n",
       "0  19995                                    Avatar   \n",
       "1    285  Pirates of the Caribbean: At World's End   \n",
       "\n",
       "                                          genres  \\\n",
       "0  [Action, Adventure, Fantasy, Science Fiction]   \n",
       "1                   [Adventure, Fantasy, Action]   \n",
       "\n",
       "                                            keywords  \\\n",
       "0  [culture clash, future, space war, space colon...   \n",
       "1  [ocean, drug abuse, exotic island, east india ...   \n",
       "\n",
       "                                            overview  \\\n",
       "0  In the 22nd century, a paraplegic Marine is di...   \n",
       "1  Captain Barbossa, long believed to be dead, ha...   \n",
       "\n",
       "                                               cast              crew  \n",
       "0  [Sam Worthington, Zoe Saldana, Sigourney Weaver]   [James Cameron]  \n",
       "1     [Johnny Depp, Orlando Bloom, Keira Knightley]  [Gore Verbinski]  "
      ]
     },
     "execution_count": 31,
     "metadata": {},
     "output_type": "execute_result"
    }
   ],
   "source": [
    "main.head(2)"
   ]
  },
  {
   "cell_type": "code",
   "execution_count": 32,
   "id": "247f127a-2eb0-489f-8ef8-e4a5afe76f2f",
   "metadata": {},
   "outputs": [
    {
     "data": {
      "text/plain": [
       "dtype('O')"
      ]
     },
     "execution_count": 32,
     "metadata": {},
     "output_type": "execute_result"
    }
   ],
   "source": [
    "main['overview'].dtype"
   ]
  },
  {
   "cell_type": "code",
   "execution_count": 33,
   "id": "f01af39c-27ca-4132-a149-2ef9c5cf84a8",
   "metadata": {},
   "outputs": [
    {
     "data": {
      "text/plain": [
       "'In the 22nd century, a paraplegic Marine is dispatched to the moon Pandora on a unique mission, but becomes torn between following orders and protecting an alien civilization.'"
      ]
     },
     "execution_count": 33,
     "metadata": {},
     "output_type": "execute_result"
    }
   ],
   "source": [
    "main['overview'][0]"
   ]
  },
  {
   "cell_type": "code",
   "execution_count": 34,
   "id": "bf92b6c7-f1ff-470a-ba4c-73b897dc721a",
   "metadata": {},
   "outputs": [
    {
     "name": "stderr",
     "output_type": "stream",
     "text": [
      "C:\\Users\\siddh\\AppData\\Local\\Temp\\ipykernel_16396\\1844964770.py:2: SettingWithCopyWarning: \n",
      "A value is trying to be set on a copy of a slice from a DataFrame.\n",
      "Try using .loc[row_indexer,col_indexer] = value instead\n",
      "\n",
      "See the caveats in the documentation: https://pandas.pydata.org/pandas-docs/stable/user_guide/indexing.html#returning-a-view-versus-a-copy\n",
      "  main['overview']=main['overview'].apply(lambda x: x.split())   # .split hr ek word ko str se alg krke list mai store kr deta hai\n"
     ]
    }
   ],
   "source": [
    "# overview column str mai hai or hme osko list mai krna hai\n",
    "main['overview']=main['overview'].apply(lambda x: x.split())   # .split hr ek word ko str se alg krke list mai store kr deta hai"
   ]
  },
  {
   "cell_type": "code",
   "execution_count": 35,
   "id": "f78462a6-363f-4665-91d9-9dd943ce169d",
   "metadata": {},
   "outputs": [
    {
     "data": {
      "text/html": [
       "<div>\n",
       "<style scoped>\n",
       "    .dataframe tbody tr th:only-of-type {\n",
       "        vertical-align: middle;\n",
       "    }\n",
       "\n",
       "    .dataframe tbody tr th {\n",
       "        vertical-align: top;\n",
       "    }\n",
       "\n",
       "    .dataframe thead th {\n",
       "        text-align: right;\n",
       "    }\n",
       "</style>\n",
       "<table border=\"1\" class=\"dataframe\">\n",
       "  <thead>\n",
       "    <tr style=\"text-align: right;\">\n",
       "      <th></th>\n",
       "      <th>id</th>\n",
       "      <th>title</th>\n",
       "      <th>genres</th>\n",
       "      <th>keywords</th>\n",
       "      <th>overview</th>\n",
       "      <th>cast</th>\n",
       "      <th>crew</th>\n",
       "    </tr>\n",
       "  </thead>\n",
       "  <tbody>\n",
       "    <tr>\n",
       "      <th>0</th>\n",
       "      <td>19995</td>\n",
       "      <td>Avatar</td>\n",
       "      <td>[Action, Adventure, Fantasy, Science Fiction]</td>\n",
       "      <td>[culture clash, future, space war, space colon...</td>\n",
       "      <td>[In, the, 22nd, century,, a, paraplegic, Marin...</td>\n",
       "      <td>[Sam Worthington, Zoe Saldana, Sigourney Weaver]</td>\n",
       "      <td>[James Cameron]</td>\n",
       "    </tr>\n",
       "    <tr>\n",
       "      <th>1</th>\n",
       "      <td>285</td>\n",
       "      <td>Pirates of the Caribbean: At World's End</td>\n",
       "      <td>[Adventure, Fantasy, Action]</td>\n",
       "      <td>[ocean, drug abuse, exotic island, east india ...</td>\n",
       "      <td>[Captain, Barbossa,, long, believed, to, be, d...</td>\n",
       "      <td>[Johnny Depp, Orlando Bloom, Keira Knightley]</td>\n",
       "      <td>[Gore Verbinski]</td>\n",
       "    </tr>\n",
       "  </tbody>\n",
       "</table>\n",
       "</div>"
      ],
      "text/plain": [
       "      id                                     title  \\\n",
       "0  19995                                    Avatar   \n",
       "1    285  Pirates of the Caribbean: At World's End   \n",
       "\n",
       "                                          genres  \\\n",
       "0  [Action, Adventure, Fantasy, Science Fiction]   \n",
       "1                   [Adventure, Fantasy, Action]   \n",
       "\n",
       "                                            keywords  \\\n",
       "0  [culture clash, future, space war, space colon...   \n",
       "1  [ocean, drug abuse, exotic island, east india ...   \n",
       "\n",
       "                                            overview  \\\n",
       "0  [In, the, 22nd, century,, a, paraplegic, Marin...   \n",
       "1  [Captain, Barbossa,, long, believed, to, be, d...   \n",
       "\n",
       "                                               cast              crew  \n",
       "0  [Sam Worthington, Zoe Saldana, Sigourney Weaver]   [James Cameron]  \n",
       "1     [Johnny Depp, Orlando Bloom, Keira Knightley]  [Gore Verbinski]  "
      ]
     },
     "execution_count": 35,
     "metadata": {},
     "output_type": "execute_result"
    }
   ],
   "source": [
    "main.head(2)"
   ]
  },
  {
   "cell_type": "markdown",
   "id": "6b78b31c-e7e9-4fa5-a4a7-734c349e5b19",
   "metadata": {},
   "source": [
    "###### hmare data mai name etc k bich mai space mai ose remove krna hoga kuki jese kisi ka naam sid prasad hai vo horro movies bnata hai or ek or jgha sid sharma hai vo\n",
    "######  funny movies bnata hai tho sid naam ka ek tag bn jaayga jo worng output dega"
   ]
  },
  {
   "cell_type": "code",
   "execution_count": 36,
   "id": "27354957-4c8e-4712-820b-14605edceb36",
   "metadata": {},
   "outputs": [
    {
     "name": "stderr",
     "output_type": "stream",
     "text": [
      "C:\\Users\\siddh\\AppData\\Local\\Temp\\ipykernel_16396\\465308854.py:1: SettingWithCopyWarning: \n",
      "A value is trying to be set on a copy of a slice from a DataFrame.\n",
      "Try using .loc[row_indexer,col_indexer] = value instead\n",
      "\n",
      "See the caveats in the documentation: https://pandas.pydata.org/pandas-docs/stable/user_guide/indexing.html#returning-a-view-versus-a-copy\n",
      "  main['cast']=main['cast'].apply(lambda x:[i.replace(\" \", \"\") for i in x]) # lambda se space remove krre hai jo loop mai hora hai\n",
      "C:\\Users\\siddh\\AppData\\Local\\Temp\\ipykernel_16396\\465308854.py:2: SettingWithCopyWarning: \n",
      "A value is trying to be set on a copy of a slice from a DataFrame.\n",
      "Try using .loc[row_indexer,col_indexer] = value instead\n",
      "\n",
      "See the caveats in the documentation: https://pandas.pydata.org/pandas-docs/stable/user_guide/indexing.html#returning-a-view-versus-a-copy\n",
      "  main['genres'] = main['genres'].apply(lambda x:[i.replace(\" \",\"\") for i in x])\n",
      "C:\\Users\\siddh\\AppData\\Local\\Temp\\ipykernel_16396\\465308854.py:3: SettingWithCopyWarning: \n",
      "A value is trying to be set on a copy of a slice from a DataFrame.\n",
      "Try using .loc[row_indexer,col_indexer] = value instead\n",
      "\n",
      "See the caveats in the documentation: https://pandas.pydata.org/pandas-docs/stable/user_guide/indexing.html#returning-a-view-versus-a-copy\n",
      "  main['keywords'] = main['keywords'].apply(lambda x:[i.replace(\" \",\"\") for i in x])\n",
      "C:\\Users\\siddh\\AppData\\Local\\Temp\\ipykernel_16396\\465308854.py:4: SettingWithCopyWarning: \n",
      "A value is trying to be set on a copy of a slice from a DataFrame.\n",
      "Try using .loc[row_indexer,col_indexer] = value instead\n",
      "\n",
      "See the caveats in the documentation: https://pandas.pydata.org/pandas-docs/stable/user_guide/indexing.html#returning-a-view-versus-a-copy\n",
      "  main['overview'] = main['overview'].apply(lambda x:[i.replace(\" \",\"\") for i in x])\n",
      "C:\\Users\\siddh\\AppData\\Local\\Temp\\ipykernel_16396\\465308854.py:5: SettingWithCopyWarning: \n",
      "A value is trying to be set on a copy of a slice from a DataFrame.\n",
      "Try using .loc[row_indexer,col_indexer] = value instead\n",
      "\n",
      "See the caveats in the documentation: https://pandas.pydata.org/pandas-docs/stable/user_guide/indexing.html#returning-a-view-versus-a-copy\n",
      "  main['crew'] = main['crew'].apply(lambda x:[i.replace(\" \",\"\") for i in x])\n"
     ]
    }
   ],
   "source": [
    "main['cast']=main['cast'].apply(lambda x:[i.replace(\" \", \"\") for i in x]) # lambda se space remove krre hai jo loop mai hora hai\n",
    "main['genres'] = main['genres'].apply(lambda x:[i.replace(\" \",\"\") for i in x])\n",
    "main['keywords'] = main['keywords'].apply(lambda x:[i.replace(\" \",\"\") for i in x])\n",
    "main['overview'] = main['overview'].apply(lambda x:[i.replace(\" \",\"\") for i in x])\n",
    "main['crew'] = main['crew'].apply(lambda x:[i.replace(\" \",\"\") for i in x])"
   ]
  },
  {
   "cell_type": "code",
   "execution_count": 37,
   "id": "3d56d8e3-c389-4511-bde7-3128849c5764",
   "metadata": {},
   "outputs": [
    {
     "data": {
      "text/html": [
       "<div>\n",
       "<style scoped>\n",
       "    .dataframe tbody tr th:only-of-type {\n",
       "        vertical-align: middle;\n",
       "    }\n",
       "\n",
       "    .dataframe tbody tr th {\n",
       "        vertical-align: top;\n",
       "    }\n",
       "\n",
       "    .dataframe thead th {\n",
       "        text-align: right;\n",
       "    }\n",
       "</style>\n",
       "<table border=\"1\" class=\"dataframe\">\n",
       "  <thead>\n",
       "    <tr style=\"text-align: right;\">\n",
       "      <th></th>\n",
       "      <th>id</th>\n",
       "      <th>title</th>\n",
       "      <th>genres</th>\n",
       "      <th>keywords</th>\n",
       "      <th>overview</th>\n",
       "      <th>cast</th>\n",
       "      <th>crew</th>\n",
       "    </tr>\n",
       "  </thead>\n",
       "  <tbody>\n",
       "    <tr>\n",
       "      <th>0</th>\n",
       "      <td>19995</td>\n",
       "      <td>Avatar</td>\n",
       "      <td>[Action, Adventure, Fantasy, ScienceFiction]</td>\n",
       "      <td>[cultureclash, future, spacewar, spacecolony, ...</td>\n",
       "      <td>[In, the, 22nd, century,, a, paraplegic, Marin...</td>\n",
       "      <td>[SamWorthington, ZoeSaldana, SigourneyWeaver]</td>\n",
       "      <td>[JamesCameron]</td>\n",
       "    </tr>\n",
       "    <tr>\n",
       "      <th>1</th>\n",
       "      <td>285</td>\n",
       "      <td>Pirates of the Caribbean: At World's End</td>\n",
       "      <td>[Adventure, Fantasy, Action]</td>\n",
       "      <td>[ocean, drugabuse, exoticisland, eastindiatrad...</td>\n",
       "      <td>[Captain, Barbossa,, long, believed, to, be, d...</td>\n",
       "      <td>[JohnnyDepp, OrlandoBloom, KeiraKnightley]</td>\n",
       "      <td>[GoreVerbinski]</td>\n",
       "    </tr>\n",
       "  </tbody>\n",
       "</table>\n",
       "</div>"
      ],
      "text/plain": [
       "      id                                     title  \\\n",
       "0  19995                                    Avatar   \n",
       "1    285  Pirates of the Caribbean: At World's End   \n",
       "\n",
       "                                         genres  \\\n",
       "0  [Action, Adventure, Fantasy, ScienceFiction]   \n",
       "1                  [Adventure, Fantasy, Action]   \n",
       "\n",
       "                                            keywords  \\\n",
       "0  [cultureclash, future, spacewar, spacecolony, ...   \n",
       "1  [ocean, drugabuse, exoticisland, eastindiatrad...   \n",
       "\n",
       "                                            overview  \\\n",
       "0  [In, the, 22nd, century,, a, paraplegic, Marin...   \n",
       "1  [Captain, Barbossa,, long, believed, to, be, d...   \n",
       "\n",
       "                                            cast             crew  \n",
       "0  [SamWorthington, ZoeSaldana, SigourneyWeaver]   [JamesCameron]  \n",
       "1     [JohnnyDepp, OrlandoBloom, KeiraKnightley]  [GoreVerbinski]  "
      ]
     },
     "execution_count": 37,
     "metadata": {},
     "output_type": "execute_result"
    }
   ],
   "source": [
    "main.head(2)"
   ]
  },
  {
   "cell_type": "markdown",
   "id": "3f3570e5-f53a-4de8-9701-fe2dc2ffb241",
   "metadata": {},
   "source": [
    "#### Hmne sare tag create krne wale column k data ko shi format mai kr diya hai \n",
    "#### Ab new column bnayge jime ye sb hoge"
   ]
  },
  {
   "cell_type": "code",
   "execution_count": 38,
   "id": "2a960b9e-9a41-47f6-b568-395cf6410da8",
   "metadata": {},
   "outputs": [
    {
     "name": "stderr",
     "output_type": "stream",
     "text": [
      "C:\\Users\\siddh\\AppData\\Local\\Temp\\ipykernel_16396\\1885782954.py:1: SettingWithCopyWarning: \n",
      "A value is trying to be set on a copy of a slice from a DataFrame.\n",
      "Try using .loc[row_indexer,col_indexer] = value instead\n",
      "\n",
      "See the caveats in the documentation: https://pandas.pydata.org/pandas-docs/stable/user_guide/indexing.html#returning-a-view-versus-a-copy\n",
      "  main['tag'] = main['genres']+main['keywords']+main['overview']+main['cast']+main['crew']\n"
     ]
    }
   ],
   "source": [
    "main['tag'] = main['genres']+main['keywords']+main['overview']+main['cast']+main['crew']"
   ]
  },
  {
   "cell_type": "code",
   "execution_count": 39,
   "id": "32b17a8c-cd8d-4e57-b4d0-6070c96c630e",
   "metadata": {},
   "outputs": [
    {
     "data": {
      "text/html": [
       "<div>\n",
       "<style scoped>\n",
       "    .dataframe tbody tr th:only-of-type {\n",
       "        vertical-align: middle;\n",
       "    }\n",
       "\n",
       "    .dataframe tbody tr th {\n",
       "        vertical-align: top;\n",
       "    }\n",
       "\n",
       "    .dataframe thead th {\n",
       "        text-align: right;\n",
       "    }\n",
       "</style>\n",
       "<table border=\"1\" class=\"dataframe\">\n",
       "  <thead>\n",
       "    <tr style=\"text-align: right;\">\n",
       "      <th></th>\n",
       "      <th>id</th>\n",
       "      <th>title</th>\n",
       "      <th>genres</th>\n",
       "      <th>keywords</th>\n",
       "      <th>overview</th>\n",
       "      <th>cast</th>\n",
       "      <th>crew</th>\n",
       "      <th>tag</th>\n",
       "    </tr>\n",
       "  </thead>\n",
       "  <tbody>\n",
       "    <tr>\n",
       "      <th>0</th>\n",
       "      <td>19995</td>\n",
       "      <td>Avatar</td>\n",
       "      <td>[Action, Adventure, Fantasy, ScienceFiction]</td>\n",
       "      <td>[cultureclash, future, spacewar, spacecolony, ...</td>\n",
       "      <td>[In, the, 22nd, century,, a, paraplegic, Marin...</td>\n",
       "      <td>[SamWorthington, ZoeSaldana, SigourneyWeaver]</td>\n",
       "      <td>[JamesCameron]</td>\n",
       "      <td>[Action, Adventure, Fantasy, ScienceFiction, c...</td>\n",
       "    </tr>\n",
       "    <tr>\n",
       "      <th>1</th>\n",
       "      <td>285</td>\n",
       "      <td>Pirates of the Caribbean: At World's End</td>\n",
       "      <td>[Adventure, Fantasy, Action]</td>\n",
       "      <td>[ocean, drugabuse, exoticisland, eastindiatrad...</td>\n",
       "      <td>[Captain, Barbossa,, long, believed, to, be, d...</td>\n",
       "      <td>[JohnnyDepp, OrlandoBloom, KeiraKnightley]</td>\n",
       "      <td>[GoreVerbinski]</td>\n",
       "      <td>[Adventure, Fantasy, Action, ocean, drugabuse,...</td>\n",
       "    </tr>\n",
       "    <tr>\n",
       "      <th>2</th>\n",
       "      <td>206647</td>\n",
       "      <td>Spectre</td>\n",
       "      <td>[Action, Adventure, Crime]</td>\n",
       "      <td>[spy, basedonnovel, secretagent, sequel, mi6, ...</td>\n",
       "      <td>[A, cryptic, message, from, Bond’s, past, send...</td>\n",
       "      <td>[DanielCraig, ChristophWaltz, LéaSeydoux]</td>\n",
       "      <td>[SamMendes]</td>\n",
       "      <td>[Action, Adventure, Crime, spy, basedonnovel, ...</td>\n",
       "    </tr>\n",
       "  </tbody>\n",
       "</table>\n",
       "</div>"
      ],
      "text/plain": [
       "       id                                     title  \\\n",
       "0   19995                                    Avatar   \n",
       "1     285  Pirates of the Caribbean: At World's End   \n",
       "2  206647                                   Spectre   \n",
       "\n",
       "                                         genres  \\\n",
       "0  [Action, Adventure, Fantasy, ScienceFiction]   \n",
       "1                  [Adventure, Fantasy, Action]   \n",
       "2                    [Action, Adventure, Crime]   \n",
       "\n",
       "                                            keywords  \\\n",
       "0  [cultureclash, future, spacewar, spacecolony, ...   \n",
       "1  [ocean, drugabuse, exoticisland, eastindiatrad...   \n",
       "2  [spy, basedonnovel, secretagent, sequel, mi6, ...   \n",
       "\n",
       "                                            overview  \\\n",
       "0  [In, the, 22nd, century,, a, paraplegic, Marin...   \n",
       "1  [Captain, Barbossa,, long, believed, to, be, d...   \n",
       "2  [A, cryptic, message, from, Bond’s, past, send...   \n",
       "\n",
       "                                            cast             crew  \\\n",
       "0  [SamWorthington, ZoeSaldana, SigourneyWeaver]   [JamesCameron]   \n",
       "1     [JohnnyDepp, OrlandoBloom, KeiraKnightley]  [GoreVerbinski]   \n",
       "2      [DanielCraig, ChristophWaltz, LéaSeydoux]      [SamMendes]   \n",
       "\n",
       "                                                 tag  \n",
       "0  [Action, Adventure, Fantasy, ScienceFiction, c...  \n",
       "1  [Adventure, Fantasy, Action, ocean, drugabuse,...  \n",
       "2  [Action, Adventure, Crime, spy, basedonnovel, ...  "
      ]
     },
     "execution_count": 39,
     "metadata": {},
     "output_type": "execute_result"
    }
   ],
   "source": [
    "main.head(3)"
   ]
  },
  {
   "cell_type": "code",
   "execution_count": 40,
   "id": "c5bd7b65-f7f7-46aa-bf81-c4a4a54c237a",
   "metadata": {},
   "outputs": [],
   "source": [
    "new_df = main[['id','title','tag']]"
   ]
  },
  {
   "cell_type": "code",
   "execution_count": 41,
   "id": "35cdec7f-a592-4e09-a096-5322febf0d15",
   "metadata": {},
   "outputs": [
    {
     "data": {
      "text/html": [
       "<div>\n",
       "<style scoped>\n",
       "    .dataframe tbody tr th:only-of-type {\n",
       "        vertical-align: middle;\n",
       "    }\n",
       "\n",
       "    .dataframe tbody tr th {\n",
       "        vertical-align: top;\n",
       "    }\n",
       "\n",
       "    .dataframe thead th {\n",
       "        text-align: right;\n",
       "    }\n",
       "</style>\n",
       "<table border=\"1\" class=\"dataframe\">\n",
       "  <thead>\n",
       "    <tr style=\"text-align: right;\">\n",
       "      <th></th>\n",
       "      <th>id</th>\n",
       "      <th>title</th>\n",
       "      <th>tag</th>\n",
       "    </tr>\n",
       "  </thead>\n",
       "  <tbody>\n",
       "    <tr>\n",
       "      <th>0</th>\n",
       "      <td>19995</td>\n",
       "      <td>Avatar</td>\n",
       "      <td>[Action, Adventure, Fantasy, ScienceFiction, c...</td>\n",
       "    </tr>\n",
       "    <tr>\n",
       "      <th>1</th>\n",
       "      <td>285</td>\n",
       "      <td>Pirates of the Caribbean: At World's End</td>\n",
       "      <td>[Adventure, Fantasy, Action, ocean, drugabuse,...</td>\n",
       "    </tr>\n",
       "  </tbody>\n",
       "</table>\n",
       "</div>"
      ],
      "text/plain": [
       "      id                                     title  \\\n",
       "0  19995                                    Avatar   \n",
       "1    285  Pirates of the Caribbean: At World's End   \n",
       "\n",
       "                                                 tag  \n",
       "0  [Action, Adventure, Fantasy, ScienceFiction, c...  \n",
       "1  [Adventure, Fantasy, Action, ocean, drugabuse,...  "
      ]
     },
     "execution_count": 41,
     "metadata": {},
     "output_type": "execute_result"
    }
   ],
   "source": [
    "new_df.head(2)"
   ]
  },
  {
   "cell_type": "markdown",
   "id": "e6f03649-cb92-4774-bf17-e2d57a47f35c",
   "metadata": {},
   "source": [
    "##### tag column list k ander hai tho ose str mai krege"
   ]
  },
  {
   "cell_type": "code",
   "execution_count": 42,
   "id": "9bb0349b-c491-425a-a467-a9c5883e8292",
   "metadata": {},
   "outputs": [
    {
     "name": "stderr",
     "output_type": "stream",
     "text": [
      "C:\\Users\\siddh\\AppData\\Local\\Temp\\ipykernel_16396\\163217592.py:2: SettingWithCopyWarning: \n",
      "A value is trying to be set on a copy of a slice from a DataFrame.\n",
      "Try using .loc[row_indexer,col_indexer] = value instead\n",
      "\n",
      "See the caveats in the documentation: https://pandas.pydata.org/pandas-docs/stable/user_guide/indexing.html#returning-a-view-versus-a-copy\n",
      "  new_df['tag'] = new_df['tag'].apply(lambda x:\" \".join(x))\n"
     ]
    }
   ],
   "source": [
    "# \" \".join(x) list ke har item ko ek single string me merge karta hai, aur items ke beech me space add karta hai.\n",
    "new_df['tag'] = new_df['tag'].apply(lambda x:\" \".join(x))  "
   ]
  },
  {
   "cell_type": "code",
   "execution_count": 43,
   "id": "5a6e7653-289b-4597-baf8-d9ab0ce4285f",
   "metadata": {},
   "outputs": [
    {
     "data": {
      "text/plain": [
       "'Action Adventure Fantasy ScienceFiction cultureclash future spacewar spacecolony society spacetravel futuristic romance space alien tribe alienplanet cgi marine soldier battle loveaffair antiwar powerrelations mindandsoul 3d In the 22nd century, a paraplegic Marine is dispatched to the moon Pandora on a unique mission, but becomes torn between following orders and protecting an alien civilization. SamWorthington ZoeSaldana SigourneyWeaver JamesCameron'"
      ]
     },
     "execution_count": 43,
     "metadata": {},
     "output_type": "execute_result"
    }
   ],
   "source": [
    "new_df.iloc[0].tag\n",
    "# new_df['tag'][0]"
   ]
  },
  {
   "cell_type": "code",
   "execution_count": 44,
   "id": "ca091099-25d8-45ad-9d4f-21b9d035a479",
   "metadata": {},
   "outputs": [
    {
     "data": {
      "text/html": [
       "<div>\n",
       "<style scoped>\n",
       "    .dataframe tbody tr th:only-of-type {\n",
       "        vertical-align: middle;\n",
       "    }\n",
       "\n",
       "    .dataframe tbody tr th {\n",
       "        vertical-align: top;\n",
       "    }\n",
       "\n",
       "    .dataframe thead th {\n",
       "        text-align: right;\n",
       "    }\n",
       "</style>\n",
       "<table border=\"1\" class=\"dataframe\">\n",
       "  <thead>\n",
       "    <tr style=\"text-align: right;\">\n",
       "      <th></th>\n",
       "      <th>id</th>\n",
       "      <th>title</th>\n",
       "      <th>tag</th>\n",
       "    </tr>\n",
       "  </thead>\n",
       "  <tbody>\n",
       "    <tr>\n",
       "      <th>0</th>\n",
       "      <td>19995</td>\n",
       "      <td>Avatar</td>\n",
       "      <td>Action Adventure Fantasy ScienceFiction cultur...</td>\n",
       "    </tr>\n",
       "    <tr>\n",
       "      <th>1</th>\n",
       "      <td>285</td>\n",
       "      <td>Pirates of the Caribbean: At World's End</td>\n",
       "      <td>Adventure Fantasy Action ocean drugabuse exoti...</td>\n",
       "    </tr>\n",
       "    <tr>\n",
       "      <th>2</th>\n",
       "      <td>206647</td>\n",
       "      <td>Spectre</td>\n",
       "      <td>Action Adventure Crime spy basedonnovel secret...</td>\n",
       "    </tr>\n",
       "    <tr>\n",
       "      <th>3</th>\n",
       "      <td>49026</td>\n",
       "      <td>The Dark Knight Rises</td>\n",
       "      <td>Action Crime Drama Thriller dccomics crimefigh...</td>\n",
       "    </tr>\n",
       "    <tr>\n",
       "      <th>4</th>\n",
       "      <td>49529</td>\n",
       "      <td>John Carter</td>\n",
       "      <td>Action Adventure ScienceFiction basedonnovel m...</td>\n",
       "    </tr>\n",
       "  </tbody>\n",
       "</table>\n",
       "</div>"
      ],
      "text/plain": [
       "       id                                     title  \\\n",
       "0   19995                                    Avatar   \n",
       "1     285  Pirates of the Caribbean: At World's End   \n",
       "2  206647                                   Spectre   \n",
       "3   49026                     The Dark Knight Rises   \n",
       "4   49529                               John Carter   \n",
       "\n",
       "                                                 tag  \n",
       "0  Action Adventure Fantasy ScienceFiction cultur...  \n",
       "1  Adventure Fantasy Action ocean drugabuse exoti...  \n",
       "2  Action Adventure Crime spy basedonnovel secret...  \n",
       "3  Action Crime Drama Thriller dccomics crimefigh...  \n",
       "4  Action Adventure ScienceFiction basedonnovel m...  "
      ]
     },
     "execution_count": 44,
     "metadata": {},
     "output_type": "execute_result"
    }
   ],
   "source": [
    "new_df.head()"
   ]
  },
  {
   "cell_type": "code",
   "execution_count": 45,
   "id": "86e2e85d-35c4-4ce8-a409-f2b7991c1b06",
   "metadata": {},
   "outputs": [
    {
     "name": "stderr",
     "output_type": "stream",
     "text": [
      "C:\\Users\\siddh\\AppData\\Local\\Temp\\ipykernel_16396\\2370209156.py:1: SettingWithCopyWarning: \n",
      "A value is trying to be set on a copy of a slice from a DataFrame.\n",
      "Try using .loc[row_indexer,col_indexer] = value instead\n",
      "\n",
      "See the caveats in the documentation: https://pandas.pydata.org/pandas-docs/stable/user_guide/indexing.html#returning-a-view-versus-a-copy\n",
      "  new_df['tag']=new_df['tag'].apply(lambda x: x.lower())\n"
     ]
    }
   ],
   "source": [
    "new_df['tag']=new_df['tag'].apply(lambda x: x.lower())"
   ]
  },
  {
   "cell_type": "code",
   "execution_count": 46,
   "id": "668a6713-157d-46d0-954e-7d54c3ee49ff",
   "metadata": {},
   "outputs": [
    {
     "data": {
      "text/html": [
       "<div>\n",
       "<style scoped>\n",
       "    .dataframe tbody tr th:only-of-type {\n",
       "        vertical-align: middle;\n",
       "    }\n",
       "\n",
       "    .dataframe tbody tr th {\n",
       "        vertical-align: top;\n",
       "    }\n",
       "\n",
       "    .dataframe thead th {\n",
       "        text-align: right;\n",
       "    }\n",
       "</style>\n",
       "<table border=\"1\" class=\"dataframe\">\n",
       "  <thead>\n",
       "    <tr style=\"text-align: right;\">\n",
       "      <th></th>\n",
       "      <th>id</th>\n",
       "      <th>title</th>\n",
       "      <th>tag</th>\n",
       "    </tr>\n",
       "  </thead>\n",
       "  <tbody>\n",
       "    <tr>\n",
       "      <th>1</th>\n",
       "      <td>285</td>\n",
       "      <td>Pirates of the Caribbean: At World's End</td>\n",
       "      <td>adventure fantasy action ocean drugabuse exoti...</td>\n",
       "    </tr>\n",
       "    <tr>\n",
       "      <th>2</th>\n",
       "      <td>206647</td>\n",
       "      <td>Spectre</td>\n",
       "      <td>action adventure crime spy basedonnovel secret...</td>\n",
       "    </tr>\n",
       "  </tbody>\n",
       "</table>\n",
       "</div>"
      ],
      "text/plain": [
       "       id                                     title  \\\n",
       "1     285  Pirates of the Caribbean: At World's End   \n",
       "2  206647                                   Spectre   \n",
       "\n",
       "                                                 tag  \n",
       "1  adventure fantasy action ocean drugabuse exoti...  \n",
       "2  action adventure crime spy basedonnovel secret...  "
      ]
     },
     "execution_count": 46,
     "metadata": {},
     "output_type": "execute_result"
    }
   ],
   "source": [
    "new_df.iloc[1:3]"
   ]
  },
  {
   "cell_type": "markdown",
   "id": "f6f25082-1468-4873-a685-28619c9b1109",
   "metadata": {},
   "source": [
    "##### Hmara tag wale column mai loving loved love etc or bhi similar word hai jo same meaning btate hai tho onko same hi krna hai like : love"
   ]
  },
  {
   "cell_type": "code",
   "execution_count": 47,
   "id": "93aaa001-1cb9-4714-9cf1-2511b33f7bd0",
   "metadata": {},
   "outputs": [],
   "source": [
    "import nltk"
   ]
  },
  {
   "cell_type": "code",
   "execution_count": 48,
   "id": "a1a051e5-b4b4-41fb-b2b6-ad91550afa85",
   "metadata": {},
   "outputs": [],
   "source": [
    "# ye common words jinka meaning same hota hai onko 1 hi word mai likhta hai jese loving, loved,love inko love kr dega\n",
    "from nltk.stem.porter import PorterStemmer   "
   ]
  },
  {
   "cell_type": "code",
   "execution_count": 49,
   "id": "f9669e92-94a3-4a79-b48f-bc843243dfc0",
   "metadata": {},
   "outputs": [],
   "source": [
    "ps = PorterStemmer()"
   ]
  },
  {
   "cell_type": "code",
   "execution_count": 50,
   "id": "76b1a445-a4af-4ac6-aa22-e4571100c02d",
   "metadata": {},
   "outputs": [],
   "source": [
    "def stem(text):\n",
    "    y =[]\n",
    "    for i in text.split():    # hmara text str hai tho phele ose list mai krege .split list mai daal deta hai\n",
    "        y.append(ps.stem(i))\n",
    "    return \" \".join(y)"
   ]
  },
  {
   "cell_type": "code",
   "execution_count": 51,
   "id": "40180b08-7249-4ebf-bbe0-e3f855a03ba1",
   "metadata": {},
   "outputs": [
    {
     "data": {
      "text/plain": [
       "'love'"
      ]
     },
     "execution_count": 51,
     "metadata": {},
     "output_type": "execute_result"
    }
   ],
   "source": [
    "stem('loving')"
   ]
  },
  {
   "cell_type": "code",
   "execution_count": 52,
   "id": "aa71ed34-bc72-4ae0-ad39-a7c450088953",
   "metadata": {},
   "outputs": [
    {
     "name": "stderr",
     "output_type": "stream",
     "text": [
      "C:\\Users\\siddh\\AppData\\Local\\Temp\\ipykernel_16396\\599176683.py:1: SettingWithCopyWarning: \n",
      "A value is trying to be set on a copy of a slice from a DataFrame.\n",
      "Try using .loc[row_indexer,col_indexer] = value instead\n",
      "\n",
      "See the caveats in the documentation: https://pandas.pydata.org/pandas-docs/stable/user_guide/indexing.html#returning-a-view-versus-a-copy\n",
      "  new_df['tag']=new_df['tag'].apply(stem)\n"
     ]
    }
   ],
   "source": [
    "new_df['tag']=new_df['tag'].apply(stem)"
   ]
  },
  {
   "cell_type": "code",
   "execution_count": 53,
   "id": "48b540a5-8175-4001-9dd8-a74bb60424c3",
   "metadata": {},
   "outputs": [
    {
     "data": {
      "text/html": [
       "<div>\n",
       "<style scoped>\n",
       "    .dataframe tbody tr th:only-of-type {\n",
       "        vertical-align: middle;\n",
       "    }\n",
       "\n",
       "    .dataframe tbody tr th {\n",
       "        vertical-align: top;\n",
       "    }\n",
       "\n",
       "    .dataframe thead th {\n",
       "        text-align: right;\n",
       "    }\n",
       "</style>\n",
       "<table border=\"1\" class=\"dataframe\">\n",
       "  <thead>\n",
       "    <tr style=\"text-align: right;\">\n",
       "      <th></th>\n",
       "      <th>id</th>\n",
       "      <th>title</th>\n",
       "      <th>tag</th>\n",
       "    </tr>\n",
       "  </thead>\n",
       "  <tbody>\n",
       "    <tr>\n",
       "      <th>0</th>\n",
       "      <td>19995</td>\n",
       "      <td>Avatar</td>\n",
       "      <td>action adventur fantasi sciencefict culturecla...</td>\n",
       "    </tr>\n",
       "    <tr>\n",
       "      <th>1</th>\n",
       "      <td>285</td>\n",
       "      <td>Pirates of the Caribbean: At World's End</td>\n",
       "      <td>adventur fantasi action ocean drugabus exotici...</td>\n",
       "    </tr>\n",
       "    <tr>\n",
       "      <th>2</th>\n",
       "      <td>206647</td>\n",
       "      <td>Spectre</td>\n",
       "      <td>action adventur crime spi basedonnovel secreta...</td>\n",
       "    </tr>\n",
       "    <tr>\n",
       "      <th>3</th>\n",
       "      <td>49026</td>\n",
       "      <td>The Dark Knight Rises</td>\n",
       "      <td>action crime drama thriller dccomic crimefight...</td>\n",
       "    </tr>\n",
       "    <tr>\n",
       "      <th>4</th>\n",
       "      <td>49529</td>\n",
       "      <td>John Carter</td>\n",
       "      <td>action adventur sciencefict basedonnovel mar m...</td>\n",
       "    </tr>\n",
       "  </tbody>\n",
       "</table>\n",
       "</div>"
      ],
      "text/plain": [
       "       id                                     title  \\\n",
       "0   19995                                    Avatar   \n",
       "1     285  Pirates of the Caribbean: At World's End   \n",
       "2  206647                                   Spectre   \n",
       "3   49026                     The Dark Knight Rises   \n",
       "4   49529                               John Carter   \n",
       "\n",
       "                                                 tag  \n",
       "0  action adventur fantasi sciencefict culturecla...  \n",
       "1  adventur fantasi action ocean drugabus exotici...  \n",
       "2  action adventur crime spi basedonnovel secreta...  \n",
       "3  action crime drama thriller dccomic crimefight...  \n",
       "4  action adventur sciencefict basedonnovel mar m...  "
      ]
     },
     "execution_count": 53,
     "metadata": {},
     "output_type": "execute_result"
    }
   ],
   "source": [
    "new_df.head()"
   ]
  },
  {
   "cell_type": "code",
   "execution_count": null,
   "id": "72641496-3f48-446b-bdde-a90b4999c636",
   "metadata": {},
   "outputs": [],
   "source": []
  },
  {
   "cell_type": "markdown",
   "id": "6655d1e5-164f-4cd8-be1a-64df942c5206",
   "metadata": {},
   "source": [
    "#### tag ko hm vectorize krege "
   ]
  },
  {
   "cell_type": "code",
   "execution_count": 54,
   "id": "4fbb8cc0-5944-432f-94be-7dd20344284c",
   "metadata": {},
   "outputs": [],
   "source": [
    "from sklearn.feature_extraction.text import CountVectorizer"
   ]
  },
  {
   "cell_type": "code",
   "execution_count": 55,
   "id": "46bb1fb4-669b-4ed4-8e7d-74087018d626",
   "metadata": {},
   "outputs": [],
   "source": [
    "cv = CountVectorizer(max_features=5000,stop_words='english')   # feature 5000 mtlb 5000 points bnege"
   ]
  },
  {
   "cell_type": "code",
   "execution_count": 56,
   "id": "83de91bf-65b3-4cbc-8e3a-3bdbd474981a",
   "metadata": {},
   "outputs": [
    {
     "data": {
      "text/plain": [
       "array([[0, 0, 0, ..., 0, 0, 0],\n",
       "       [0, 0, 0, ..., 0, 0, 0],\n",
       "       [0, 0, 0, ..., 0, 0, 0],\n",
       "       ...,\n",
       "       [0, 0, 0, ..., 0, 0, 0],\n",
       "       [0, 0, 0, ..., 0, 0, 0],\n",
       "       [0, 0, 0, ..., 0, 0, 0]], dtype=int64)"
      ]
     },
     "execution_count": 56,
     "metadata": {},
     "output_type": "execute_result"
    }
   ],
   "source": [
    "vectors= cv.fit_transform(new_df['tag']).toarray()\n",
    "vectors"
   ]
  },
  {
   "cell_type": "code",
   "execution_count": 57,
   "id": "84d9dc8f-62d6-4f63-b914-78cc23491d15",
   "metadata": {},
   "outputs": [
    {
     "data": {
      "text/plain": [
       "(4806, 5000)"
      ]
     },
     "execution_count": 57,
     "metadata": {},
     "output_type": "execute_result"
    }
   ],
   "source": [
    "vectors.shape"
   ]
  },
  {
   "cell_type": "markdown",
   "id": "797bb188-0813-4b76-b820-7eba053dfd9f",
   "metadata": {},
   "source": [
    "###### Hme jo 5000 feature bnaye hai onke dekhe"
   ]
  },
  {
   "cell_type": "code",
   "execution_count": 58,
   "id": "2ed836b4-d517-48e8-bb61-95ec5fbdfbb4",
   "metadata": {},
   "outputs": [
    {
     "data": {
      "text/plain": [
       "array(['000', '007', '10', ..., 'zone', 'zoo', 'zooeydeschanel'],\n",
       "      dtype=object)"
      ]
     },
     "execution_count": 58,
     "metadata": {},
     "output_type": "execute_result"
    }
   ],
   "source": [
    "# np.set_printoptions(threshold=np.inf)  # isse ... inki jgha sari value dikhti hai\n",
    "cv.get_feature_names_out()"
   ]
  },
  {
   "cell_type": "markdown",
   "id": "9a7d2108-a22b-466e-bda7-f0431d2af42f",
   "metadata": {},
   "source": [
    "#### ek movie ko dusri se compaire krege ki vo kitni similar hai taki jyada similar movies ko hm recommend kr ske \n",
    "##### hmne vector create kre hai hm os points k bich ka distance measure krege"
   ]
  },
  {
   "cell_type": "code",
   "execution_count": 59,
   "id": "456d8b1c-30a5-4817-bb18-fdf57b45df7a",
   "metadata": {},
   "outputs": [],
   "source": [
    "from sklearn.metrics.pairwise import cosine_similarity"
   ]
  },
  {
   "cell_type": "code",
   "execution_count": 60,
   "id": "24f74d75-3817-4f94-9772-899fcec23c08",
   "metadata": {},
   "outputs": [],
   "source": [
    "similarity = cosine_similarity(vectors)  # hr ek movie ka hr ek movie se similarity check hoga "
   ]
  },
  {
   "cell_type": "code",
   "execution_count": 61,
   "id": "210b3220-79cd-4beb-9537-013d9640969b",
   "metadata": {},
   "outputs": [
    {
     "data": {
      "text/plain": [
       "(4806, 4806)"
      ]
     },
     "execution_count": 61,
     "metadata": {},
     "output_type": "execute_result"
    }
   ],
   "source": [
    "similarity.shape "
   ]
  },
  {
   "cell_type": "code",
   "execution_count": 62,
   "id": "0af26b35-0c77-43b4-9430-e47b19039a00",
   "metadata": {},
   "outputs": [
    {
     "data": {
      "text/plain": [
       "array([1.        , 0.08346223, 0.0860309 , ..., 0.04499213, 0.        ,\n",
       "       0.        ])"
      ]
     },
     "execution_count": 62,
     "metadata": {},
     "output_type": "execute_result"
    }
   ],
   "source": [
    "similarity[0]   # pheli movie ka phela 1 hai mtlb oska apne se similarity 1 hai yani same hai"
   ]
  },
  {
   "cell_type": "code",
   "execution_count": 63,
   "id": "3ae8c184-7d15-4420-a86b-abbf0c82c2ed",
   "metadata": {},
   "outputs": [
    {
     "data": {
      "text/plain": [
       "array([0.08346223, 1.        , 0.06063391, ..., 0.02378257, 0.        ,\n",
       "       0.02615329])"
      ]
     },
     "execution_count": 63,
     "metadata": {},
     "output_type": "execute_result"
    }
   ],
   "source": [
    "similarity[1]   # 2nd movie ka 2nd 1 hai mtlb oska apne se similarity 1 hai yani same hai"
   ]
  },
  {
   "cell_type": "markdown",
   "id": "5c089985-bf3d-4029-a982-da3f5f4d9b8f",
   "metadata": {},
   "source": [
    "#### Hme ab top 5 similarity movie nikaalni hai \n",
    "##### isliye sort krege "
   ]
  },
  {
   "cell_type": "code",
   "execution_count": 67,
   "id": "fd7310de-ae2f-406b-b3ac-893e1560f894",
   "metadata": {},
   "outputs": [
    {
     "name": "stdout",
     "output_type": "stream",
     "text": [
      "[1.0000000000000002, 0.28676966733820225, 0.26901379342448517, 0.2605130246476754, 0.255608593705383, 0.25038669783359574, 0.24511108480187255, 0.24455799402225925, 0.2367785320221084, 0.23179316248638276, 0.23174488732966073, 0.2278389747471728, 0.2252817784447915, 0.21853668936906193, 0.21239769762143662, 0.2108663315950723, 0.2105263157894737, 0.20443988269091456, 0.20437977982832192, 0.20395079136182276, 0.2029530274475215, 0.2029530274475215, 0.20277677641345318, 0.2024645717996314, 0.2020475485519274, 0.1979082783981174, 0.19767387315371682, 0.1976738731537168, 0.19672236884115843, 0.1925214071641298, 0.19134594929397597, 0.19088542889273336, 0.19088542889273336, 0.19007487139298027, 0.1892994097121204, 0.18731716231633883, 0.1873171623163388, 0.18693292157876878, 0.1860807318911967, 0.18394180184548975, 0.18394180184548975, 0.1813690625275029, 0.18074256993863339, 0.17996850826633903, 0.17954621161490197, 0.1777046633277277, 0.177343107178349, 0.17699808135119718, 0.17521916101261562, 0.17521916101261562, 0.17521916101261562, 0.1748149640244195, 0.17316974359835272, 0.17292861596651865, 0.1711905958155815, 0.1711905958155815, 0.17040572913692198, 0.16943474841747155, 0.1675415633166782, 0.16742770563222897, 0.16742770563222897, 0.16692446522239718, 0.16563698349810535, 0.16452254913212452, 0.16426202236672155, 0.16222142113076254, 0.16122923187750418, 0.16059101370939324, 0.15907119074394446, 0.15907119074394446, 0.15789473684210528, 0.15737789507292674, 0.15609763526361567, 0.15511334686589626, 0.1540171257313038, 0.15389675281277312, 0.15389675281277312, 0.152008377581442, 0.15018785229652767, 0.15018785229652767, 0.15018785229652765, 0.14843120879858804, 0.14843120879858804, 0.14808721943977307, 0.14673479641335554, 0.14659886790209342, 0.14601068654819693, 0.14567913668701626, 0.14567913668701626, 0.14509525002200235, 0.14509525002200235, 0.14509525002200233, 0.14421498760030763, 0.1442149876003076, 0.14350946197048198, 0.14350946197048198, 0.1433848336691011, 0.1433848336691011, 0.1433848336691011, 0.1419745572840903, 0.1419745572840903, 0.14159846508095775, 0.14159846508095775, 0.1411956236812263, 0.1411956236812263, 0.1411956236812263, 0.1411956236812263, 0.14048787173725413, 0.13977653617040256, 0.1391037210186643, 0.1391037210186643, 0.13872950617564817, 0.13834289277321493, 0.13834289277321493, 0.13834289277321493, 0.13834289277321493, 0.13710212427677043, 0.13710212427677043, 0.13710212427677043, 0.13710212427677043, 0.13629325512727639, 0.13530201829834768, 0.13530201829834768, 0.13530201829834768, 0.13530201829834768, 0.13530201829834768, 0.13518451760896877, 0.13497638119975428, 0.13476498501489081, 0.13369695534647594, 0.13369695534647594, 0.13369695534647594, 0.13334518676566626, 0.13334518676566626, 0.1324532357065044, 0.1324532357065044, 0.1324532357065044, 0.13157894736842107, 0.13124359177794215, 0.12988108336653278, 0.12988108336653278, 0.12988108336653278, 0.12977713690461004, 0.12977713690461004, 0.12977713690461004, 0.12892051277806202, 0.12824729401064427, 0.12824729401064427, 0.12824729401064427, 0.12824729401064427, 0.12824729401064427, 0.12824729401064427, 0.12725695259515557, 0.12725695259515557, 0.12725695259515557, 0.126673647984535, 0.12565617248750865, 0.12565617248750863, 0.12515654358043973, 0.12515654358043973, 0.12515654358043973, 0.12515654358043973, 0.12487810821089254, 0.12487810821089254, 0.12487810821089254, 0.12487810821089254, 0.12462194771917919, 0.12361284651454937, 0.12262786789699316, 0.12262786789699316, 0.12262786789699313, 0.12227899701112963, 0.12227899701112963, 0.12227899701112963, 0.12166606584807191, 0.12166606584807191, 0.12166606584807191, 0.12072654548783007, 0.1204950466257556, 0.1204950466257556, 0.1204950466257556, 0.1204950466257556, 0.1204950466257556, 0.11980845957463077, 0.11959121830873498, 0.11959121830873498, 0.11959121830873498, 0.11959121830873498, 0.11846977555181847, 0.11846977555181847, 0.11846977555181847, 0.11846977555181847, 0.11846977555181847, 0.11803342130469506, 0.11803342130469505, 0.11803342130469505, 0.11803342130469505, 0.11803342130469505, 0.11712303424679457, 0.11707322644771176, 0.11707322644771176, 0.11707322644771176, 0.11707322644771176, 0.11707322644771176, 0.116543309349613, 0.116543309349613, 0.116543309349613, 0.116543309349613, 0.1163350101494222, 0.11587244366483038, 0.11551284429847784, 0.11506355109724453, 0.1147078669352809, 0.1147078669352809, 0.11470786693528087, 0.11470786693528087, 0.1141270638770543, 0.11357771260606365, 0.11357771260606365, 0.11295649894498103, 0.11295649894498103, 0.1124803176664619, 0.1124803176664619, 0.1124803176664619, 0.11243619908556624, 0.11239029738980327, 0.11164843913471803, 0.11164843913471803, 0.11164843913471803, 0.11164843913471803, 0.11141412945539662, 0.11141412945539662, 0.11141412945539661, 0.11128297681493143, 0.11128297681493143, 0.11128297681493143, 0.11128297681493143, 0.11092107999698035, 0.11092107999698035, 0.11037769642208699, 0.11020775375559676, 0.11020775375559674, 0.10968169942141637, 0.10968169942141635, 0.10968169942141635, 0.10968169942141635, 0.10968169942141635, 0.10968169942141635, 0.10968169942141635, 0.10936965981495178, 0.10882143751650175, 0.10882143751650175, 0.10882143751650175, 0.10882143751650175, 0.10876595882948199, 0.10838874619051501, 0.10838874619051501, 0.10838874619051501, 0.10838874619051501, 0.10814761408717502, 0.10814761408717502, 0.10814761408717502, 0.1074861545850028, 0.10743376064838502, 0.1068366854693644, 0.106676149412533, 0.106676149412533, 0.106676149412533, 0.10650358071057624, 0.10650358071057624, 0.10619884881071831, 0.10619884881071831, 0.10619884881071831, 0.10619884881071831, 0.10619884881071831, 0.10619884881071831, 0.10559715077387793, 0.10559715077387793, 0.10559715077387793, 0.10526315789473685, 0.10526315789473685, 0.10526315789473685, 0.10526315789473685, 0.10471347707292386, 0.10390486669322622, 0.10390486669322622, 0.10390486669322622, 0.10390486669322622, 0.10390486669322622, 0.10390486669322622, 0.10390486669322622, 0.10385162309931599, 0.10385162309931599, 0.1037571695799112, 0.1037571695799112, 0.1037571695799112, 0.1037571695799112, 0.1037571695799112, 0.1037571695799112, 0.1037571695799112, 0.1037571695799112, 0.1037571695799112, 0.10301070542879115, 0.10259783520851541, 0.10259783520851541, 0.10259783520851541, 0.10259783520851541, 0.10259783520851541, 0.10259783520851541, 0.10259783520851541, 0.10218988991416095, 0.10147651372376076, 0.10147651372376076, 0.10147651372376076, 0.10138838820672659, 0.101338918387628, 0.101338918387628, 0.10133891838762799, 0.10060545457319173, 0.10060545457319173, 0.10060545457319173, 0.10012523486435178, 0.10012523486435178, 0.10012523486435178, 0.10012523486435178, 0.10012523486435178, 0.10012523486435178, 0.09933992677987831, 0.09933992677987831, 0.09933992677987831, 0.09933992677987831, 0.09933992677987831, 0.09933992677987831, 0.09933992677987831, 0.09933992677987831, 0.09933992677987831, 0.09933992677987831, 0.09933992677987831, 0.09933992677987831, 0.09909250441117726, 0.09909250441117726, 0.0989541391990587, 0.0989541391990587, 0.0989541391990587, 0.0989541391990587, 0.0989541391990587, 0.0989541391990587, 0.09836118442057921, 0.0978231976089037, 0.0978231976089037, 0.0978231976089037, 0.0978231976089037, 0.0978231976089037, 0.0978231976089037, 0.0978231976089037, 0.0978231976089037, 0.09733285267845754, 0.09733285267845754, 0.09733285267845754, 0.09733285267845754, 0.09733285267845754, 0.09733285267845754, 0.09733285267845754, 0.09733285267845754, 0.09733285267845754, 0.09733285267845754, 0.09733285267845754, 0.0967301666813349, 0.0967301666813349, 0.09567297464698798, 0.09567297464698798, 0.09567297464698798, 0.09567297464698798, 0.09558988911273408, 0.09544271444636668, 0.09544271444636668, 0.09544271444636668, 0.09544271444636668, 0.09544271444636668, 0.09493290614465533, 0.09464970485606021, 0.09464970485606021, 0.09365858115816941, 0.09365858115816941, 0.09365858115816941, 0.09365858115816941, 0.09365858115816941, 0.09365858115816941, 0.09365858115816941, 0.09365858115816941, 0.09365858115816941, 0.09365858115816941, 0.09365858115816941, 0.09365858115816941, 0.09365858115816941, 0.09365858115816941, 0.09365858115816941, 0.09365858115816941, 0.09365858115816941, 0.09365858115816941, 0.09365858115816941, 0.09365858115816939, 0.09269795493186431, 0.09269795493186431, 0.09269795493186431, 0.09269795493186431, 0.09269795493186431, 0.09269795493186431, 0.09269795493186431, 0.09269795493186431, 0.09269795493186431, 0.09243423333081695, 0.09197090092274487, 0.09197090092274487, 0.09197090092274487, 0.09197090092274487, 0.09197090092274487, 0.09197090092274487, 0.09197090092274487, 0.09183979479633063, 0.09183979479633063, 0.09125667909262308, 0.09125667909262308, 0.09086217008485092, 0.09086217008485092, 0.09086217008485092, 0.09086217008485092, 0.09086217008485092, 0.09086217008485092, 0.09037128496931669, 0.09037128496931669, 0.09037128496931669, 0.09037128496931669, 0.09037128496931669, 0.09037128496931669, 0.09037128496931669, 0.09037128496931669, 0.09037128496931669, 0.08998425413316952, 0.08998425413316952, 0.08998425413316952, 0.08998425413316952, 0.08998425413316952, 0.08998425413316952, 0.08998425413316952, 0.08998425413316952, 0.08998425413316952, 0.08977310580745099, 0.0891313035643173, 0.08903057122447033, 0.08885233166386385, 0.08885233166386385, 0.08885233166386385, 0.08885233166386385, 0.08885233166386385, 0.08885233166386385, 0.08830215713766959, 0.08830215713766959, 0.08830215713766959, 0.08830215713766959, 0.08830215713766959, 0.08830215713766959, 0.08830215713766959, 0.08830215713766959, 0.08797691788472335, 0.08749572785196143, 0.08749572785196143, 0.08746392856766495, 0.08740748201220976, 0.08740748201220976, 0.08740748201220976, 0.08740748201220976, 0.08740748201220976, 0.08740748201220976, 0.08740748201220976, 0.08740748201220976, 0.08740748201220976, 0.08740748201220976, 0.08671099695241201, 0.08671099695241201, 0.08671099695241201, 0.08671099695241201, 0.08671099695241201, 0.08671099695241201, 0.08671099695241201, 0.08671099695241201, 0.08603090020146065, 0.08603090020146065, 0.08603090020146065, 0.08603090020146065, 0.08603090020146065, 0.08603090020146065, 0.08603090020146065, 0.08594700851870801, 0.08594700851870801, 0.08594700851870801, 0.08520286456846099, 0.08520286456846099, 0.08471737420873576, 0.08471737420873576, 0.08471737420873576, 0.08471737420873576, 0.08471737420873576, 0.08471737420873576, 0.08471737420873576, 0.08447772061910234, 0.08447772061910234, 0.08447772061910234, 0.08447772061910234, 0.08447772061910234, 0.0837707816583391, 0.0837707816583391, 0.0837707816583391, 0.0837707816583391, 0.0837707816583391, 0.0837707816583391, 0.0837707816583391, 0.0837707816583391, 0.08346223261119858, 0.08346223261119858, 0.08346223261119858, 0.08346223261119858, 0.08346223261119858, 0.08346223261119858, 0.08346223261119858, 0.08321783316232578, 0.0830812984794528, 0.0830812984794528, 0.0830812984794528, 0.08240856434303293, 0.08240856434303293, 0.08226127456606226, 0.08226127456606226, 0.08226127456606226, 0.08226127456606226, 0.08226127456606226, 0.08226127456606226, 0.08226127456606226, 0.08226127456606226, 0.08226127456606226, 0.08226127456606226, 0.08226127456606226, 0.08226127456606226, 0.08175191193132876, 0.08175191193132876, 0.08111071056538127, 0.08111071056538127, 0.08111071056538127, 0.08111071056538127, 0.08111071056538127, 0.08111071056538127, 0.08111071056538127, 0.08111071056538127, 0.08111071056538127, 0.08111071056538127, 0.08111071056538127, 0.08111071056538127, 0.08111071056538127, 0.08111071056538127, 0.08111071056538127, 0.08111071056538127, 0.08111071056538127, 0.08111071056538127, 0.08111071056538127, 0.08111071056538127, 0.08111071056538127, 0.08111071056538127, 0.08111071056538127, 0.08111071056538127, 0.08048436365855338, 0.08000711205939975, 0.08000711205939975, 0.08000711205939975, 0.08000711205939975, 0.08000711205939975, 0.08000711205939975, 0.08000711205939975, 0.08000711205939975, 0.08000711205939975, 0.07992075789278004, 0.07987230638308718, 0.07987230638308718, 0.07987230638308718, 0.07987230638308718, 0.07987230638308718, 0.0792740035289418, 0.07894736842105264, 0.07894736842105264, 0.07894736842105264, 0.07894736842105264, 0.07894736842105264, 0.07894736842105264, 0.07894736842105264, 0.07894736842105264, 0.07894736842105264, 0.07878168645790681, 0.07868894753646337, 0.07868894753646337, 0.07868894753646337, 0.07868894753646337, 0.07868894753646337, 0.07868894753646337, 0.07868894753646337, 0.07868894753646337, 0.07868894753646337, 0.07843304784240032, 0.0781166566864507, 0.0781166566864507, 0.07792865001991967, 0.07792865001991967, 0.07792865001991967, 0.07792865001991967, 0.07792865001991967, 0.07792865001991967, 0.07792865001991967, 0.07792865001991967, 0.07792865001991967, 0.07792865001991967, 0.07755667343294813, 0.07755667343294813, 0.0770085628656519, 0.07694837640638656, 0.07694837640638656, 0.07694837640638656, 0.07694837640638656, 0.07694837640638656, 0.07694837640638656, 0.07694837640638656, 0.07694837640638656, 0.07694837640638656, 0.07694837640638656, 0.07694837640638656, 0.07647191129018727, 0.07647191129018727, 0.07647191129018727, 0.07647191129018727, 0.07647191129018727, 0.07647191129018727, 0.07647191129018727, 0.07647191129018727, 0.07647191129018727, 0.07647191129018727, 0.076004188790721, 0.076004188790721, 0.076004188790721, 0.076004188790721, 0.076004188790721, 0.076004188790721, 0.076004188790721, 0.076004188790721, 0.076004188790721, 0.076004188790721, 0.07594632491572426, 0.07543142864047142, 0.07530940414109724, 0.07509392614826384, 0.07509392614826384, 0.07509392614826384, 0.07509392614826384, 0.07509392614826384, 0.07509392614826384, 0.07509392614826384, 0.07509392614826384, 0.07509392614826384, 0.07509392614826384, 0.07509392614826384, 0.07509392614826384, 0.07492686492653551, 0.07443229275647868, 0.07443229275647868, 0.07443229275647868, 0.07443229275647868, 0.07443229275647868, 0.07443229275647868, 0.07443229275647868, 0.07443229275647868, 0.07443229275647868, 0.07443229275647868, 0.07443229275647868, 0.07443229275647868, 0.07443229275647868, 0.07443229275647868, 0.07443229275647868, 0.07421560439929402, 0.07421560439929402, 0.07421560439929402, 0.07421560439929402, 0.07421560439929402, 0.07394738666465357, 0.07394738666465357, 0.07394738666465357, 0.0734718358370645, 0.0734718358370645, 0.07336739820667779, 0.07336739820667779, 0.07336739820667779, 0.07336739820667779, 0.07336739820667779, 0.07336739820667779, 0.07336739820667779, 0.07336739820667777, 0.07336739820667777, 0.07254762501100118, 0.07254762501100118, 0.07254762501100118, 0.07254762501100118, 0.07254762501100118, 0.07254762501100118, 0.07254762501100118, 0.07254762501100118, 0.07254762501100118, 0.07254762501100116, 0.07254762501100116, 0.07254762501100116, 0.07254762501100116, 0.07254762501100116, 0.07254762501100116, 0.07254762501100116, 0.07254762501100116, 0.07254762501100116, 0.07254762501100116, 0.07254762501100116, 0.07254762501100116, 0.07254762501100116, 0.07254762501100116, 0.07254762501100116, 0.07254762501100116, 0.07254762501100116, 0.07254762501100116, 0.07254762501100116, 0.07209840939145001, 0.07209840939145001, 0.07175473098524099, 0.07175473098524099, 0.07175473098524099, 0.07175473098524099, 0.07175473098524099, 0.07175473098524099, 0.07175473098524099, 0.07175473098524099, 0.07175473098524099, 0.07175473098524099, 0.07175473098524099, 0.07175473098524099, 0.07175473098524099, 0.07098727864204515, 0.07098727864204515, 0.07098727864204515, 0.07098727864204515, 0.07098727864204515, 0.07098727864204515, 0.07098727864204515, 0.07098727864204515, 0.07098727864204515, 0.07098727864204515, 0.07098727864204515, 0.07098727864204515, 0.07079923254047887, 0.07079923254047887, 0.07079923254047887, 0.07079923254047887, 0.07079923254047887, 0.07079923254047887, 0.07079923254047887, 0.07038153430777869, 0.07038153430777869, 0.07024393586862707, 0.07024393586862707, 0.07024393586862707, 0.06952346619889824, 0.06952346619889824, 0.06952346619889824, 0.06952346619889824, 0.06952346619889824, 0.06952346619889824, 0.06952346619889824, 0.06952346619889824, 0.06952346619889824, 0.06952346619889824, 0.06917144638660747, 0.06917144638660747, 0.06917144638660747, 0.06917144638660747, 0.06917144638660747, 0.06882472016116853, 0.06882472016116853, 0.06882472016116853, 0.06882472016116853, 0.06882472016116853, 0.06882472016116853, 0.06882472016116853, 0.06814662756363819, 0.06814662756363819, 0.06814662756363819, 0.06814662756363819, 0.06814662756363819, 0.06814662756363819, 0.06814662756363819, 0.06814662756363819, 0.06814662756363819, 0.06814662756363819, 0.06814662756363819, 0.06765100914917384, 0.06765100914917384, 0.06765100914917384, 0.06765100914917384, 0.06765100914917384, 0.06765100914917384, 0.06765100914917384, 0.06765100914917384, 0.06765100914917384, 0.06765100914917384, 0.06765100914917384, 0.06765100914917384, 0.06765100914917384, 0.06765100914917384, 0.06765100914917384, 0.06765100914917384, 0.06765100914917384, 0.06748819059987714, 0.06748819059987714, 0.06748819059987714, 0.06748819059987714, 0.06748819059987714, 0.06748819059987714, 0.0672863110252489, 0.06684847767323797, 0.06684847767323797, 0.06684847767323797, 0.06684847767323797, 0.06657426652986062, 0.0662266178532522, 0.0662266178532522, 0.0662266178532522, 0.0662266178532522, 0.0662266178532522, 0.0662266178532522, 0.0662266178532522, 0.0662266178532522, 0.0662266178532522, 0.0662266178532522, 0.0662266178532522, 0.0662266178532522, 0.0662266178532522, 0.0662266178532522, 0.0662266178532522, 0.0662266178532522, 0.06622661785325219, 0.06622661785325219, 0.06622661785325219, 0.06622661785325219, 0.06622661785325219, 0.06622661785325219, 0.06622661785325219, 0.06622661785325219, 0.06622661785325219, 0.06622661785325219, 0.06578947368421054, 0.06562179588897107, 0.06562179588897107, 0.06562179588897107, 0.06562179588897107, 0.06562179588897107, 0.06562179588897107, 0.06562179588897107, 0.06554735253444621, 0.06521546507260247, 0.065033247714309, 0.065033247714309, 0.065033247714309, 0.065033247714309, 0.065033247714309, 0.06488856845230502, 0.06488856845230502, 0.06488856845230502, 0.06488856845230502, 0.06488856845230502, 0.06488856845230502, 0.06488856845230502, 0.06488856845230502, 0.06488856845230502, 0.06488856845230502, 0.06488856845230502, 0.06488856845230502, 0.06488856845230502, 0.06488856845230502, 0.06488856845230502, 0.06488856845230502, 0.06488856845230502, 0.06488856845230502, 0.06488856845230502, 0.06488856845230502, 0.06488856845230502, 0.06446025638903101, 0.06446025638903101, 0.06446025638903101, 0.06446025638903101, 0.06446025638903101, 0.06424925662032356, 0.06390214842634574, 0.06390214842634574, 0.06390214842634574, 0.06390214842634574, 0.06390214842634574, 0.06390214842634574, 0.06362847629757779, 0.06362847629757779, 0.06362847629757779, 0.06362847629757779, 0.06362847629757779, 0.06362847629757779, 0.06362847629757779, 0.06362847629757779, 0.06362847629757779, 0.06362847629757779, 0.06362847629757779, 0.06362847629757779, 0.06362847629757779, 0.06362847629757779, 0.06362847629757779, 0.06362847629757779, 0.06362847629757779, 0.06362847629757779, 0.06362847629757779, 0.06362847629757779, 0.06335829046432676, 0.06335829046432676, 0.06335829046432676, 0.06335829046432676, 0.06335829046432676, 0.06282808624375433, 0.06282808624375433, 0.06282808624375433, 0.06282808624375433, 0.06282808624375433, 0.06282808624375433, 0.06243905410544627, 0.06243905410544627, 0.06243905410544627, 0.06243905410544627, 0.06243905410544627, 0.06243905410544627, 0.06243905410544627, 0.06243905410544627, 0.06243905410544627, 0.06243905410544627, 0.0623109738595896, 0.0623109738595896, 0.0623109738595896, 0.0623109738595896, 0.0623109738595896, 0.0623109738595896, 0.0623109738595896, 0.0623109738595896, 0.06231097385958959, 0.061806423257274694, 0.061806423257274694, 0.061806423257274694, 0.06131393394849658, 0.06131393394849658, 0.06131393394849658, 0.06131393394849658, 0.06131393394849658, 0.06131393394849658, 0.06131393394849658, 0.06131393394849658, 0.06131393394849658, 0.06131393394849658, 0.06131393394849658, 0.06131393394849658, 0.06131393394849658, 0.06131393394849658, 0.06131393394849658, 0.06131393394849658, 0.06131393394849658, 0.06131393394849658, 0.06131393394849658, 0.06131393394849658, 0.06131393394849658, 0.06131393394849658, 0.06131393394849658, 0.06131393394849658, 0.061313933948496574, 0.061313933948496574, 0.061313933948496574, 0.061313933948496574, 0.060833032924035954, 0.060833032924035954, 0.060833032924035954, 0.060833032924035954, 0.060363272743915036, 0.0602475233128778, 0.0602475233128778, 0.0602475233128778, 0.0602475233128778, 0.0602475233128778, 0.0602475233128778, 0.0602475233128778, 0.0602475233128778, 0.0602475233128778, 0.0602475233128778, 0.0602475233128778, 0.0602475233128778, 0.0602475233128778, 0.0602475233128778, 0.0602475233128778, 0.0602475233128778, 0.0602475233128778, 0.0602475233128778, 0.0602475233128778, 0.0602475233128778, 0.0602475233128778, 0.0602475233128778, 0.0602475233128778, 0.05990422978731538, 0.05990422978731538, 0.05990422978731538, 0.05990422978731538, 0.05990422978731538, 0.05990422978731538, 0.05990422978731538, 0.05990422978731538, 0.05990422978731538, 0.0597347691089499, 0.059455502646706355, 0.05945550264670635, 0.05945550264670635, 0.05945550264670635, 0.05945550264670635, 0.05923488777590923, 0.05923488777590923, 0.05923488777590923, 0.05923488777590923, 0.05923488777590923, 0.05923488777590923, 0.05923488777590923, 0.05923488777590923, 0.05923488777590923, 0.05923488777590923, 0.05923488777590923, 0.05923488777590923, 0.05923488777590923, 0.05923488777590923, 0.05923488777590923, 0.05923488777590923, 0.05923488777590923, 0.05923488777590923, 0.05923488777590923, 0.05923488777590923, 0.05923488777590923, 0.05923488777590923, 0.05923488777590923, 0.05923488777590923, 0.05923488777590923, 0.05923488777590923, 0.05901671065234752, 0.05901671065234752, 0.05901671065234752, 0.05901671065234752, 0.058689650382333605, 0.058587492514838024, 0.0582716546748065, 0.0582716546748065, 0.0582716546748065, 0.0582716546748065, 0.0582716546748065, 0.0582716546748065, 0.0582716546748065, 0.0582716546748065, 0.0582716546748065, 0.0582716546748065, 0.0582716546748065, 0.0582716546748065, 0.0582716546748065, 0.0582716546748065, 0.0582716546748065, 0.0582716546748065, 0.0582716546748065, 0.0582716546748065, 0.0582716546748065, 0.0582716546748065, 0.0582716546748065, 0.0582716546748065, 0.0582716546748065, 0.05816750507471109, 0.058038100008800934, 0.058038100008800934, 0.057807331301608, 0.05775642214923893, 0.05775642214923893, 0.05775642214923893, 0.05757929360284594, 0.05757929360284594, 0.05735393346764045, 0.057353933467640436, 0.057353933467640436, 0.057353933467640436, 0.057353933467640436, 0.057353933467640436, 0.057353933467640436, 0.057353933467640436, 0.057353933467640436, 0.057353933467640436, 0.057353933467640436, 0.057353933467640436, 0.057353933467640436, 0.057353933467640436, 0.057353933467640436, 0.057353933467640436, 0.057353933467640436, 0.057353933467640436, 0.057353933467640436, 0.057353933467640436, 0.057353933467640436, 0.057353933467640436, 0.05695974368679319, 0.056573571480353566, 0.056573571480353566, 0.056573571480353566, 0.056573571480353566, 0.05647824947249051, 0.05647824947249051, 0.05647824947249051, 0.05647824947249051, 0.05647824947249051, 0.05647824947249051, 0.05647824947249051, 0.05647824947249051, 0.05647824947249051, 0.05647824947249051, 0.05647824947249051, 0.05647824947249051, 0.05647824947249051, 0.05647824947249051, 0.05647824947249051, 0.05647824947249051, 0.05647824947249051, 0.055824219567359015, 0.055824219567359015, 0.05564148840746572, 0.05564148840746572, 0.05564148840746572, 0.05564148840746572, 0.05564148840746572, 0.05564148840746572, 0.05564148840746572, 0.05564148840746572, 0.05564148840746572, 0.05564148840746572, 0.05564148840746572, 0.05564148840746572, 0.05564148840746572, 0.05564148840746572, 0.05564148840746572, 0.05564148840746572, 0.05564148840746572, 0.05564148840746572, 0.05564148840746572, 0.05564148840746572, 0.05564148840746572, 0.05564148840746572, 0.05564148840746572, 0.05564148840746572, 0.05564148840746572, 0.05564148840746572, 0.05564148840746572, 0.05564148840746572, 0.05546053999849018, 0.05546053999849018, 0.05484084971070818, 0.05484084971070818, 0.05484084971070818, 0.05484084971070818, 0.05484084971070818, 0.05484084971070818, 0.05484084971070818, 0.05484084971070818, 0.05484084971070818, 0.05484084971070818, 0.05484084971070818, 0.05484084971070818, 0.05484084971070818, 0.05484084971070818, 0.05484084971070818, 0.05484084971070818, 0.05484084971070818, 0.05475400745557385, 0.054410718758250876, 0.05407380704358751, 0.05407380704358751, 0.05407380704358751, 0.05407380704358751, 0.05407380704358751, 0.05407380704358751, 0.05407380704358751, 0.05407380704358751, 0.05407380704358751, 0.05407380704358751, 0.05407380704358751, 0.05407380704358751, 0.05407380704358751, 0.05407380704358751, 0.05407380704358751, 0.05407380704358751, 0.05407380704358751, 0.05407380704358751, 0.05374307729250139, 0.05374307729250139, 0.05371688032419251, 0.053418342734682205, 0.053418342734682205, 0.0533380747062665, 0.0533380747062665, 0.0533380747062665, 0.0533380747062665, 0.0533380747062665, 0.0533380747062665, 0.0533380747062665, 0.0533380747062665, 0.0533380747062665, 0.0533380747062665, 0.0533380747062665, 0.0533380747062665, 0.0533380747062665, 0.0533380747062665, 0.053099424405359155, 0.053099424405359155, 0.052786150730834015, 0.052631578947368425, 0.052631578947368425, 0.052631578947368425, 0.052631578947368425, 0.052631578947368425, 0.052631578947368425, 0.052631578947368425, 0.052631578947368425, 0.052631578947368425, 0.052631578947368425, 0.052631578947368425, 0.052631578947368425, 0.052631578947368425, 0.052631578947368425, 0.052631578947368425, 0.052631578947368425, 0.052631578947368425, 0.052631578947368425, 0.052631578947368425, 0.052478357140598966, 0.052175885704047374, 0.05195243334661311, 0.05195243334661311, 0.05195243334661311, 0.05195243334661311, 0.05195243334661311, 0.05195243334661311, 0.05195243334661311, 0.05195243334661311, 0.05195243334661311, 0.05195243334661311, 0.05195243334661311, 0.05195243334661311, 0.05195243334661311, 0.05195243334661311, 0.05195243334661311, 0.05195243334661311, 0.0518785847899556, 0.0518785847899556, 0.051298917604257706, 0.051298917604257706, 0.051298917604257706, 0.051298917604257706, 0.051298917604257706, 0.051298917604257706, 0.051298917604257706, 0.051298917604257706, 0.051298917604257706, 0.051298917604257706, 0.051298917604257706, 0.051298917604257706, 0.051298917604257706, 0.051298917604257706, 0.051298917604257706, 0.051298917604257706, 0.051298917604257706, 0.051298917604257706, 0.051298917604257706, 0.051298917604257706, 0.051298917604257706, 0.051298917604257706, 0.051298917604257706, 0.05101627678885769, 0.05073825686188038, 0.050669459193814, 0.050669459193814, 0.050669459193814, 0.050669459193814, 0.050669459193814, 0.050669459193814, 0.050669459193814, 0.050669459193814, 0.050669459193814, 0.050669459193814, 0.050669459193814, 0.050669459193814, 0.050669459193814, 0.050669459193814, 0.050669459193814, 0.050669459193814, 0.050669459193814, 0.050464733268936676, 0.05006261743217589, 0.05006261743217589, 0.05006261743217589, 0.05006261743217589, 0.05006261743217589, 0.05006261743217589, 0.05006261743217589, 0.05006261743217589, 0.05006261743217589, 0.05006261743217589, 0.05006261743217589, 0.05006261743217589, 0.05006261743217589, 0.05006261743217589, 0.05006261743217589, 0.05006261743217589, 0.05006261743217589, 0.05006261743217589, 0.05006261743217589, 0.04947706959952935, 0.04947706959952935, 0.04947706959952935, 0.04947706959952935, 0.04947706959952935, 0.04947706959952935, 0.04947706959952935, 0.04947706959952935, 0.04947706959952935, 0.04947706959952935, 0.04947706959952935, 0.04947706959952935, 0.04947706959952935, 0.04947706959952935, 0.04947706959952935, 0.04947706959952935, 0.04947706959952935, 0.04916051440083466, 0.04891159880445185, 0.04891159880445185, 0.04891159880445185, 0.04891159880445185, 0.04891159880445185, 0.04891159880445185, 0.04891159880445185, 0.04891159880445185, 0.04891159880445185, 0.04891159880445185, 0.04891159880445185, 0.04891159880445185, 0.04891159880445185, 0.04891159880445185, 0.04891159880445185, 0.04891159880445185, 0.04891159880445185, 0.04891159880445185, 0.04891159880445185, 0.04891159880445185, 0.04891159880445185, 0.04891159880445185, 0.04891159880445185, 0.04891159880445185, 0.04891159880445185, 0.04866642633922877, 0.04836508334066745, 0.04836508334066745, 0.04836508334066745, 0.04836508334066745, 0.04836508334066745, 0.04836508334066745, 0.04836508334066745, 0.04836508334066745, 0.04836508334066745, 0.04836508334066745, 0.04836508334066745, 0.04836508334066745, 0.04836508334066745, 0.04836508334066745, 0.04836508334066745, 0.04836508334066745, 0.04836508334066745, 0.04836508334066745, 0.04836508334066745, 0.04836508334066745, 0.04795245473566802, 0.04783648732349399, 0.04783648732349399, 0.04783648732349399, 0.04783648732349399, 0.04783648732349399, 0.04783648732349399, 0.04783648732349399, 0.04783648732349399, 0.04783648732349399, 0.04783648732349399, 0.04783648732349399, 0.04783648732349399, 0.04783648732349399, 0.04757860680698066, 0.047324852428030105, 0.047324852428030105, 0.047324852428030105, 0.047324852428030105, 0.047324852428030105, 0.047324852428030105, 0.047324852428030105, 0.047324852428030105, 0.047324852428030105, 0.047324852428030105, 0.047324852428030105, 0.047324852428030105, 0.047324852428030105, 0.047324852428030105, 0.047324852428030105, 0.047324852428030105, 0.04726901187474408, 0.046829290579084706, 0.046829290579084706, 0.046829290579084706, 0.046829290579084706, 0.046829290579084706, 0.046829290579084706, 0.046829290579084706, 0.046829290579084706, 0.046829290579084706, 0.046829290579084706, 0.046829290579084706, 0.046829290579084706, 0.046829290579084706, 0.046829290579084706, 0.046829290579084706, 0.046829290579084706, 0.046829290579084706, 0.046829290579084706, 0.046829290579084706, 0.046829290579084706, 0.046829290579084706, 0.046829290579084706, 0.046829290579084706, 0.046829290579084706, 0.046829290579084706, 0.046829290579084706, 0.046829290579084706, 0.046829290579084706, 0.046829290579084706, 0.046829290579084706, 0.046829290579084706, 0.046348977465932154, 0.046348977465932154, 0.046348977465932154, 0.046348977465932154, 0.046348977465932154, 0.046348977465932154, 0.046348977465932154, 0.046348977465932154, 0.046348977465932154, 0.046348977465932154, 0.046348977465932154, 0.046348977465932154, 0.04588314677411236, 0.04588314677411236, 0.04588314677411236, 0.04588314677411236, 0.04588314677411236, 0.04588314677411236, 0.04588314677411236, 0.04588314677411236, 0.04588314677411236, 0.04588314677411236, 0.04588314677411236, 0.04588314677411236, 0.04588314677411236, 0.04588314677411236, 0.04588314677411236, 0.04588314677411236, 0.04588314677411236, 0.04588314677411236, 0.0455802844097073, 0.04543108504242546, 0.04543108504242546, 0.04543108504242546, 0.04543108504242546, 0.04543108504242546, 0.04543108504242546, 0.04543108504242546, 0.04543108504242546, 0.04543108504242546, 0.04543108504242546, 0.04543108504242546, 0.04543108504242546, 0.04543108504242546, 0.04543108504242546, 0.04543108504242546, 0.04543108504242546, 0.04499212706658476, 0.04499212706658476, 0.04499212706658476, 0.04499212706658476, 0.04499212706658476, 0.04499212706658476, 0.04499212706658476, 0.04499212706658476, 0.04499212706658476, 0.04499212706658476, 0.04499212706658476, 0.04499212706658476, 0.04499212706658476, 0.04499212706658476, 0.04499212706658476, 0.04499212706658476, 0.04499212706658476, 0.04499212706658476, 0.04499212706658476, 0.04499212706658476, 0.04499212706658476, 0.04499212706658476, 0.04499212706658476, 0.04499212706658476, 0.04499212706658476, 0.04499212706658476, 0.04499212706658476, 0.04499212706658476, 0.04499212706658476, 0.04499212706658475, 0.04480107683171242, 0.04461243988090516, 0.04456565178215865, 0.04456565178215865, 0.04456565178215865, 0.04456565178215865, 0.04456565178215865, 0.04456565178215865, 0.04456565178215865, 0.04456565178215865, 0.04456565178215865, 0.04456565178215865, 0.04456565178215865, 0.04456565178215865, 0.04456565178215865, 0.04456565178215865, 0.04442616583193192, 0.044151078568834795, 0.044151078568834795, 0.044151078568834795, 0.044151078568834795, 0.044151078568834795, 0.044151078568834795, 0.044151078568834795, 0.044151078568834795, 0.044151078568834795, 0.044151078568834795, 0.043747863925980714, 0.043747863925980714, 0.043747863925980714, 0.043747863925980714, 0.043747863925980714, 0.043747863925980714, 0.043747863925980714, 0.043747863925980714, 0.043747863925980714, 0.043747863925980714, 0.043355498476206004, 0.043355498476206004, 0.043355498476206004, 0.043355498476206004, 0.043355498476206004, 0.043355498476206004, 0.043355498476206004, 0.043355498476206004, 0.043355498476206004, 0.043355498476206004, 0.043355498476206004, 0.043355498476206004, 0.043355498476206004, 0.043355498476206004, 0.043355498476206004, 0.043355498476206004, 0.043355498476206004, 0.043355498476206004, 0.043355498476206004, 0.043355498476206004, 0.043355498476206004, 0.043355498476206004, 0.043355498476206004, 0.043355498476206004, 0.043355498476206004, 0.043355498476206004, 0.043355498476206004, 0.043355498476206004, 0.043355498476206004, 0.043355498476206004, 0.042973504259354006, 0.042973504259354006, 0.042973504259354006, 0.042973504259354006, 0.042973504259354006, 0.042973504259354006, 0.042973504259354006, 0.042973504259354006, 0.042973504259354006, 0.042973504259354006, 0.042973504259354006, 0.042973504259354006, 0.042601432284230495, 0.042601432284230495, 0.042601432284230495, 0.042601432284230495, 0.042601432284230495, 0.042601432284230495, 0.042601432284230495, 0.04223886030955117, 0.04223886030955117, 0.04223886030955117, 0.04223886030955117, 0.04204138910034079, 0.04188539082916955, 0.04188539082916955, 0.04188539082916955, 0.04188539082916955, 0.04188539082916955, 0.04188539082916955, 0.04188539082916955, 0.04188539082916955, 0.04188539082916955, 0.04188539082916955, 0.04188539082916955, 0.04188539082916955, 0.04188539082916955, 0.04188539082916955, 0.04188539082916955, 0.04188539082916955, 0.04188539082916955, 0.04188539082916955, 0.04188539082916955, 0.04188539082916955, 0.04188539082916955, 0.04188539082916955, 0.04188539082916955, 0.04188539082916955, 0.0415406492397264, 0.0415406492397264, 0.0415406492397264, 0.0415406492397264, 0.0415406492397264, 0.0415406492397264, 0.0415406492397264, 0.0415406492397264, 0.041278324068019595, 0.04120428217151646, 0.04120428217151646, 0.04120428217151646, 0.04120428217151646, 0.04120428217151646, 0.04120428217151646, 0.04120428217151646, 0.04120428217151646, 0.04087595596566438, 0.04087595596566438, 0.04087595596566438, 0.040555355282690636, 0.040555355282690636, 0.040555355282690636, 0.040555355282690636, 0.040555355282690636, 0.040555355282690636, 0.040555355282690636, 0.040555355282690636, 0.040555355282690636, 0.040555355282690636, 0.040555355282690636, 0.040555355282690636, 0.040555355282690636, 0.040555355282690636, 0.040555355282690636, 0.040555355282690636, 0.040555355282690636, 0.040555355282690636, 0.040555355282690636, 0.040555355282690636, 0.040555355282690636, 0.040555355282690636, 0.040555355282690636, 0.040555355282690636, 0.040555355282690636, 0.040555355282690636, 0.040555355282690636, 0.040555355282690636, 0.04041526728107943, 0.04024218182927669, 0.04024218182927669, 0.04024218182927669, 0.04024218182927669, 0.04024218182927669, 0.03993615319154359, 0.03993615319154359, 0.03993615319154359, 0.03993615319154359, 0.03993615319154359, 0.0396370017644709, 0.0396370017644709, 0.0396370017644709, 0.0396370017644709, 0.039344473768231684, 0.039344473768231684, 0.039344473768231684, 0.039344473768231684, 0.039344473768231684, 0.039344473768231684, 0.039344473768231684, 0.039344473768231684, 0.039344473768231684, 0.039344473768231684, 0.039344473768231684, 0.039344473768231684, 0.039344473768231684, 0.039344473768231684, 0.039344473768231684, 0.039344473768231684, 0.039344473768231684, 0.039344473768231684, 0.039344473768231684, 0.039344473768231684, 0.039344473768231684, 0.039344473768231684, 0.039344473768231684, 0.039344473768231684, 0.039344473768231684, 0.039344473768231684, 0.039344473768231684, 0.039344473768231684, 0.039344473768231684, 0.039344473768231684, 0.039344473768231684, 0.039344473768231684, 0.039344473768231684, 0.039344473768231684, 0.039344473768231684, 0.039344473768231684, 0.039344473768231684, 0.039344473768231684, 0.039344473768231684, 0.039344473768231684, 0.03905832834322535, 0.03905832834322535, 0.03905832834322535, 0.038778336716474064, 0.038778336716474064, 0.038778336716474064, 0.03850428143282595, 0.03850428143282595, 0.03823595564509363, 0.03823595564509363, 0.03823595564509363, 0.03823595564509363, 0.03823595564509363, 0.03823595564509363, 0.03823595564509363, 0.03823595564509363, 0.03823595564509363, 0.03823595564509363, 0.03823595564509363, 0.03823595564509363, 0.03823595564509363, 0.03823595564509363, 0.03823595564509363, 0.03823595564509363, 0.03823595564509363, 0.03823595564509363, 0.03823595564509363, 0.03823595564509363, 0.03823595564509363, 0.03823595564509363, 0.03823595564509363, 0.03823595564509363, 0.03823595564509363, 0.03823595564509363, 0.03823595564509363, 0.03823595564509363, 0.03823595564509363, 0.03823595564509363, 0.03823595564509363, 0.03797316245786213, 0.03797316245786213, 0.03797316245786213, 0.03797316245786213, 0.03797316245786213, 0.03797316245786213, 0.03771571432023571, 0.03771571432023571, 0.03771571432023571, 0.03771571432023571, 0.03771571432023571, 0.037463432463267755, 0.037463432463267755, 0.03721614637823934, 0.03721614637823934, 0.03721614637823934, 0.03721614637823934, 0.03721614637823934, 0.03721614637823934, 0.03721614637823934, 0.03721614637823934, 0.03721614637823934, 0.03721614637823934, 0.03721614637823934, 0.03721614637823934, 0.03721614637823934, 0.03721614637823934, 0.03721614637823934, 0.03721614637823934, 0.03721614637823934, 0.03721614637823934, 0.03721614637823934, 0.03721614637823934, 0.03721614637823934, 0.03721614637823934, 0.03721614637823934, 0.03721614637823934, 0.03721614637823934, 0.03721614637823934, 0.03721614637823934, 0.03721614637823934, 0.03721614637823934, 0.03721614637823934, 0.03721614637823934, 0.03721614637823934, 0.03721614637823934, 0.03721614637823934, 0.036973693332326786, 0.036973693332326786, 0.036973693332326786, 0.036973693332326786, 0.036973693332326786, 0.03673591791853225, 0.03673591791853225, 0.03650267163704923, 0.03650267163704923, 0.03627381250550058, 0.03627381250550058, 0.03627381250550058, 0.03627381250550058, 0.03627381250550058, 0.03627381250550058, 0.03627381250550058, 0.03627381250550058, 0.03627381250550058, 0.03627381250550058, 0.03627381250550058, 0.03627381250550058, 0.03627381250550058, 0.03627381250550058, 0.03627381250550058, 0.03627381250550058, 0.03627381250550058, 0.03627381250550058, 0.03627381250550058, 0.03627381250550058, 0.03627381250550058, 0.03627381250550058, 0.03627381250550058, 0.03627381250550058, 0.03627381250550058, 0.03627381250550058, 0.03627381250550058, 0.03627381250550058, 0.03627381250550058, 0.03627381250550058, 0.03627381250550058, 0.03627381250550058, 0.03627381250550058, 0.03627381250550058, 0.03627381250550058, 0.03627381250550058, 0.03627381250550058, 0.03604920469572501, 0.03604920469572501, 0.03582871819500093, 0.03582871819500093, 0.035612228489788136, 0.03549363932102258, 0.03539961627023944, 0.03539961627023944, 0.03539961627023944, 0.03539961627023944, 0.03539961627023944, 0.03539961627023944, 0.03539961627023944, 0.03539961627023944, 0.03539961627023944, 0.03539961627023944, 0.03539961627023944, 0.03539961627023944, 0.03539961627023944, 0.03539961627023944, 0.03539961627023944, 0.03539961627023944, 0.03539961627023944, 0.03539961627023944, 0.03539961627023944, 0.03539961627023944, 0.03539961627023944, 0.03539961627023944, 0.03539961627023944, 0.03539961627023944, 0.03539961627023944, 0.03539961627023944, 0.03539961627023944, 0.03539961627023944, 0.03498557142706598, 0.03498557142706598, 0.03498557142706598, 0.03498557142706598, 0.03498557142706598, 0.03498557142706598, 0.03498557142706598, 0.03478392380269825, 0.03458572319330373, 0.03458572319330373, 0.03458572319330373, 0.03458572319330373, 0.03458572319330373, 0.03458572319330373, 0.03458572319330373, 0.03458572319330373, 0.03458572319330373, 0.03458572319330373, 0.03458572319330373, 0.03458572319330373, 0.03458572319330373, 0.03458572319330373, 0.03458572319330373, 0.03458572319330373, 0.03458572319330373, 0.03458572319330373, 0.03458572319330373, 0.03458572319330373, 0.03458572319330373, 0.03458572319330373, 0.03458572319330373, 0.03458572319330373, 0.03458572319330373, 0.03458572319330373, 0.03458572319330373, 0.03439087249804545, 0.03419927840283847, 0.03419927840283847, 0.034010851192571794, 0.034010851192571794, 0.03382550457458692, 0.03382550457458692, 0.03382550457458692, 0.03382550457458692, 0.03382550457458692, 0.03382550457458692, 0.03382550457458692, 0.03382550457458692, 0.03382550457458692, 0.03382550457458692, 0.03382550457458692, 0.03382550457458692, 0.03382550457458692, 0.03382550457458692, 0.03382550457458692, 0.03382550457458692, 0.03382550457458692, 0.03382550457458692, 0.03382550457458692, 0.03382550457458692, 0.03382550457458692, 0.03382550457458692, 0.03382550457458692, 0.03382550457458692, 0.03382550457458692, 0.03382550457458692, 0.03382550457458692, 0.03382550457458692, 0.03382550457458692, 0.03382550457458692, 0.03382550457458692, 0.03382550457458692, 0.03382550457458692, 0.03382550457458692, 0.03382550457458692, 0.03382550457458692, 0.03382550457458692, 0.03382550457458692, 0.03382550457458692, 0.03382550457458692, 0.03382550457458692, 0.03382550457458692, 0.03364315551262445, 0.03364315551262445, 0.033463724070512735, 0.033463724070512735, 0.0331133089266261, 0.0331133089266261, 0.0331133089266261, 0.0331133089266261, 0.0331133089266261, 0.0331133089266261, 0.0331133089266261, 0.0331133089266261, 0.0331133089266261, 0.0331133089266261, 0.0331133089266261, 0.0331133089266261, 0.0331133089266261, 0.0331133089266261, 0.0331133089266261, 0.0331133089266261, 0.0331133089266261, 0.0331133089266261, 0.0331133089266261, 0.0331133089266261, 0.0331133089266261, 0.0331133089266261, 0.0331133089266261, 0.0331133089266261, 0.0331133089266261, 0.0331133089266261, 0.0331133089266261, 0.0331133089266261, 0.0331133089266261, 0.0331133089266261, 0.0331133089266261, 0.0331133089266261, 0.0331133089266261, 0.0331133089266261, 0.0331133089266261, 0.0331133089266261, 0.03294217956952912, 0.03294217956952912, 0.03294217956952912, 0.03244428422615251, 0.03244428422615251, 0.03244428422615251, 0.03244428422615251, 0.03244428422615251, 0.03244428422615251, 0.03244428422615251, 0.03244428422615251, 0.03244428422615251, 0.03244428422615251, 0.03244428422615251, 0.03244428422615251, 0.03244428422615251, 0.03244428422615251, 0.03244428422615251, 0.03244428422615251, 0.03244428422615251, 0.03244428422615251, 0.03244428422615251, 0.03244428422615251, 0.03244428422615251, 0.03244428422615251, 0.03244428422615251, 0.03244428422615251, 0.03244428422615251, 0.03244428422615251, 0.03244428422615251, 0.03244428422615251, 0.03244428422615251, 0.03244428422615251, 0.03244428422615251, 0.032283269414765066, 0.032283269414765066, 0.03212462831016178, 0.03181423814878889, 0.03181423814878889, 0.03181423814878889, 0.03181423814878889, 0.03181423814878889, 0.03181423814878889, 0.03181423814878889, 0.03181423814878889, 0.03181423814878889, 0.03181423814878889, 0.03181423814878889, 0.03181423814878889, 0.03181423814878889, 0.03181423814878889, 0.03181423814878889, 0.03181423814878889, 0.03181423814878889, 0.03181423814878889, 0.03181423814878889, 0.03181423814878889, 0.03181423814878889, 0.03181423814878889, 0.03181423814878889, 0.03181423814878889, 0.03181423814878889, 0.03181423814878889, 0.03181423814878889, 0.03181423814878889, 0.03181423814878889, 0.03181423814878889, 0.03181423814878889, 0.03181423814878889, 0.03181423814878889, 0.03181423814878889, 0.03181423814878889, 0.03181423814878889, 0.03181423814878889, 0.03181423814878889, 0.03181423814878889, 0.03181423814878889, 0.03181423814878889, 0.03181423814878889, 0.03181423814878889, 0.03181423814878889, 0.03181423814878889, 0.03181423814878889, 0.03181423814878889, 0.03181423814878889, 0.03181423814878889, 0.03181423814878889, 0.03166237934306518, 0.031365073422390276, 0.031219527052723135, 0.031219527052723135, 0.031219527052723135, 0.031219527052723135, 0.031219527052723135, 0.031219527052723135, 0.031219527052723135, 0.031219527052723135, 0.031219527052723135, 0.031219527052723135, 0.031219527052723135, 0.031219527052723135, 0.031219527052723135, 0.031219527052723135, 0.031219527052723135, 0.031219527052723135, 0.031219527052723135, 0.031219527052723135, 0.031219527052723135, 0.031219527052723135, 0.031219527052723135, 0.031219527052723135, 0.031219527052723135, 0.031219527052723135, 0.031219527052723135, 0.031219527052723135, 0.031219527052723135, 0.031219527052723135, 0.030794751789719334, 0.03065696697424829, 0.03065696697424829, 0.03065696697424829, 0.03065696697424829, 0.03065696697424829, 0.03065696697424829, 0.03065696697424829, 0.03065696697424829, 0.03065696697424829, 0.03065696697424829, 0.03065696697424829, 0.03065696697424829, 0.03065696697424829, 0.03065696697424829, 0.03065696697424829, 0.03065696697424829, 0.03065696697424829, 0.03065696697424829, 0.03065696697424829, 0.03065696697424829, 0.03065696697424829, 0.03065696697424829, 0.03065696697424829, 0.03065696697424829, 0.03065696697424829, 0.03065696697424829, 0.03065696697424829, 0.03065696697424829, 0.03065696697424829, 0.03065696697424829, 0.03065696697424829, 0.03065696697424829, 0.03065696697424829, 0.03065696697424829, 0.03065696697424829, 0.03065696697424829, 0.03065696697424829, 0.03065696697424829, 0.03065696697424829, 0.03065696697424829, 0.03065696697424829, 0.03065696697424829, 0.03065696697424829, 0.03065696697424829, 0.03065696697424829, 0.03065696697424829, 0.03065696697424829, 0.03065696697424829, 0.03065696697424829, 0.03065696697424829, 0.030521015231310435, 0.030254451040802585, 0.030254451040802585, 0.030254451040802585, 0.0301237616564389, 0.0301237616564389, 0.0301237616564389, 0.0301237616564389, 0.0301237616564389, 0.0301237616564389, 0.0301237616564389, 0.0301237616564389, 0.0301237616564389, 0.0301237616564389, 0.0301237616564389, 0.0301237616564389, 0.0301237616564389, 0.0301237616564389, 0.0301237616564389, 0.0301237616564389, 0.0301237616564389, 0.0301237616564389, 0.0301237616564389, 0.0301237616564389, 0.0301237616564389, 0.0301237616564389, 0.0301237616564389, 0.0301237616564389, 0.0301237616564389, 0.0301237616564389, 0.0301237616564389, 0.0301237616564389, 0.0301237616564389, 0.0301237616564389, 0.0301237616564389, 0.0301237616564389, 0.0301237616564389, 0.029617443887954616, 0.029617443887954616, 0.029617443887954616, 0.029617443887954616, 0.029617443887954616, 0.029617443887954616, 0.029617443887954616, 0.029617443887954616, 0.029617443887954616, 0.029617443887954616, 0.029617443887954616, 0.029617443887954616, 0.029617443887954616, 0.029617443887954616, 0.029617443887954616, 0.029617443887954616, 0.029617443887954616, 0.029617443887954616, 0.029617443887954616, 0.029617443887954616, 0.029617443887954616, 0.029617443887954616, 0.029617443887954616, 0.029617443887954616, 0.029617443887954616, 0.029617443887954616, 0.029617443887954616, 0.029617443887954616, 0.029617443887954616, 0.029617443887954616, 0.029617443887954616, 0.029617443887954616, 0.029617443887954616, 0.029617443887954616, 0.029617443887954616, 0.029617443887954616, 0.029617443887954616, 0.029617443887954616, 0.029617443887954616, 0.029617443887954616, 0.029617443887954616, 0.029494803841956827, 0.02913582733740325, 0.02913582733740325, 0.02913582733740325, 0.02913582733740325, 0.02913582733740325, 0.02913582733740325, 0.02913582733740325, 0.02913582733740325, 0.02913582733740325, 0.02913582733740325, 0.02913582733740325, 0.02913582733740325, 0.02913582733740325, 0.02913582733740325, 0.02913582733740325, 0.02913582733740325, 0.02913582733740325, 0.02913582733740325, 0.02913582733740325, 0.02913582733740325, 0.02913582733740325, 0.02913582733740325, 0.02913582733740325, 0.02913582733740325, 0.02913582733740325, 0.02913582733740325, 0.02913582733740325, 0.02913582733740325, 0.02913582733740325, 0.02913582733740325, 0.02913582733740325, 0.02913582733740325, 0.02913582733740325, 0.02913582733740325, 0.02913582733740325, 0.02913582733740325, 0.02913582733740325, 0.02913582733740325, 0.02913582733740325, 0.02913582733740325, 0.02913582733740325, 0.02913582733740325, 0.02913582733740325, 0.02878964680142297, 0.028676966733820218, 0.028676966733820218, 0.028676966733820218, 0.028676966733820218, 0.028676966733820218, 0.028676966733820218, 0.028676966733820218, 0.028676966733820218, 0.028676966733820218, 0.028676966733820218, 0.028676966733820218, 0.028676966733820218, 0.028676966733820218, 0.028676966733820218, 0.028676966733820218, 0.028676966733820218, 0.028676966733820218, 0.028676966733820218, 0.028676966733820218, 0.028676966733820218, 0.028676966733820218, 0.028676966733820218, 0.028676966733820218, 0.028676966733820218, 0.028676966733820218, 0.028676966733820218, 0.028676966733820218, 0.028676966733820218, 0.028676966733820218, 0.028676966733820218, 0.028676966733820218, 0.028676966733820218, 0.028676966733820218, 0.028239124736245257, 0.028239124736245257, 0.028239124736245257, 0.028239124736245257, 0.028239124736245257, 0.028239124736245257, 0.028239124736245257, 0.028239124736245257, 0.028239124736245257, 0.028239124736245257, 0.028239124736245257, 0.028239124736245257, 0.028239124736245257, 0.028239124736245257, 0.028239124736245257, 0.028239124736245257, 0.028239124736245257, 0.028239124736245257, 0.028239124736245257, 0.028239124736245257, 0.028239124736245257, 0.028239124736245257, 0.028239124736245257, 0.028239124736245257, 0.028027592733560525, 0.02782074420373286, 0.02782074420373286, 0.02782074420373286, 0.02782074420373286, 0.02782074420373286, 0.02782074420373286, 0.02782074420373286, 0.02782074420373286, 0.02782074420373286, 0.02782074420373286, 0.02782074420373286, 0.02782074420373286, 0.02782074420373286, 0.02782074420373286, 0.02782074420373286, 0.02782074420373286, 0.02782074420373286, 0.02782074420373286, 0.02782074420373286, 0.02782074420373286, 0.02782074420373286, 0.02782074420373286, 0.02782074420373286, 0.02782074420373286, 0.02782074420373286, 0.02742042485535409, 0.02742042485535409, 0.02742042485535409, 0.02742042485535409, 0.02742042485535409, 0.02742042485535409, 0.02742042485535409, 0.02742042485535409, 0.02742042485535409, 0.02742042485535409, 0.02742042485535409, 0.02742042485535409, 0.02742042485535409, 0.02742042485535409, 0.02742042485535409, 0.02742042485535409, 0.02742042485535409, 0.02742042485535409, 0.02742042485535409, 0.02742042485535409, 0.02742042485535409, 0.02742042485535409, 0.02742042485535409, 0.02742042485535409, 0.02742042485535409, 0.02742042485535409, 0.02742042485535409, 0.02742042485535409, 0.02742042485535409, 0.02742042485535409, 0.02742042485535409, 0.02742042485535409, 0.02742042485535409, 0.02742042485535409, 0.02742042485535409, 0.02742042485535409, 0.02742042485535409, 0.02742042485535409, 0.027323016288682497, 0.027036903521793755, 0.027036903521793755, 0.027036903521793755, 0.027036903521793755, 0.027036903521793755, 0.027036903521793755, 0.027036903521793755, 0.027036903521793755, 0.027036903521793755, 0.027036903521793755, 0.027036903521793755, 0.027036903521793755, 0.027036903521793755, 0.027036903521793755, 0.027036903521793755, 0.027036903521793755, 0.027036903521793755, 0.027036903521793755, 0.027036903521793755, 0.027036903521793755, 0.027036903521793755, 0.027036903521793755, 0.027036903521793755, 0.027036903521793755, 0.027036903521793755, 0.027036903521793755, 0.027036903521793755, 0.027036903521793755, 0.027036903521793755, 0.027036903521793755, 0.027036903521793755, 0.027036903521793755, 0.027036903521793755, 0.027036903521793755, 0.02666903735313325, 0.02666903735313325, 0.02666903735313325, 0.02666903735313325, 0.02666903735313325, 0.02666903735313325, 0.02666903735313325, 0.02666903735313325, 0.02666903735313325, 0.02666903735313325, 0.02666903735313325, 0.02666903735313325, 0.02666903735313325, 0.02666903735313325, 0.02666903735313325, 0.02666903735313325, 0.02666903735313325, 0.02666903735313325, 0.02666903735313325, 0.02666903735313325, 0.02666903735313325, 0.02666903735313325, 0.02666903735313325, 0.02666903735313325, 0.02666903735313325, 0.02666903735313325, 0.02666903735313325, 0.02666903735313325, 0.02666903735313325, 0.02666903735313325, 0.02666903735313325, 0.02666903735313325, 0.02649064714130088, 0.026315789473684213, 0.026315789473684213, 0.026315789473684213, 0.026315789473684213, 0.026315789473684213, 0.026315789473684213, 0.026315789473684213, 0.026315789473684213, 0.026315789473684213, 0.026315789473684213, 0.026315789473684213, 0.026315789473684213, 0.026315789473684213, 0.026315789473684213, 0.026315789473684213, 0.026315789473684213, 0.026315789473684213, 0.026315789473684213, 0.026315789473684213, 0.026315789473684213, 0.026315789473684213, 0.026315789473684213, 0.026315789473684213, 0.026315789473684213, 0.026315789473684213, 0.026315789473684213, 0.026315789473684213, 0.026315789473684213, 0.026315789473684213, 0.026315789473684213, 0.026315789473684213, 0.026315789473684213, 0.025976216673306556, 0.025976216673306556, 0.025976216673306556, 0.025976216673306556, 0.025976216673306556, 0.025976216673306556, 0.025976216673306556, 0.025976216673306556, 0.025976216673306556, 0.025976216673306556, 0.025976216673306556, 0.025976216673306556, 0.025976216673306556, 0.025976216673306556, 0.025976216673306556, 0.025976216673306556, 0.025976216673306556, 0.025976216673306556, 0.025976216673306556, 0.025976216673306556, 0.025976216673306556, 0.025976216673306556, 0.025976216673306556, 0.025976216673306556, 0.025649458802128853, 0.025649458802128853, 0.025649458802128853, 0.025649458802128853, 0.025649458802128853, 0.025649458802128853, 0.025649458802128853, 0.025649458802128853, 0.025649458802128853, 0.025649458802128853, 0.025649458802128853, 0.025649458802128853, 0.025649458802128853, 0.025649458802128853, 0.025649458802128853, 0.025649458802128853, 0.025649458802128853, 0.025649458802128853, 0.025649458802128853, 0.025649458802128853, 0.025649458802128853, 0.025649458802128853, 0.025649458802128853, 0.025649458802128853, 0.025649458802128853, 0.025649458802128853, 0.025649458802128853, 0.025649458802128853, 0.025649458802128853, 0.025649458802128853, 0.025649458802128853, 0.025649458802128853, 0.025334729596907, 0.025334729596907, 0.025334729596907, 0.025334729596907, 0.025334729596907, 0.025334729596907, 0.025334729596907, 0.025334729596907, 0.025334729596907, 0.025334729596907, 0.025334729596907, 0.025334729596907, 0.025334729596907, 0.025334729596907, 0.025334729596907, 0.025334729596907, 0.025334729596907, 0.025334729596907, 0.025334729596907, 0.025334729596907, 0.025334729596907, 0.025334729596907, 0.025334729596907, 0.025334729596907, 0.025334729596907, 0.025334729596907, 0.025334729596907, 0.025334729596907, 0.025334729596907, 0.025334729596907, 0.025334729596907, 0.025334729596907, 0.025334729596907, 0.025334729596907, 0.025334729596907, 0.025334729596907, 0.025334729596907, 0.025334729596907, 0.025334729596907, 0.025334729596907, 0.025334729596907, 0.025334729596907, 0.025031308716087945, 0.025031308716087945, 0.025031308716087945, 0.025031308716087945, 0.025031308716087945, 0.025031308716087945, 0.025031308716087945, 0.025031308716087945, 0.025031308716087945, 0.025031308716087945, 0.025031308716087945, 0.025031308716087945, 0.025031308716087945, 0.025031308716087945, 0.025031308716087945, 0.025031308716087945, 0.025031308716087945, 0.025031308716087945, 0.025031308716087945, 0.025031308716087945, 0.025031308716087945, 0.025031308716087945, 0.025031308716087945, 0.025031308716087945, 0.025031308716087945, 0.025031308716087945, 0.025031308716087945, 0.025031308716087945, 0.025031308716087945, 0.025031308716087945, 0.025031308716087945, 0.025031308716087945, 0.025031308716087945, 0.025031308716087945, 0.025031308716087945, 0.025031308716087945, 0.025031308716087945, 0.025031308716087945, 0.025031308716087945, 0.025031308716087945, 0.025031308716087945, 0.025031308716087945, 0.024738534799764674, 0.024738534799764674, 0.024738534799764674, 0.024738534799764674, 0.024738534799764674, 0.024738534799764674, 0.024738534799764674, 0.024738534799764674, 0.024738534799764674, 0.024738534799764674, 0.024738534799764674, 0.024738534799764674, 0.024738534799764674, 0.024738534799764674, 0.024738534799764674, 0.024738534799764674, 0.024738534799764674, 0.024738534799764674, 0.024738534799764674, 0.024738534799764674, 0.024738534799764674, 0.024738534799764674, 0.024738534799764674, 0.024738534799764674, 0.024738534799764674, 0.024738534799764674, 0.024738534799764674, 0.024738534799764674, 0.024738534799764674, 0.024455799402225926, 0.024455799402225926, 0.024455799402225926, 0.024455799402225926, 0.024455799402225926, 0.024455799402225926, 0.024455799402225926, 0.024455799402225926, 0.024455799402225926, 0.024455799402225926, 0.024455799402225926, 0.024455799402225926, 0.024455799402225926, 0.024455799402225926, 0.024455799402225926, 0.024455799402225926, 0.024455799402225926, 0.024455799402225926, 0.024455799402225926, 0.024455799402225926, 0.024455799402225926, 0.024455799402225926, 0.024455799402225926, 0.024455799402225926, 0.024455799402225926, 0.024455799402225926, 0.024455799402225926, 0.024455799402225926, 0.024455799402225926, 0.024455799402225926, 0.024455799402225926, 0.024455799402225926, 0.024455799402225926, 0.024455799402225926, 0.024455799402225926, 0.024455799402225926, 0.024455799402225926, 0.024455799402225926, 0.024182541670333724, 0.024182541670333724, 0.024182541670333724, 0.024182541670333724, 0.024182541670333724, 0.024182541670333724, 0.024182541670333724, 0.024182541670333724, 0.024182541670333724, 0.024182541670333724, 0.024182541670333724, 0.024182541670333724, 0.024182541670333724, 0.024182541670333724, 0.024182541670333724, 0.024182541670333724, 0.024182541670333724, 0.024182541670333724, 0.024182541670333724, 0.024182541670333724, 0.024182541670333724, 0.024182541670333724, 0.024182541670333724, 0.024182541670333724, 0.024182541670333724, 0.024182541670333724, 0.024115646544478436, 0.023918243661746996, 0.023918243661746996, 0.023918243661746996, 0.023918243661746996, 0.023918243661746996, 0.023918243661746996, 0.023918243661746996, 0.023918243661746996, 0.023918243661746996, 0.023918243661746996, 0.023918243661746996, 0.023918243661746996, 0.023918243661746996, 0.023918243661746996, 0.023918243661746996, 0.023918243661746996, 0.023918243661746996, 0.023918243661746996, 0.023918243661746996, 0.023918243661746996, 0.023918243661746996, 0.023918243661746996, 0.023918243661746996, 0.023918243661746996, 0.023918243661746996, 0.023918243661746996, 0.023853512166434804, 0.023725610375128173, 0.023662426214015053, 0.023662426214015053, 0.023662426214015053, 0.023662426214015053, 0.023662426214015053, 0.023662426214015053, 0.023662426214015053, 0.023662426214015053, 0.023662426214015053, 0.023662426214015053, 0.023662426214015053, 0.023662426214015053, 0.023662426214015053, 0.023662426214015053, 0.023662426214015053, 0.023662426214015053, 0.023662426214015053, 0.023662426214015053, 0.023662426214015053, 0.023662426214015053, 0.023662426214015053, 0.023662426214015053, 0.023662426214015053, 0.023662426214015053, 0.023662426214015053, 0.023662426214015053, 0.023662426214015053, 0.023662426214015053, 0.023414645289542353, 0.023414645289542353, 0.023414645289542353, 0.023414645289542353, 0.023414645289542353, 0.023414645289542353, 0.023414645289542353, 0.023414645289542353, 0.023414645289542353, 0.023414645289542353, 0.023414645289542353, 0.023414645289542353, 0.023414645289542353, 0.023414645289542353, 0.023414645289542353, 0.023353906807751994, 0.023174488732966077, 0.023174488732966077, 0.023174488732966077, 0.023174488732966077, 0.023174488732966077, 0.023174488732966077, 0.023174488732966077, 0.023174488732966077, 0.023174488732966077, 0.023174488732966077, 0.023174488732966077, 0.023174488732966077, 0.023174488732966077, 0.023174488732966077, 0.023174488732966077, 0.023174488732966077, 0.023174488732966077, 0.023174488732966077, 0.023174488732966077, 0.023174488732966077, 0.023174488732966077, 0.023174488732966077, 0.023174488732966077, 0.023174488732966077, 0.023174488732966077, 0.023174488732966077, 0.023174488732966077, 0.02294157338705618, 0.02294157338705618, 0.02294157338705618, 0.02294157338705618, 0.02294157338705618, 0.02294157338705618, 0.02294157338705618, 0.02294157338705618, 0.02294157338705618, 0.02294157338705618, 0.02294157338705618, 0.02294157338705618, 0.02294157338705618, 0.02294157338705618, 0.02294157338705618, 0.02294157338705618, 0.02294157338705618, 0.02271554252121273, 0.02271554252121273, 0.02271554252121273, 0.02271554252121273, 0.02271554252121273, 0.02271554252121273, 0.02271554252121273, 0.02271554252121273, 0.02271554252121273, 0.02271554252121273, 0.02271554252121273, 0.02271554252121273, 0.02271554252121273, 0.02271554252121273, 0.02271554252121273, 0.02271554252121273, 0.02271554252121273, 0.02249606353329238, 0.02249606353329238, 0.02249606353329238, 0.02249606353329238, 0.02249606353329238, 0.02249606353329238, 0.02249606353329238, 0.02249606353329238, 0.02249606353329238, 0.02249606353329238, 0.02249606353329238, 0.02249606353329238, 0.02249606353329238, 0.02249606353329238, 0.02249606353329238, 0.022282825891079324, 0.022282825891079324, 0.022282825891079324, 0.022282825891079324, 0.022282825891079324, 0.022282825891079324, 0.022282825891079324, 0.022282825891079324, 0.022282825891079324, 0.022282825891079324, 0.022282825891079324, 0.022282825891079324, 0.022282825891079324, 0.022282825891079324, 0.022282825891079324, 0.022282825891079324, 0.022075539284417398, 0.022075539284417398, 0.022075539284417398, 0.022075539284417398, 0.022075539284417398, 0.022075539284417398, 0.022075539284417398, 0.022075539284417398, 0.022075539284417398, 0.022075539284417398, 0.022075539284417398, 0.022075539284417398, 0.022075539284417398, 0.022075539284417398, 0.022075539284417398, 0.022075539284417398, 0.022075539284417398, 0.022075539284417398, 0.022075539284417398, 0.022075539284417398, 0.021873931962990357, 0.021873931962990357, 0.021873931962990357, 0.021873931962990357, 0.021873931962990357, 0.021873931962990357, 0.021873931962990357, 0.021873931962990357, 0.021873931962990357, 0.021873931962990357, 0.021873931962990357, 0.021873931962990357, 0.021873931962990357, 0.021873931962990357, 0.021677749238103002, 0.021677749238103002, 0.021677749238103002, 0.021677749238103002, 0.021677749238103002, 0.021677749238103002, 0.021677749238103002, 0.021677749238103002, 0.021677749238103002, 0.021486752129677003, 0.021486752129677003, 0.021486752129677003, 0.021486752129677003, 0.021486752129677003, 0.021486752129677003, 0.021486752129677003, 0.021486752129677003, 0.021486752129677003, 0.021486752129677003, 0.021486752129677003, 0.021486752129677003, 0.021486752129677003, 0.021486752129677003, 0.021486752129677003, 0.021300716142115247, 0.021300716142115247, 0.021300716142115247, 0.021300716142115247, 0.021300716142115247, 0.021300716142115247, 0.021300716142115247, 0.021300716142115247, 0.021300716142115247, 0.021300716142115247, 0.021300716142115247, 0.021300716142115247, 0.021300716142115247, 0.021300716142115247, 0.021119430154775586, 0.021119430154775586, 0.021119430154775586, 0.021119430154775586, 0.021119430154775586, 0.021119430154775586, 0.021119430154775586, 0.021119430154775586, 0.020942695414584774, 0.020942695414584774, 0.020942695414584774, 0.020942695414584774, 0.020942695414584774, 0.020942695414584774, 0.020942695414584774, 0.020942695414584774, 0.020942695414584774, 0.020942695414584774, 0.0207703246198632, 0.0207703246198632, 0.0207703246198632, 0.0207703246198632, 0.0207703246198632, 0.0207703246198632, 0.0207703246198632, 0.0207703246198632, 0.0207703246198632, 0.0207703246198632, 0.0207703246198632, 0.0207703246198632, 0.0207703246198632, 0.02060214108575823, 0.02060214108575823, 0.02060214108575823, 0.02060214108575823, 0.02060214108575823, 0.02060214108575823, 0.02060214108575823, 0.02060214108575823, 0.02043797798283219, 0.02043797798283219, 0.02043797798283219, 0.02043797798283219, 0.02043797798283219, 0.02043797798283219, 0.02043797798283219, 0.02043797798283219, 0.02043797798283219, 0.02043797798283219, 0.02043797798283219, 0.02043797798283219, 0.02043797798283219, 0.020277677641345318, 0.020277677641345318, 0.020277677641345318, 0.020277677641345318, 0.020277677641345318, 0.020277677641345318, 0.020277677641345318, 0.020277677641345318, 0.020277677641345318, 0.020277677641345318, 0.020277677641345318, 0.020277677641345318, 0.020277677641345318, 0.020121090914638345, 0.020121090914638345, 0.020121090914638345, 0.020121090914638345, 0.020121090914638345, 0.020121090914638345, 0.020121090914638345, 0.020121090914638345, 0.020121090914638345, 0.020121090914638345, 0.019968076595771794, 0.019968076595771794, 0.019968076595771794, 0.019968076595771794, 0.019968076595771794, 0.019968076595771794, 0.019968076595771794, 0.019968076595771794, 0.019968076595771794, 0.019968076595771794, 0.019968076595771794, 0.01981850088223545, 0.01981850088223545, 0.01981850088223545, 0.01981850088223545, 0.01981850088223545, 0.01981850088223545, 0.019672236884115842, 0.019672236884115842, 0.019672236884115842, 0.019672236884115842, 0.019672236884115842, 0.019672236884115842, 0.019672236884115842, 0.019672236884115842, 0.019672236884115842, 0.019672236884115842, 0.019529164171612674, 0.019529164171612674, 0.019529164171612674, 0.019529164171612674, 0.019529164171612674, 0.019529164171612674, 0.019529164171612674, 0.019529164171612674, 0.019529164171612674, 0.019389168358237032, 0.019389168358237032, 0.019389168358237032, 0.019389168358237032, 0.019389168358237032, 0.019389168358237032, 0.019252140716412975, 0.019252140716412975, 0.019252140716412975, 0.019252140716412975, 0.019252140716412975, 0.019252140716412975, 0.019117977822546817, 0.019117977822546817, 0.018857857160117855, 0.018857857160117855, 0.018857857160117855, 0.018857857160117855, 0.018857857160117855, 0.018731716231633878, 0.018731716231633878, 0.018731716231633878, 0.018731716231633878, 0.01860807318911967, 0.01860807318911967, 0.01860807318911967, 0.018486846666163393, 0.018486846666163393, 0.018486846666163393, 0.018367958959266125, 0.018367958959266125, 0.018367958959266125, 0.018367958959266125, 0.01813690625275029, 0.01813690625275029, 0.01813690625275029, 0.01813690625275029, 0.018024602347862503, 0.018024602347862503, 0.017914359097500464, 0.017806114244894068, 0.01769980813511972, 0.017595383576944672, 0.017595383576944672, 0.01749278571353299, 0.01749278571353299, 0.01749278571353299, 0.01749278571353299, 0.017292861596651866, 0.017292861596651866, 0.017195436249022724, 0.017195436249022724, 0.017195436249022724, 0.017099639201419235, 0.017099639201419235, 0.017005425596285897, 0.016821577756312225, 0.016821577756312225, 0.016821577756312225, 0.016821577756312225, 0.016821577756312225, 0.016731862035256367, 0.016731862035256367, 0.016643566632465155, 0.016643566632465155, 0.016643566632465155, 0.01647108978476456, 0.016386838133611553, 0.016303866268150616, 0.016303866268150616, 0.016303866268150616, 0.016303866268150616, 0.01606231415508089, 0.015984151578556007, 0.015984151578556007, 0.015907119074394446, 0.01583118967153259, 0.015682536711195138, 0.015682536711195138, 0.015609763526361568, 0.014870813293635054, 0.014686837386151168, 0.014627012952620635, 0.014567913668701625, 0.014394823400711486, 0.014338483366910109, 0.014282799726001058, 0.014173351371926586, 0.014173351371926586, 0.01391037210186643, 0.013809204416652687, 0.013565636727259562, 0.013425540338526368, 0.012988108336653278, 0.01255307044856882, 0.011991752510433929, 0.011302501972710611, 0.0, 0.0, 0.0, 0.0, 0.0, 0.0, 0.0, 0.0, 0.0, 0.0, 0.0, 0.0, 0.0, 0.0, 0.0, 0.0, 0.0, 0.0, 0.0, 0.0, 0.0, 0.0, 0.0, 0.0, 0.0, 0.0, 0.0, 0.0, 0.0, 0.0, 0.0, 0.0, 0.0, 0.0, 0.0, 0.0, 0.0, 0.0, 0.0, 0.0, 0.0, 0.0, 0.0, 0.0, 0.0, 0.0, 0.0, 0.0, 0.0, 0.0, 0.0, 0.0, 0.0, 0.0, 0.0, 0.0, 0.0, 0.0, 0.0, 0.0, 0.0, 0.0, 0.0, 0.0, 0.0, 0.0, 0.0, 0.0, 0.0, 0.0, 0.0, 0.0, 0.0, 0.0, 0.0, 0.0, 0.0, 0.0, 0.0, 0.0, 0.0, 0.0, 0.0, 0.0, 0.0, 0.0, 0.0, 0.0, 0.0, 0.0, 0.0, 0.0, 0.0, 0.0, 0.0, 0.0, 0.0, 0.0, 0.0, 0.0, 0.0, 0.0, 0.0, 0.0, 0.0, 0.0, 0.0, 0.0, 0.0, 0.0, 0.0, 0.0, 0.0, 0.0, 0.0, 0.0, 0.0, 0.0, 0.0, 0.0, 0.0, 0.0, 0.0, 0.0, 0.0, 0.0, 0.0, 0.0, 0.0, 0.0, 0.0, 0.0, 0.0, 0.0, 0.0, 0.0, 0.0, 0.0, 0.0, 0.0, 0.0, 0.0, 0.0, 0.0, 0.0, 0.0, 0.0, 0.0, 0.0, 0.0, 0.0, 0.0, 0.0, 0.0, 0.0, 0.0, 0.0, 0.0, 0.0, 0.0, 0.0, 0.0, 0.0, 0.0, 0.0, 0.0, 0.0, 0.0, 0.0, 0.0, 0.0, 0.0, 0.0, 0.0, 0.0, 0.0, 0.0, 0.0, 0.0, 0.0, 0.0, 0.0, 0.0, 0.0, 0.0, 0.0, 0.0, 0.0, 0.0, 0.0, 0.0, 0.0, 0.0, 0.0, 0.0, 0.0, 0.0, 0.0, 0.0, 0.0, 0.0, 0.0, 0.0, 0.0, 0.0, 0.0, 0.0, 0.0, 0.0, 0.0, 0.0, 0.0, 0.0, 0.0, 0.0, 0.0, 0.0, 0.0, 0.0, 0.0, 0.0, 0.0, 0.0, 0.0, 0.0, 0.0, 0.0, 0.0, 0.0, 0.0, 0.0, 0.0, 0.0, 0.0, 0.0, 0.0, 0.0, 0.0, 0.0, 0.0, 0.0, 0.0, 0.0, 0.0, 0.0, 0.0, 0.0, 0.0, 0.0, 0.0, 0.0, 0.0, 0.0, 0.0, 0.0, 0.0, 0.0, 0.0, 0.0, 0.0, 0.0, 0.0, 0.0, 0.0, 0.0, 0.0, 0.0, 0.0, 0.0, 0.0, 0.0, 0.0, 0.0, 0.0, 0.0, 0.0, 0.0, 0.0, 0.0, 0.0, 0.0, 0.0, 0.0, 0.0, 0.0, 0.0, 0.0, 0.0, 0.0, 0.0, 0.0, 0.0, 0.0, 0.0, 0.0, 0.0, 0.0, 0.0, 0.0, 0.0, 0.0, 0.0, 0.0, 0.0, 0.0, 0.0, 0.0, 0.0, 0.0, 0.0, 0.0, 0.0, 0.0, 0.0, 0.0, 0.0, 0.0, 0.0, 0.0, 0.0, 0.0, 0.0, 0.0, 0.0, 0.0, 0.0, 0.0, 0.0, 0.0, 0.0, 0.0, 0.0, 0.0, 0.0, 0.0, 0.0, 0.0, 0.0, 0.0, 0.0, 0.0, 0.0, 0.0, 0.0, 0.0, 0.0, 0.0, 0.0, 0.0, 0.0, 0.0, 0.0, 0.0, 0.0, 0.0, 0.0, 0.0, 0.0, 0.0, 0.0, 0.0, 0.0, 0.0, 0.0, 0.0, 0.0, 0.0, 0.0, 0.0, 0.0, 0.0, 0.0, 0.0, 0.0, 0.0, 0.0, 0.0, 0.0, 0.0, 0.0, 0.0, 0.0, 0.0, 0.0, 0.0, 0.0, 0.0, 0.0, 0.0, 0.0, 0.0, 0.0, 0.0, 0.0, 0.0, 0.0, 0.0, 0.0, 0.0, 0.0, 0.0, 0.0, 0.0, 0.0, 0.0, 0.0, 0.0, 0.0, 0.0, 0.0, 0.0, 0.0, 0.0, 0.0, 0.0, 0.0, 0.0, 0.0, 0.0, 0.0, 0.0, 0.0, 0.0, 0.0, 0.0, 0.0, 0.0, 0.0, 0.0, 0.0, 0.0, 0.0, 0.0, 0.0, 0.0, 0.0, 0.0, 0.0, 0.0, 0.0, 0.0, 0.0, 0.0, 0.0, 0.0, 0.0, 0.0, 0.0, 0.0, 0.0, 0.0, 0.0, 0.0, 0.0, 0.0, 0.0, 0.0, 0.0, 0.0, 0.0, 0.0, 0.0, 0.0, 0.0, 0.0, 0.0, 0.0, 0.0, 0.0, 0.0, 0.0, 0.0, 0.0, 0.0, 0.0, 0.0, 0.0, 0.0, 0.0, 0.0, 0.0, 0.0, 0.0, 0.0, 0.0, 0.0, 0.0, 0.0, 0.0, 0.0, 0.0, 0.0, 0.0, 0.0, 0.0, 0.0, 0.0, 0.0, 0.0, 0.0, 0.0, 0.0, 0.0, 0.0, 0.0, 0.0, 0.0, 0.0, 0.0, 0.0, 0.0, 0.0, 0.0, 0.0, 0.0, 0.0, 0.0, 0.0, 0.0, 0.0, 0.0, 0.0, 0.0, 0.0, 0.0, 0.0, 0.0, 0.0, 0.0, 0.0, 0.0, 0.0, 0.0, 0.0, 0.0, 0.0, 0.0, 0.0, 0.0, 0.0, 0.0, 0.0, 0.0, 0.0, 0.0, 0.0, 0.0, 0.0, 0.0, 0.0, 0.0, 0.0, 0.0, 0.0, 0.0, 0.0, 0.0, 0.0, 0.0, 0.0, 0.0, 0.0, 0.0, 0.0, 0.0, 0.0, 0.0, 0.0, 0.0, 0.0, 0.0, 0.0, 0.0, 0.0, 0.0, 0.0, 0.0, 0.0, 0.0, 0.0, 0.0, 0.0, 0.0, 0.0, 0.0, 0.0, 0.0, 0.0, 0.0, 0.0, 0.0, 0.0, 0.0, 0.0, 0.0, 0.0, 0.0, 0.0, 0.0, 0.0, 0.0, 0.0, 0.0, 0.0, 0.0, 0.0, 0.0, 0.0, 0.0, 0.0, 0.0, 0.0, 0.0, 0.0, 0.0, 0.0, 0.0, 0.0, 0.0, 0.0, 0.0, 0.0, 0.0, 0.0, 0.0, 0.0, 0.0, 0.0, 0.0, 0.0, 0.0, 0.0, 0.0, 0.0, 0.0, 0.0, 0.0, 0.0, 0.0, 0.0, 0.0, 0.0, 0.0, 0.0, 0.0, 0.0, 0.0, 0.0, 0.0, 0.0, 0.0, 0.0, 0.0, 0.0, 0.0, 0.0, 0.0, 0.0, 0.0, 0.0, 0.0, 0.0, 0.0, 0.0, 0.0, 0.0, 0.0, 0.0, 0.0, 0.0, 0.0, 0.0, 0.0, 0.0, 0.0, 0.0, 0.0, 0.0, 0.0, 0.0, 0.0, 0.0, 0.0, 0.0, 0.0, 0.0, 0.0, 0.0, 0.0, 0.0, 0.0, 0.0, 0.0, 0.0, 0.0, 0.0, 0.0, 0.0, 0.0, 0.0, 0.0, 0.0, 0.0, 0.0, 0.0, 0.0, 0.0, 0.0, 0.0, 0.0, 0.0, 0.0, 0.0, 0.0, 0.0, 0.0, 0.0, 0.0, 0.0, 0.0, 0.0, 0.0, 0.0, 0.0, 0.0, 0.0, 0.0, 0.0, 0.0, 0.0, 0.0, 0.0, 0.0, 0.0, 0.0, 0.0, 0.0, 0.0, 0.0, 0.0, 0.0, 0.0, 0.0, 0.0, 0.0, 0.0, 0.0, 0.0, 0.0, 0.0, 0.0, 0.0, 0.0, 0.0, 0.0, 0.0, 0.0, 0.0, 0.0, 0.0, 0.0, 0.0, 0.0, 0.0, 0.0, 0.0, 0.0, 0.0, 0.0, 0.0, 0.0, 0.0, 0.0, 0.0, 0.0, 0.0, 0.0, 0.0, 0.0, 0.0, 0.0, 0.0, 0.0, 0.0, 0.0, 0.0, 0.0, 0.0, 0.0, 0.0, 0.0, 0.0, 0.0, 0.0, 0.0, 0.0, 0.0, 0.0, 0.0, 0.0, 0.0, 0.0, 0.0, 0.0, 0.0, 0.0, 0.0, 0.0, 0.0, 0.0, 0.0, 0.0, 0.0, 0.0, 0.0, 0.0, 0.0, 0.0, 0.0, 0.0, 0.0, 0.0, 0.0, 0.0, 0.0, 0.0, 0.0, 0.0, 0.0, 0.0, 0.0, 0.0, 0.0, 0.0, 0.0, 0.0, 0.0, 0.0, 0.0, 0.0, 0.0, 0.0, 0.0, 0.0, 0.0, 0.0, 0.0, 0.0, 0.0, 0.0, 0.0, 0.0, 0.0, 0.0, 0.0, 0.0, 0.0, 0.0, 0.0, 0.0, 0.0, 0.0, 0.0, 0.0, 0.0, 0.0, 0.0, 0.0, 0.0, 0.0, 0.0, 0.0, 0.0, 0.0, 0.0, 0.0, 0.0, 0.0, 0.0, 0.0, 0.0, 0.0, 0.0, 0.0, 0.0, 0.0, 0.0, 0.0, 0.0, 0.0, 0.0, 0.0, 0.0, 0.0, 0.0, 0.0, 0.0, 0.0, 0.0, 0.0, 0.0, 0.0, 0.0, 0.0, 0.0, 0.0, 0.0, 0.0, 0.0, 0.0, 0.0, 0.0, 0.0, 0.0, 0.0, 0.0, 0.0, 0.0, 0.0, 0.0, 0.0, 0.0, 0.0, 0.0, 0.0, 0.0, 0.0, 0.0, 0.0, 0.0, 0.0, 0.0, 0.0, 0.0, 0.0, 0.0, 0.0, 0.0, 0.0, 0.0, 0.0, 0.0, 0.0, 0.0, 0.0, 0.0, 0.0, 0.0, 0.0, 0.0, 0.0, 0.0, 0.0, 0.0, 0.0, 0.0, 0.0, 0.0, 0.0, 0.0, 0.0, 0.0, 0.0, 0.0, 0.0, 0.0, 0.0, 0.0, 0.0, 0.0, 0.0, 0.0, 0.0, 0.0, 0.0, 0.0, 0.0, 0.0, 0.0, 0.0, 0.0, 0.0, 0.0, 0.0, 0.0, 0.0, 0.0, 0.0, 0.0, 0.0, 0.0, 0.0, 0.0, 0.0, 0.0, 0.0, 0.0, 0.0, 0.0, 0.0, 0.0, 0.0, 0.0, 0.0, 0.0, 0.0, 0.0, 0.0, 0.0, 0.0, 0.0, 0.0, 0.0, 0.0, 0.0, 0.0, 0.0, 0.0, 0.0, 0.0, 0.0, 0.0, 0.0, 0.0, 0.0, 0.0, 0.0, 0.0, 0.0, 0.0, 0.0, 0.0, 0.0, 0.0, 0.0, 0.0, 0.0, 0.0, 0.0, 0.0, 0.0, 0.0, 0.0, 0.0, 0.0, 0.0, 0.0, 0.0, 0.0, 0.0, 0.0, 0.0, 0.0, 0.0, 0.0, 0.0, 0.0, 0.0, 0.0, 0.0, 0.0, 0.0, 0.0, 0.0, 0.0, 0.0, 0.0, 0.0, 0.0, 0.0, 0.0, 0.0, 0.0, 0.0, 0.0, 0.0, 0.0, 0.0, 0.0, 0.0, 0.0, 0.0, 0.0, 0.0, 0.0, 0.0, 0.0, 0.0, 0.0, 0.0, 0.0, 0.0, 0.0, 0.0, 0.0, 0.0, 0.0, 0.0, 0.0, 0.0, 0.0, 0.0, 0.0, 0.0, 0.0, 0.0, 0.0, 0.0, 0.0, 0.0, 0.0, 0.0, 0.0, 0.0, 0.0, 0.0, 0.0, 0.0, 0.0, 0.0, 0.0, 0.0, 0.0, 0.0, 0.0, 0.0, 0.0, 0.0, 0.0, 0.0, 0.0, 0.0, 0.0, 0.0, 0.0, 0.0, 0.0, 0.0, 0.0, 0.0, 0.0, 0.0, 0.0, 0.0, 0.0, 0.0, 0.0, 0.0, 0.0, 0.0, 0.0, 0.0, 0.0, 0.0, 0.0, 0.0, 0.0, 0.0, 0.0, 0.0, 0.0, 0.0, 0.0, 0.0, 0.0, 0.0, 0.0, 0.0, 0.0, 0.0, 0.0, 0.0, 0.0, 0.0, 0.0, 0.0, 0.0, 0.0, 0.0, 0.0, 0.0, 0.0, 0.0, 0.0, 0.0, 0.0, 0.0, 0.0, 0.0, 0.0, 0.0, 0.0, 0.0, 0.0, 0.0, 0.0, 0.0, 0.0, 0.0, 0.0, 0.0, 0.0, 0.0, 0.0, 0.0, 0.0, 0.0, 0.0, 0.0, 0.0, 0.0, 0.0, 0.0, 0.0, 0.0, 0.0, 0.0, 0.0, 0.0, 0.0, 0.0, 0.0, 0.0, 0.0, 0.0, 0.0, 0.0, 0.0, 0.0, 0.0, 0.0, 0.0, 0.0, 0.0, 0.0, 0.0, 0.0, 0.0, 0.0, 0.0, 0.0, 0.0, 0.0, 0.0, 0.0, 0.0, 0.0, 0.0, 0.0, 0.0, 0.0, 0.0, 0.0, 0.0, 0.0, 0.0, 0.0, 0.0, 0.0, 0.0, 0.0, 0.0, 0.0, 0.0, 0.0, 0.0, 0.0, 0.0, 0.0, 0.0, 0.0, 0.0, 0.0, 0.0, 0.0, 0.0, 0.0, 0.0, 0.0, 0.0, 0.0, 0.0, 0.0, 0.0, 0.0, 0.0, 0.0, 0.0, 0.0, 0.0, 0.0, 0.0, 0.0, 0.0, 0.0, 0.0, 0.0, 0.0, 0.0, 0.0, 0.0, 0.0, 0.0, 0.0, 0.0, 0.0, 0.0, 0.0, 0.0, 0.0, 0.0, 0.0, 0.0, 0.0, 0.0, 0.0, 0.0, 0.0, 0.0, 0.0, 0.0, 0.0, 0.0, 0.0, 0.0, 0.0, 0.0, 0.0, 0.0, 0.0, 0.0, 0.0, 0.0, 0.0, 0.0, 0.0, 0.0, 0.0, 0.0, 0.0, 0.0, 0.0, 0.0, 0.0, 0.0, 0.0, 0.0, 0.0, 0.0, 0.0, 0.0, 0.0, 0.0, 0.0, 0.0, 0.0, 0.0, 0.0, 0.0, 0.0, 0.0, 0.0, 0.0, 0.0, 0.0, 0.0, 0.0, 0.0, 0.0, 0.0, 0.0, 0.0, 0.0, 0.0, 0.0, 0.0, 0.0, 0.0, 0.0, 0.0, 0.0, 0.0, 0.0, 0.0, 0.0, 0.0, 0.0, 0.0, 0.0, 0.0, 0.0, 0.0, 0.0, 0.0, 0.0, 0.0, 0.0, 0.0, 0.0, 0.0, 0.0, 0.0, 0.0, 0.0, 0.0, 0.0, 0.0, 0.0, 0.0, 0.0, 0.0, 0.0, 0.0, 0.0, 0.0, 0.0, 0.0, 0.0, 0.0, 0.0, 0.0, 0.0, 0.0, 0.0, 0.0, 0.0, 0.0, 0.0, 0.0, 0.0, 0.0, 0.0, 0.0, 0.0, 0.0, 0.0, 0.0, 0.0, 0.0, 0.0, 0.0, 0.0, 0.0, 0.0, 0.0, 0.0, 0.0, 0.0, 0.0, 0.0, 0.0, 0.0, 0.0, 0.0, 0.0, 0.0, 0.0, 0.0, 0.0, 0.0, 0.0, 0.0, 0.0, 0.0, 0.0, 0.0, 0.0, 0.0, 0.0, 0.0, 0.0, 0.0, 0.0, 0.0, 0.0, 0.0, 0.0, 0.0, 0.0, 0.0, 0.0, 0.0, 0.0, 0.0, 0.0, 0.0, 0.0, 0.0, 0.0, 0.0, 0.0, 0.0, 0.0, 0.0, 0.0, 0.0, 0.0, 0.0, 0.0, 0.0, 0.0, 0.0, 0.0, 0.0, 0.0, 0.0, 0.0, 0.0, 0.0, 0.0, 0.0, 0.0, 0.0, 0.0, 0.0, 0.0, 0.0, 0.0, 0.0, 0.0, 0.0, 0.0, 0.0, 0.0, 0.0, 0.0, 0.0, 0.0, 0.0, 0.0, 0.0, 0.0, 0.0, 0.0, 0.0, 0.0, 0.0, 0.0, 0.0, 0.0, 0.0, 0.0, 0.0, 0.0, 0.0, 0.0, 0.0, 0.0, 0.0, 0.0, 0.0, 0.0, 0.0, 0.0, 0.0, 0.0, 0.0, 0.0, 0.0, 0.0, 0.0, 0.0, 0.0, 0.0, 0.0, 0.0, 0.0, 0.0, 0.0, 0.0, 0.0, 0.0, 0.0, 0.0, 0.0, 0.0, 0.0]\n"
     ]
    }
   ],
   "source": [
    "print(sorted(similarity[0],reverse=True))  # isse sort hora hai descending order mai"
   ]
  },
  {
   "cell_type": "markdown",
   "id": "049836d1-d991-4dee-bf2d-8514b246b3e8",
   "metadata": {},
   "source": [
    "##### uper wale code se hm sort tho kr pare the lekin hme oska index yani movie ni pta chlri thi ki konsi hai\n",
    "###### isliye hm ye krege"
   ]
  },
  {
   "cell_type": "code",
   "execution_count": 68,
   "id": "1c6e2421-2416-4471-8f10-78e4901b5eee",
   "metadata": {},
   "outputs": [
    {
     "data": {
      "text/plain": [
       "[(1216, 0.28676966733820225),\n",
       " (2409, 0.26901379342448517),\n",
       " (3730, 0.2605130246476754),\n",
       " (507, 0.255608593705383),\n",
       " (539, 0.25038669783359574)]"
      ]
     },
     "execution_count": 68,
     "metadata": {},
     "output_type": "execute_result"
    }
   ],
   "source": [
    "# sorted(list(enumerate(similarity[0])),reverse=True)   # list enumerate hr row ka index liaata hai lekin isse vo index value k base pr sort krra hai\n",
    "sorted(list(enumerate(similarity[0])),reverse=True, key=lambda x: x[1])[1:6] \n",
    "# key se hm x k ander 2nd column ko dekh re hai yani similarity wala column dekh re hai or hme top 5 chaiye oske liye [1:6] krre hai"
   ]
  },
  {
   "cell_type": "code",
   "execution_count": 69,
   "id": "cd9e52f3-8cbd-4f9b-a314-9d8bfaac6ffe",
   "metadata": {},
   "outputs": [
    {
     "data": {
      "text/html": [
       "<div>\n",
       "<style scoped>\n",
       "    .dataframe tbody tr th:only-of-type {\n",
       "        vertical-align: middle;\n",
       "    }\n",
       "\n",
       "    .dataframe tbody tr th {\n",
       "        vertical-align: top;\n",
       "    }\n",
       "\n",
       "    .dataframe thead th {\n",
       "        text-align: right;\n",
       "    }\n",
       "</style>\n",
       "<table border=\"1\" class=\"dataframe\">\n",
       "  <thead>\n",
       "    <tr style=\"text-align: right;\">\n",
       "      <th></th>\n",
       "      <th>id</th>\n",
       "      <th>title</th>\n",
       "      <th>tag</th>\n",
       "    </tr>\n",
       "  </thead>\n",
       "  <tbody>\n",
       "    <tr>\n",
       "      <th>0</th>\n",
       "      <td>19995</td>\n",
       "      <td>Avatar</td>\n",
       "      <td>action adventur fantasi sciencefict culturecla...</td>\n",
       "    </tr>\n",
       "  </tbody>\n",
       "</table>\n",
       "</div>"
      ],
      "text/plain": [
       "      id   title                                                tag\n",
       "0  19995  Avatar  action adventur fantasi sciencefict culturecla..."
      ]
     },
     "execution_count": 69,
     "metadata": {},
     "output_type": "execute_result"
    }
   ],
   "source": [
    "new_df[new_df['title']=='Avatar']"
   ]
  },
  {
   "cell_type": "code",
   "execution_count": 78,
   "id": "96ed49e3-a984-4a21-98d7-35484bf7b2ab",
   "metadata": {},
   "outputs": [
    {
     "data": {
      "text/plain": [
       "0"
      ]
     },
     "execution_count": 78,
     "metadata": {},
     "output_type": "execute_result"
    }
   ],
   "source": [
    "new_df[new_df['title']=='Avatar'].index[0]"
   ]
  },
  {
   "cell_type": "markdown",
   "id": "ec992130-f631-4d32-abfe-685e71954486",
   "metadata": {},
   "source": [
    "#### function bnayge jo movie name le or oska index nikaal kr similarity check krege dusro se or top 5 nikalege"
   ]
  },
  {
   "cell_type": "code",
   "execution_count": 71,
   "id": "0aef5f84-1a5a-4888-87d1-336e5f167ed3",
   "metadata": {},
   "outputs": [],
   "source": [
    "def recommend(movie):\n",
    "    n = pd.DataFrame(columns=['id','title','tag'])   # iske ander recommended movies aaygi\n",
    "    movie_index = new_df[new_df['title']==movie].index[0]   # movie ka index milega\n",
    "    distance = similarity[movie_index]    # oska similarity check krege oro se\n",
    "    movies_list = sorted(list(enumerate(distance)),reverse=True,key=lambda x:x[1])[1:6]  # top 5 nikalege\n",
    "    for i in movies_list:\n",
    "        id1 = new_df.iloc[i[0]].id    # index value se id column ki value nikalege\n",
    "        a = new_df[new_df['id']==id1]    # hmare data mai se vo id ki details nikalege jo i mai store hai\n",
    "        n = pd.concat([n,a])     # loop hmare dataframe mai new item add krti rhegi  \n",
    "    return n[\"title\"].reset_index(drop=True)\n",
    "        \n",
    "      "
   ]
  },
  {
   "cell_type": "code",
   "execution_count": 72,
   "id": "4c776b57-1e45-4822-b8db-1b05ed50a5f9",
   "metadata": {},
   "outputs": [
    {
     "data": {
      "text/plain": [
       "0          The Dark Knight\n",
       "1                   Batman\n",
       "2                   Batman\n",
       "3                   Batman\n",
       "4                   Batman\n",
       "5    The Dark Knight Rises\n",
       "6              10th & Wolf\n",
       "Name: title, dtype: object"
      ]
     },
     "execution_count": 72,
     "metadata": {},
     "output_type": "execute_result"
    }
   ],
   "source": [
    "recommend('Batman Begins')"
   ]
  },
  {
   "cell_type": "code",
   "execution_count": 73,
   "id": "d22279a1-7b36-4d1e-ad5f-0a4535c6ce4d",
   "metadata": {},
   "outputs": [
    {
     "data": {
      "text/plain": [
       "'Aliens vs Predator: Requiem'"
      ]
     },
     "execution_count": 73,
     "metadata": {},
     "output_type": "execute_result"
    }
   ],
   "source": [
    "new_df.iloc[1216].title"
   ]
  },
  {
   "cell_type": "markdown",
   "id": "f080c156-9e9f-444b-8ca9-4a76868b0b69",
   "metadata": {},
   "source": [
    "##### hme movie ka list apne website pr dalna hai tho is file ko hm pickle ki help se yha dump krege or wha load"
   ]
  },
  {
   "cell_type": "code",
   "execution_count": 75,
   "id": "af98b46e-4c0a-4cd0-aa62-7aaffe004fab",
   "metadata": {},
   "outputs": [],
   "source": [
    "import pickle"
   ]
  },
  {
   "cell_type": "code",
   "execution_count": 76,
   "id": "ac6cabc1-e33d-4778-9abd-1d2d689697a5",
   "metadata": {},
   "outputs": [],
   "source": [
    "pickle.dump(new_df,open('movies.pkl','wb'))"
   ]
  },
  {
   "cell_type": "code",
   "execution_count": 79,
   "id": "1bcad2f4-97d7-41f8-a8cd-2c03b56f6eb3",
   "metadata": {},
   "outputs": [],
   "source": [
    "pickle.dump(similarity,open('similarity.pkl','wb'))"
   ]
  },
  {
   "cell_type": "code",
   "execution_count": 80,
   "id": "13798b9d-6f2d-4dbc-9693-e2ad6252b7b5",
   "metadata": {},
   "outputs": [
    {
     "data": {
      "text/html": [
       "<div>\n",
       "<style scoped>\n",
       "    .dataframe tbody tr th:only-of-type {\n",
       "        vertical-align: middle;\n",
       "    }\n",
       "\n",
       "    .dataframe tbody tr th {\n",
       "        vertical-align: top;\n",
       "    }\n",
       "\n",
       "    .dataframe thead th {\n",
       "        text-align: right;\n",
       "    }\n",
       "</style>\n",
       "<table border=\"1\" class=\"dataframe\">\n",
       "  <thead>\n",
       "    <tr style=\"text-align: right;\">\n",
       "      <th></th>\n",
       "      <th>id</th>\n",
       "      <th>title</th>\n",
       "      <th>tag</th>\n",
       "    </tr>\n",
       "  </thead>\n",
       "  <tbody>\n",
       "    <tr>\n",
       "      <th>0</th>\n",
       "      <td>19995</td>\n",
       "      <td>Avatar</td>\n",
       "      <td>action adventur fantasi sciencefict culturecla...</td>\n",
       "    </tr>\n",
       "    <tr>\n",
       "      <th>1</th>\n",
       "      <td>285</td>\n",
       "      <td>Pirates of the Caribbean: At World's End</td>\n",
       "      <td>adventur fantasi action ocean drugabus exotici...</td>\n",
       "    </tr>\n",
       "    <tr>\n",
       "      <th>2</th>\n",
       "      <td>206647</td>\n",
       "      <td>Spectre</td>\n",
       "      <td>action adventur crime spi basedonnovel secreta...</td>\n",
       "    </tr>\n",
       "    <tr>\n",
       "      <th>3</th>\n",
       "      <td>49026</td>\n",
       "      <td>The Dark Knight Rises</td>\n",
       "      <td>action crime drama thriller dccomic crimefight...</td>\n",
       "    </tr>\n",
       "    <tr>\n",
       "      <th>4</th>\n",
       "      <td>49529</td>\n",
       "      <td>John Carter</td>\n",
       "      <td>action adventur sciencefict basedonnovel mar m...</td>\n",
       "    </tr>\n",
       "  </tbody>\n",
       "</table>\n",
       "</div>"
      ],
      "text/plain": [
       "       id                                     title  \\\n",
       "0   19995                                    Avatar   \n",
       "1     285  Pirates of the Caribbean: At World's End   \n",
       "2  206647                                   Spectre   \n",
       "3   49026                     The Dark Knight Rises   \n",
       "4   49529                               John Carter   \n",
       "\n",
       "                                                 tag  \n",
       "0  action adventur fantasi sciencefict culturecla...  \n",
       "1  adventur fantasi action ocean drugabus exotici...  \n",
       "2  action adventur crime spi basedonnovel secreta...  \n",
       "3  action crime drama thriller dccomic crimefight...  \n",
       "4  action adventur sciencefict basedonnovel mar m...  "
      ]
     },
     "execution_count": 80,
     "metadata": {},
     "output_type": "execute_result"
    }
   ],
   "source": [
    "new_df.head()"
   ]
  },
  {
   "cell_type": "code",
   "execution_count": null,
   "id": "a0942e8a-2ab4-45a0-b1dd-8c59868191e5",
   "metadata": {},
   "outputs": [],
   "source": []
  }
 ],
 "metadata": {
  "kernelspec": {
   "display_name": "Python 3 (ipykernel)",
   "language": "python",
   "name": "python3"
  },
  "language_info": {
   "codemirror_mode": {
    "name": "ipython",
    "version": 3
   },
   "file_extension": ".py",
   "mimetype": "text/x-python",
   "name": "python",
   "nbconvert_exporter": "python",
   "pygments_lexer": "ipython3",
   "version": "3.12.0"
  }
 },
 "nbformat": 4,
 "nbformat_minor": 5
}
